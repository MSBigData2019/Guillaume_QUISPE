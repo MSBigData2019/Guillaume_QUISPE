{
 "cells": [
  {
   "cell_type": "markdown",
   "metadata": {},
   "source": [
    "# TP3 "
   ]
  },
  {
   "cell_type": "markdown",
   "metadata": {},
   "source": [
    "### 1)"
   ]
  },
  {
   "cell_type": "code",
   "execution_count": 1,
   "metadata": {
    "scrolled": true
   },
   "outputs": [],
   "source": [
    "#%matplotlib notebook\n",
    "import pandas as pd\n",
    "import matplotlib.pyplot as plt\n",
    "import numpy as np\n",
    "from sklearn.linear_model import LinearRegression\n",
    "from mpl_toolkits.mplot3d import Axes3D\n",
    "from scipy.stats import t\n",
    "from sklearn.model_selection import train_test_split\n",
    "from sklearn.metrics import mean_squared_error\n",
    "from pandas.plotting import scatter_matrix\n",
    "import seaborn as sns\n",
    "import statsmodels.api as sm\n",
    "from sklearn.preprocessing import StandardScaler\n",
    "from scipy.stats import norm\n",
    "from sklearn.model_selection import KFold\n",
    "from sklearn.linear_model import Ridge\n",
    "from sklearn.linear_model import LassoCV\n",
    "\n"
   ]
  },
  {
   "cell_type": "code",
   "execution_count": 2,
   "metadata": {},
   "outputs": [],
   "source": [
    "scoresTP=dict()"
   ]
  },
  {
   "cell_type": "code",
   "execution_count": 3,
   "metadata": {},
   "outputs": [
    {
     "data": {
      "text/html": [
       "<div>\n",
       "<style scoped>\n",
       "    .dataframe tbody tr th:only-of-type {\n",
       "        vertical-align: middle;\n",
       "    }\n",
       "\n",
       "    .dataframe tbody tr th {\n",
       "        vertical-align: top;\n",
       "    }\n",
       "\n",
       "    .dataframe thead th {\n",
       "        text-align: right;\n",
       "    }\n",
       "</style>\n",
       "<table border=\"1\" class=\"dataframe\">\n",
       "  <thead>\n",
       "    <tr style=\"text-align: right;\">\n",
       "      <th></th>\n",
       "      <th>0</th>\n",
       "      <th>1</th>\n",
       "      <th>2</th>\n",
       "      <th>3</th>\n",
       "      <th>4</th>\n",
       "      <th>5</th>\n",
       "      <th>6</th>\n",
       "      <th>7</th>\n",
       "      <th>8</th>\n",
       "      <th>9</th>\n",
       "      <th>...</th>\n",
       "      <th>201</th>\n",
       "      <th>202</th>\n",
       "      <th>203</th>\n",
       "      <th>204</th>\n",
       "      <th>205</th>\n",
       "      <th>206</th>\n",
       "      <th>207</th>\n",
       "      <th>208</th>\n",
       "      <th>209</th>\n",
       "      <th>210</th>\n",
       "    </tr>\n",
       "  </thead>\n",
       "  <tbody>\n",
       "    <tr>\n",
       "      <th>0</th>\n",
       "      <td>-1.298173</td>\n",
       "      <td>-0.162249</td>\n",
       "      <td>1.223379</td>\n",
       "      <td>1.355554</td>\n",
       "      <td>1.080171</td>\n",
       "      <td>0.634979</td>\n",
       "      <td>0.298741</td>\n",
       "      <td>0.548270</td>\n",
       "      <td>0.731773</td>\n",
       "      <td>1.018645</td>\n",
       "      <td>...</td>\n",
       "      <td>0.588278</td>\n",
       "      <td>0.210106</td>\n",
       "      <td>1.861458</td>\n",
       "      <td>-0.436399</td>\n",
       "      <td>0.279299</td>\n",
       "      <td>-1.416020</td>\n",
       "      <td>-2.332363</td>\n",
       "      <td>0.215096</td>\n",
       "      <td>-0.693319</td>\n",
       "      <td>151.0</td>\n",
       "    </tr>\n",
       "    <tr>\n",
       "      <th>1</th>\n",
       "      <td>0.166951</td>\n",
       "      <td>-0.338060</td>\n",
       "      <td>-0.618867</td>\n",
       "      <td>0.759366</td>\n",
       "      <td>1.134281</td>\n",
       "      <td>-0.536844</td>\n",
       "      <td>-0.075120</td>\n",
       "      <td>0.970251</td>\n",
       "      <td>-0.327487</td>\n",
       "      <td>0.717310</td>\n",
       "      <td>...</td>\n",
       "      <td>-0.251054</td>\n",
       "      <td>-0.825716</td>\n",
       "      <td>0.339139</td>\n",
       "      <td>1.119430</td>\n",
       "      <td>0.225958</td>\n",
       "      <td>-0.822288</td>\n",
       "      <td>0.382838</td>\n",
       "      <td>-0.718829</td>\n",
       "      <td>-0.188993</td>\n",
       "      <td>75.0</td>\n",
       "    </tr>\n",
       "    <tr>\n",
       "      <th>2</th>\n",
       "      <td>-0.416177</td>\n",
       "      <td>-0.205659</td>\n",
       "      <td>-1.282226</td>\n",
       "      <td>1.675500</td>\n",
       "      <td>1.523746</td>\n",
       "      <td>0.192029</td>\n",
       "      <td>-0.235840</td>\n",
       "      <td>-1.954626</td>\n",
       "      <td>-0.853309</td>\n",
       "      <td>0.892791</td>\n",
       "      <td>...</td>\n",
       "      <td>1.283837</td>\n",
       "      <td>0.372516</td>\n",
       "      <td>-0.652557</td>\n",
       "      <td>-2.579347</td>\n",
       "      <td>0.139267</td>\n",
       "      <td>-1.901196</td>\n",
       "      <td>0.048210</td>\n",
       "      <td>0.220205</td>\n",
       "      <td>0.471588</td>\n",
       "      <td>141.0</td>\n",
       "    </tr>\n",
       "    <tr>\n",
       "      <th>3</th>\n",
       "      <td>0.867184</td>\n",
       "      <td>-0.398667</td>\n",
       "      <td>0.093501</td>\n",
       "      <td>0.025971</td>\n",
       "      <td>1.852099</td>\n",
       "      <td>0.789774</td>\n",
       "      <td>0.801775</td>\n",
       "      <td>0.376711</td>\n",
       "      <td>0.853689</td>\n",
       "      <td>0.247953</td>\n",
       "      <td>...</td>\n",
       "      <td>0.446582</td>\n",
       "      <td>0.334733</td>\n",
       "      <td>0.399074</td>\n",
       "      <td>-0.884172</td>\n",
       "      <td>0.723819</td>\n",
       "      <td>1.316367</td>\n",
       "      <td>0.088218</td>\n",
       "      <td>0.619496</td>\n",
       "      <td>1.061662</td>\n",
       "      <td>206.0</td>\n",
       "    </tr>\n",
       "    <tr>\n",
       "      <th>4</th>\n",
       "      <td>1.193282</td>\n",
       "      <td>-0.936980</td>\n",
       "      <td>-0.725039</td>\n",
       "      <td>0.766078</td>\n",
       "      <td>0.223489</td>\n",
       "      <td>-1.584622</td>\n",
       "      <td>1.146866</td>\n",
       "      <td>0.086136</td>\n",
       "      <td>-0.088780</td>\n",
       "      <td>-0.945066</td>\n",
       "      <td>...</td>\n",
       "      <td>0.786157</td>\n",
       "      <td>-1.058179</td>\n",
       "      <td>-0.155788</td>\n",
       "      <td>-0.642504</td>\n",
       "      <td>2.040010</td>\n",
       "      <td>-1.703110</td>\n",
       "      <td>-1.901502</td>\n",
       "      <td>1.778811</td>\n",
       "      <td>-0.489853</td>\n",
       "      <td>135.0</td>\n",
       "    </tr>\n",
       "  </tbody>\n",
       "</table>\n",
       "<p>5 rows × 211 columns</p>\n",
       "</div>"
      ],
      "text/plain": [
       "        0         1         2         3         4         5         6    \\\n",
       "0 -1.298173 -0.162249  1.223379  1.355554  1.080171  0.634979  0.298741   \n",
       "1  0.166951 -0.338060 -0.618867  0.759366  1.134281 -0.536844 -0.075120   \n",
       "2 -0.416177 -0.205659 -1.282226  1.675500  1.523746  0.192029 -0.235840   \n",
       "3  0.867184 -0.398667  0.093501  0.025971  1.852099  0.789774  0.801775   \n",
       "4  1.193282 -0.936980 -0.725039  0.766078  0.223489 -1.584622  1.146866   \n",
       "\n",
       "        7         8         9    ...         201       202       203  \\\n",
       "0  0.548270  0.731773  1.018645  ...    0.588278  0.210106  1.861458   \n",
       "1  0.970251 -0.327487  0.717310  ...   -0.251054 -0.825716  0.339139   \n",
       "2 -1.954626 -0.853309  0.892791  ...    1.283837  0.372516 -0.652557   \n",
       "3  0.376711  0.853689  0.247953  ...    0.446582  0.334733  0.399074   \n",
       "4  0.086136 -0.088780 -0.945066  ...    0.786157 -1.058179 -0.155788   \n",
       "\n",
       "        204       205       206       207       208       209    210  \n",
       "0 -0.436399  0.279299 -1.416020 -2.332363  0.215096 -0.693319  151.0  \n",
       "1  1.119430  0.225958 -0.822288  0.382838 -0.718829 -0.188993   75.0  \n",
       "2 -2.579347  0.139267 -1.901196  0.048210  0.220205  0.471588  141.0  \n",
       "3 -0.884172  0.723819  1.316367  0.088218  0.619496  1.061662  206.0  \n",
       "4 -0.642504  2.040010 -1.703110 -1.901502  1.778811 -0.489853  135.0  \n",
       "\n",
       "[5 rows x 211 columns]"
      ]
     },
     "execution_count": 3,
     "metadata": {},
     "output_type": "execute_result"
    }
   ],
   "source": [
    "\n",
    "df= pd.read_csv(\"https://bitbucket.org/portierf/shared_files/downloads/data_dm3.csv\", \",\", header=None)\n",
    "df.head(5)\n",
    "\n"
   ]
  },
  {
   "cell_type": "markdown",
   "metadata": {},
   "source": [
    "Il y a 211 colonnes dans le dataset dont une de label, ce qui fait 210 variables explicatives avec 442 observations."
   ]
  },
  {
   "cell_type": "code",
   "execution_count": 4,
   "metadata": {
    "scrolled": true
   },
   "outputs": [
    {
     "name": "stdout",
     "output_type": "stream",
     "text": [
      "(442, 211)\n"
     ]
    }
   ],
   "source": [
    "print(df.shape)"
   ]
  },
  {
   "cell_type": "code",
   "execution_count": 5,
   "metadata": {
    "scrolled": false
   },
   "outputs": [
    {
     "data": {
      "text/html": [
       "<div>\n",
       "<style scoped>\n",
       "    .dataframe tbody tr th:only-of-type {\n",
       "        vertical-align: middle;\n",
       "    }\n",
       "\n",
       "    .dataframe tbody tr th {\n",
       "        vertical-align: top;\n",
       "    }\n",
       "\n",
       "    .dataframe thead th {\n",
       "        text-align: right;\n",
       "    }\n",
       "</style>\n",
       "<table border=\"1\" class=\"dataframe\">\n",
       "  <thead>\n",
       "    <tr style=\"text-align: right;\">\n",
       "      <th></th>\n",
       "      <th>0</th>\n",
       "      <th>1</th>\n",
       "      <th>2</th>\n",
       "      <th>3</th>\n",
       "      <th>4</th>\n",
       "      <th>5</th>\n",
       "      <th>6</th>\n",
       "      <th>7</th>\n",
       "      <th>8</th>\n",
       "      <th>9</th>\n",
       "      <th>...</th>\n",
       "      <th>201</th>\n",
       "      <th>202</th>\n",
       "      <th>203</th>\n",
       "      <th>204</th>\n",
       "      <th>205</th>\n",
       "      <th>206</th>\n",
       "      <th>207</th>\n",
       "      <th>208</th>\n",
       "      <th>209</th>\n",
       "      <th>210</th>\n",
       "    </tr>\n",
       "  </thead>\n",
       "  <tbody>\n",
       "    <tr>\n",
       "      <th>count</th>\n",
       "      <td>4.420000e+02</td>\n",
       "      <td>4.420000e+02</td>\n",
       "      <td>4.420000e+02</td>\n",
       "      <td>4.420000e+02</td>\n",
       "      <td>4.420000e+02</td>\n",
       "      <td>4.420000e+02</td>\n",
       "      <td>4.420000e+02</td>\n",
       "      <td>4.420000e+02</td>\n",
       "      <td>4.420000e+02</td>\n",
       "      <td>4.420000e+02</td>\n",
       "      <td>...</td>\n",
       "      <td>4.420000e+02</td>\n",
       "      <td>4.420000e+02</td>\n",
       "      <td>4.420000e+02</td>\n",
       "      <td>4.420000e+02</td>\n",
       "      <td>4.420000e+02</td>\n",
       "      <td>4.420000e+02</td>\n",
       "      <td>4.420000e+02</td>\n",
       "      <td>4.420000e+02</td>\n",
       "      <td>4.420000e+02</td>\n",
       "      <td>442.000000</td>\n",
       "    </tr>\n",
       "    <tr>\n",
       "      <th>mean</th>\n",
       "      <td>7.535450e-19</td>\n",
       "      <td>-1.507090e-17</td>\n",
       "      <td>5.494599e-20</td>\n",
       "      <td>-7.284269e-18</td>\n",
       "      <td>8.288995e-18</td>\n",
       "      <td>-2.712762e-17</td>\n",
       "      <td>1.971776e-17</td>\n",
       "      <td>8.540177e-18</td>\n",
       "      <td>1.029845e-17</td>\n",
       "      <td>4.018907e-18</td>\n",
       "      <td>...</td>\n",
       "      <td>-2.260635e-18</td>\n",
       "      <td>-2.637408e-17</td>\n",
       "      <td>-5.023634e-19</td>\n",
       "      <td>-1.538488e-17</td>\n",
       "      <td>5.525997e-18</td>\n",
       "      <td>3.265362e-17</td>\n",
       "      <td>1.507090e-17</td>\n",
       "      <td>-4.034606e-18</td>\n",
       "      <td>1.205672e-17</td>\n",
       "      <td>152.133484</td>\n",
       "    </tr>\n",
       "    <tr>\n",
       "      <th>std</th>\n",
       "      <td>1.001133e+00</td>\n",
       "      <td>1.001133e+00</td>\n",
       "      <td>1.001133e+00</td>\n",
       "      <td>1.001133e+00</td>\n",
       "      <td>1.001133e+00</td>\n",
       "      <td>1.001133e+00</td>\n",
       "      <td>1.001133e+00</td>\n",
       "      <td>1.001133e+00</td>\n",
       "      <td>1.001133e+00</td>\n",
       "      <td>1.001133e+00</td>\n",
       "      <td>...</td>\n",
       "      <td>1.001133e+00</td>\n",
       "      <td>1.001133e+00</td>\n",
       "      <td>1.001133e+00</td>\n",
       "      <td>1.001133e+00</td>\n",
       "      <td>1.001133e+00</td>\n",
       "      <td>1.001133e+00</td>\n",
       "      <td>1.001133e+00</td>\n",
       "      <td>1.001133e+00</td>\n",
       "      <td>1.001133e+00</td>\n",
       "      <td>77.093005</td>\n",
       "    </tr>\n",
       "    <tr>\n",
       "      <th>min</th>\n",
       "      <td>-3.149247e+00</td>\n",
       "      <td>-2.862871e+00</td>\n",
       "      <td>-3.057543e+00</td>\n",
       "      <td>-2.856903e+00</td>\n",
       "      <td>-3.102347e+00</td>\n",
       "      <td>-2.782344e+00</td>\n",
       "      <td>-2.825318e+00</td>\n",
       "      <td>-3.626525e+00</td>\n",
       "      <td>-2.834007e+00</td>\n",
       "      <td>-2.695861e+00</td>\n",
       "      <td>...</td>\n",
       "      <td>-3.059475e+00</td>\n",
       "      <td>-3.206539e+00</td>\n",
       "      <td>-2.585325e+00</td>\n",
       "      <td>-3.561763e+00</td>\n",
       "      <td>-3.167962e+00</td>\n",
       "      <td>-2.751207e+00</td>\n",
       "      <td>-3.028940e+00</td>\n",
       "      <td>-2.675447e+00</td>\n",
       "      <td>-2.918321e+00</td>\n",
       "      <td>25.000000</td>\n",
       "    </tr>\n",
       "    <tr>\n",
       "      <th>25%</th>\n",
       "      <td>-6.707870e-01</td>\n",
       "      <td>-7.128394e-01</td>\n",
       "      <td>-7.160981e-01</td>\n",
       "      <td>-6.715474e-01</td>\n",
       "      <td>-6.732232e-01</td>\n",
       "      <td>-6.951004e-01</td>\n",
       "      <td>-6.986587e-01</td>\n",
       "      <td>-6.387691e-01</td>\n",
       "      <td>-6.666746e-01</td>\n",
       "      <td>-6.930021e-01</td>\n",
       "      <td>...</td>\n",
       "      <td>-6.885118e-01</td>\n",
       "      <td>-5.793321e-01</td>\n",
       "      <td>-6.282190e-01</td>\n",
       "      <td>-6.190946e-01</td>\n",
       "      <td>-7.359866e-01</td>\n",
       "      <td>-6.374872e-01</td>\n",
       "      <td>-6.472739e-01</td>\n",
       "      <td>-7.025578e-01</td>\n",
       "      <td>-6.378171e-01</td>\n",
       "      <td>87.000000</td>\n",
       "    </tr>\n",
       "    <tr>\n",
       "      <th>50%</th>\n",
       "      <td>3.819503e-02</td>\n",
       "      <td>6.217421e-02</td>\n",
       "      <td>4.739406e-02</td>\n",
       "      <td>6.565749e-05</td>\n",
       "      <td>-6.111315e-03</td>\n",
       "      <td>-1.345167e-02</td>\n",
       "      <td>-4.823057e-02</td>\n",
       "      <td>4.016636e-02</td>\n",
       "      <td>6.047571e-04</td>\n",
       "      <td>3.602406e-02</td>\n",
       "      <td>...</td>\n",
       "      <td>-2.994795e-02</td>\n",
       "      <td>2.540540e-02</td>\n",
       "      <td>-2.229024e-02</td>\n",
       "      <td>-6.087758e-03</td>\n",
       "      <td>7.677091e-03</td>\n",
       "      <td>-3.123603e-03</td>\n",
       "      <td>2.444578e-02</td>\n",
       "      <td>-4.187834e-02</td>\n",
       "      <td>-8.099075e-02</td>\n",
       "      <td>140.500000</td>\n",
       "    </tr>\n",
       "    <tr>\n",
       "      <th>75%</th>\n",
       "      <td>6.748497e-01</td>\n",
       "      <td>6.244547e-01</td>\n",
       "      <td>6.975121e-01</td>\n",
       "      <td>6.881971e-01</td>\n",
       "      <td>7.026457e-01</td>\n",
       "      <td>7.155790e-01</td>\n",
       "      <td>7.200217e-01</td>\n",
       "      <td>5.788436e-01</td>\n",
       "      <td>6.298078e-01</td>\n",
       "      <td>6.629150e-01</td>\n",
       "      <td>...</td>\n",
       "      <td>6.672697e-01</td>\n",
       "      <td>6.676636e-01</td>\n",
       "      <td>5.985077e-01</td>\n",
       "      <td>7.406183e-01</td>\n",
       "      <td>7.000447e-01</td>\n",
       "      <td>6.440062e-01</td>\n",
       "      <td>6.313916e-01</td>\n",
       "      <td>6.929876e-01</td>\n",
       "      <td>7.249269e-01</td>\n",
       "      <td>211.500000</td>\n",
       "    </tr>\n",
       "    <tr>\n",
       "      <th>max</th>\n",
       "      <td>2.547051e+00</td>\n",
       "      <td>2.567177e+00</td>\n",
       "      <td>2.965824e+00</td>\n",
       "      <td>3.057612e+00</td>\n",
       "      <td>3.173713e+00</td>\n",
       "      <td>3.137950e+00</td>\n",
       "      <td>3.199205e+00</td>\n",
       "      <td>3.616718e+00</td>\n",
       "      <td>3.099090e+00</td>\n",
       "      <td>3.032505e+00</td>\n",
       "      <td>...</td>\n",
       "      <td>2.677458e+00</td>\n",
       "      <td>2.806877e+00</td>\n",
       "      <td>3.255462e+00</td>\n",
       "      <td>2.811911e+00</td>\n",
       "      <td>2.838960e+00</td>\n",
       "      <td>3.351254e+00</td>\n",
       "      <td>2.734481e+00</td>\n",
       "      <td>3.637684e+00</td>\n",
       "      <td>2.710260e+00</td>\n",
       "      <td>346.000000</td>\n",
       "    </tr>\n",
       "  </tbody>\n",
       "</table>\n",
       "<p>8 rows × 211 columns</p>\n",
       "</div>"
      ],
      "text/plain": [
       "                0             1             2             3             4    \\\n",
       "count  4.420000e+02  4.420000e+02  4.420000e+02  4.420000e+02  4.420000e+02   \n",
       "mean   7.535450e-19 -1.507090e-17  5.494599e-20 -7.284269e-18  8.288995e-18   \n",
       "std    1.001133e+00  1.001133e+00  1.001133e+00  1.001133e+00  1.001133e+00   \n",
       "min   -3.149247e+00 -2.862871e+00 -3.057543e+00 -2.856903e+00 -3.102347e+00   \n",
       "25%   -6.707870e-01 -7.128394e-01 -7.160981e-01 -6.715474e-01 -6.732232e-01   \n",
       "50%    3.819503e-02  6.217421e-02  4.739406e-02  6.565749e-05 -6.111315e-03   \n",
       "75%    6.748497e-01  6.244547e-01  6.975121e-01  6.881971e-01  7.026457e-01   \n",
       "max    2.547051e+00  2.567177e+00  2.965824e+00  3.057612e+00  3.173713e+00   \n",
       "\n",
       "                5             6             7             8             9    \\\n",
       "count  4.420000e+02  4.420000e+02  4.420000e+02  4.420000e+02  4.420000e+02   \n",
       "mean  -2.712762e-17  1.971776e-17  8.540177e-18  1.029845e-17  4.018907e-18   \n",
       "std    1.001133e+00  1.001133e+00  1.001133e+00  1.001133e+00  1.001133e+00   \n",
       "min   -2.782344e+00 -2.825318e+00 -3.626525e+00 -2.834007e+00 -2.695861e+00   \n",
       "25%   -6.951004e-01 -6.986587e-01 -6.387691e-01 -6.666746e-01 -6.930021e-01   \n",
       "50%   -1.345167e-02 -4.823057e-02  4.016636e-02  6.047571e-04  3.602406e-02   \n",
       "75%    7.155790e-01  7.200217e-01  5.788436e-01  6.298078e-01  6.629150e-01   \n",
       "max    3.137950e+00  3.199205e+00  3.616718e+00  3.099090e+00  3.032505e+00   \n",
       "\n",
       "          ...               201           202           203           204  \\\n",
       "count     ...      4.420000e+02  4.420000e+02  4.420000e+02  4.420000e+02   \n",
       "mean      ...     -2.260635e-18 -2.637408e-17 -5.023634e-19 -1.538488e-17   \n",
       "std       ...      1.001133e+00  1.001133e+00  1.001133e+00  1.001133e+00   \n",
       "min       ...     -3.059475e+00 -3.206539e+00 -2.585325e+00 -3.561763e+00   \n",
       "25%       ...     -6.885118e-01 -5.793321e-01 -6.282190e-01 -6.190946e-01   \n",
       "50%       ...     -2.994795e-02  2.540540e-02 -2.229024e-02 -6.087758e-03   \n",
       "75%       ...      6.672697e-01  6.676636e-01  5.985077e-01  7.406183e-01   \n",
       "max       ...      2.677458e+00  2.806877e+00  3.255462e+00  2.811911e+00   \n",
       "\n",
       "                205           206           207           208           209  \\\n",
       "count  4.420000e+02  4.420000e+02  4.420000e+02  4.420000e+02  4.420000e+02   \n",
       "mean   5.525997e-18  3.265362e-17  1.507090e-17 -4.034606e-18  1.205672e-17   \n",
       "std    1.001133e+00  1.001133e+00  1.001133e+00  1.001133e+00  1.001133e+00   \n",
       "min   -3.167962e+00 -2.751207e+00 -3.028940e+00 -2.675447e+00 -2.918321e+00   \n",
       "25%   -7.359866e-01 -6.374872e-01 -6.472739e-01 -7.025578e-01 -6.378171e-01   \n",
       "50%    7.677091e-03 -3.123603e-03  2.444578e-02 -4.187834e-02 -8.099075e-02   \n",
       "75%    7.000447e-01  6.440062e-01  6.313916e-01  6.929876e-01  7.249269e-01   \n",
       "max    2.838960e+00  3.351254e+00  2.734481e+00  3.637684e+00  2.710260e+00   \n",
       "\n",
       "              210  \n",
       "count  442.000000  \n",
       "mean   152.133484  \n",
       "std     77.093005  \n",
       "min     25.000000  \n",
       "25%     87.000000  \n",
       "50%    140.500000  \n",
       "75%    211.500000  \n",
       "max    346.000000  \n",
       "\n",
       "[8 rows x 211 columns]"
      ]
     },
     "execution_count": 5,
     "metadata": {},
     "output_type": "execute_result"
    }
   ],
   "source": [
    "df.describe()"
   ]
  },
  {
   "cell_type": "code",
   "execution_count": 6,
   "metadata": {},
   "outputs": [
    {
     "name": "stdout",
     "output_type": "stream",
     "text": [
      "              0\n",
      "210  152.133484\n"
     ]
    }
   ],
   "source": [
    "meandf=pd.DataFrame(np.abs(df.mean()))\n",
    "meandfnonzero=meandf.loc[meandf[0]>10**-10]\n",
    "print(meandfnonzero)"
   ]
  },
  {
   "cell_type": "code",
   "execution_count": 7,
   "metadata": {},
   "outputs": [
    {
     "name": "stdout",
     "output_type": "stream",
     "text": [
      "             0\n",
      "210  77.093005\n"
     ]
    }
   ],
   "source": [
    "stddf=pd.DataFrame(df.std())\n",
    "stddfnon1=stddf.loc[np.abs(stddf[0]-1)>10**-2]\n",
    "print(stddfnon1)"
   ]
  },
  {
   "cell_type": "markdown",
   "metadata": {},
   "source": [
    "Les variables explicatives sont centrées et normalisées. La variable y à expliquer ne l'est pas, ni normalisée ni centrée."
   ]
  },
  {
   "cell_type": "code",
   "execution_count": 8,
   "metadata": {},
   "outputs": [],
   "source": [
    "Xdf = df.drop([210], 1)\n",
    "ydf = df[210]"
   ]
  },
  {
   "cell_type": "code",
   "execution_count": 9,
   "metadata": {},
   "outputs": [],
   "source": [
    "randomX= df.sample(4, axis=1)\n",
    "randomX[\"y\"]=ydf\n"
   ]
  },
  {
   "cell_type": "code",
   "execution_count": 10,
   "metadata": {},
   "outputs": [
    {
     "data": {
      "image/png": "[encoded data removed]",
      "text/plain": [
       "<Figure size 432x432 with 25 Axes>"
      ]
     },
     "metadata": {},
     "output_type": "display_data"
    }
   ],
   "source": [
    "scatter_matrix(randomX, alpha=0.2, figsize=(6, 6), diagonal='kde')\n",
    "plt.show()"
   ]
  },
  {
   "cell_type": "markdown",
   "metadata": {},
   "source": [
    "Les variables semblent avoir une distribution normale. Ce graph ne nous permet pas de voir une corrélation entre les variables."
   ]
  },
  {
   "cell_type": "code",
   "execution_count": 11,
   "metadata": {},
   "outputs": [
    {
     "data": {
      "image/png": "[encoded data removed]",
      "text/plain": [
       "<Figure size 288x288 with 1 Axes>"
      ]
     },
     "metadata": {},
     "output_type": "display_data"
    }
   ],
   "source": [
    "plt.matshow(Xdf.corr())\n",
    "plt.show()"
   ]
  },
  {
   "cell_type": "code",
   "execution_count": 12,
   "metadata": {
    "scrolled": true
   },
   "outputs": [
    {
     "data": {
      "image/png": "[encoded data removed]",
      "text/plain": [
       "<Figure size 432x288 with 1 Axes>"
      ]
     },
     "metadata": {},
     "output_type": "display_data"
    }
   ],
   "source": [
    "coveigenvalues, coveigenvectors= np.linalg.eigh(Xdf.cov())\n",
    "eig_vals_sorted = np.sort(coveigenvalues)[::-1]\n",
    "plt.scatter(np.arange(len(eig_vals_sorted)),eig_vals_sorted)\n",
    "plt.xlabel(\"Number of eigenvalue\")\n",
    "plt.ylabel(\"eigenvalue\")\n",
    "plt.title(\"Scree plot\")\n",
    "plt.show()"
   ]
  },
  {
   "cell_type": "markdown",
   "metadata": {},
   "source": [
    "Apres les 60 premières valeurs propres on a des valeurs propres négligeables, presque égale à 0.\n",
    "Cela veut dire l'on peut exprimer très précisement les dernières composantes avec les 60 premières, principales."
   ]
  },
  {
   "cell_type": "code",
   "execution_count": 13,
   "metadata": {
    "scrolled": true
   },
   "outputs": [
    {
     "name": "stdout",
     "output_type": "stream",
     "text": [
      "(353, 210)\n",
      "(89, 210)\n",
      "(353,)\n",
      "(89,)\n"
     ]
    }
   ],
   "source": [
    "X_train, X_test, y_train, y_test = train_test_split(np.array(Xdf), np.array(ydf), test_size=0.2)\n",
    "print(X_train.shape)\n",
    "print(X_test.shape)\n",
    "print(y_train.shape)\n",
    "print(y_test.shape)"
   ]
  },
  {
   "cell_type": "markdown",
   "metadata": {},
   "source": [
    "Ci dessus les dimensions de nos matrices de train et de test (X puis y)"
   ]
  },
  {
   "cell_type": "code",
   "execution_count": 14,
   "metadata": {},
   "outputs": [],
   "source": [
    "U, S, V = np.linalg.svd(X_train) \n",
    "#Je reconstruis les valeurs propres de la matrice de de gram grâce aux valeurs singulières\n",
    "eigvals = S**2 / np.cumsum(S)[-1]"
   ]
  },
  {
   "cell_type": "markdown",
   "metadata": {},
   "source": [
    "Ici nul besoin d'ordonner les valeurs propres car les valeurs singulières (S) le sont déjà "
   ]
  },
  {
   "cell_type": "code",
   "execution_count": 15,
   "metadata": {
    "scrolled": true
   },
   "outputs": [
    {
     "data": {
      "image/png": "[encoded data removed]",
      "text/plain": [
       "<Figure size 432x288 with 1 Axes>"
      ]
     },
     "metadata": {},
     "output_type": "display_data"
    }
   ],
   "source": [
    "\n",
    "plt.figure()\n",
    "plt.scatter(np.arange(len(eigvals)),eigvals)\n",
    "plt.xlabel(\"Number of eigenvalue\")\n",
    "plt.ylabel(\"eigenvalue\")\n",
    "plt.title(\"Scree plot\")\n",
    "plt.show()\n"
   ]
  },
  {
   "cell_type": "markdown",
   "metadata": {},
   "source": [
    "<div>Vérification<div>\n",
    "On retrouve bien la même valeur 60 à partir de laquelle les valeurs propres sont négligeables"
   ]
  },
  {
   "cell_type": "markdown",
   "metadata": {},
   "source": [
    "## 5) PCA before OLS\n",
    "    Ici je vais utiliser la svd pour faire la PCA. \n",
    "    La PCA sert à réduire les dimensions de X (train) pour enlever l'information redondante et ne pas  travailler avec des matrices énormes et non inversibles (XtX^-1)"
   ]
  },
  {
   "cell_type": "code",
   "execution_count": 16,
   "metadata": {
    "scrolled": true
   },
   "outputs": [],
   "source": [
    "#Je prends d'abord les matrices complètes que je vais réduire moi même\n",
    "U_train, S_train, V_train = np.linalg.svd(X_train)\n",
    "eigvals = S_train**2 / np.cumsum(S_train)[-1]\n"
   ]
  },
  {
   "cell_type": "markdown",
   "metadata": {},
   "source": [
    "Comme vu dans la question 3, on peut ne garder que les 60 premiers vecteurs et valeurs propres"
   ]
  },
  {
   "cell_type": "code",
   "execution_count": 17,
   "metadata": {},
   "outputs": [
    {
     "name": "stdout",
     "output_type": "stream",
     "text": [
      "(353, 60)\n",
      "5.3555580854943406e-14\n"
     ]
    }
   ],
   "source": [
    "#on réduit U S V\n",
    "Ureduced = U_train[:,:60]\n",
    "Sreduced = np.diag(S_train)[:60,:60]\n",
    "Vreduced = V_train.T[:,:60]\n",
    "Xreduced=Ureduced@Sreduced\n",
    "#On projette XTrain sur le nouvel espace formé par les PCs de la PCA\n",
    "Xpca = X_train@Vreduced\n",
    "print(Xpca.shape)\n",
    "print(np.sum(Xreduced-Xpca))"
   ]
  },
  {
   "cell_type": "markdown",
   "metadata": {},
   "source": [
    "J'ai réduit mon X_train qui comportait 210 colonnes à 60 colonnes. Ici on vérifie que XV=US"
   ]
  },
  {
   "cell_type": "code",
   "execution_count": 18,
   "metadata": {},
   "outputs": [
    {
     "data": {
      "image/png": "[encoded data removed]",
      "text/plain": [
       "<Figure size 288x288 with 1 Axes>"
      ]
     },
     "metadata": {},
     "output_type": "display_data"
    }
   ],
   "source": [
    "plt.matshow(pd.DataFrame(Xpca).corr())\n",
    "plt.show()"
   ]
  },
  {
   "cell_type": "markdown",
   "metadata": {},
   "source": [
    "Ici on vérifie que la matrice de corrélation n'indique plus de corrélation. En effet on a enlevé l'information redondante."
   ]
  },
  {
   "cell_type": "markdown",
   "metadata": {},
   "source": [
    "#### Maintenant on peut réaliser la regression linéaire avec notre nouvelle matrice Xpca issue de la PCA"
   ]
  },
  {
   "cell_type": "code",
   "execution_count": 19,
   "metadata": {},
   "outputs": [],
   "source": [
    "#Ajout de l'intercept à Xpca\n",
    "Xpca_I = sm.add_constant(Xpca)\n",
    "gramPca=Xpca_I.T@Xpca_I\n",
    "# Pour calculer Theta, on peut utiliser inv car il n'y a plus de corrélation maintenant\n",
    "thetapca=np.linalg.inv(gramPca)@Xpca_I.T@y_train\n",
    "#On projette Xtest sur l'espace PCA \n",
    "XtestPca= X_test@Vreduced\n",
    "XtestPca= sm.add_constant(XtestPca)\n",
    "ypredpca= XtestPca@thetapca"
   ]
  },
  {
   "cell_type": "markdown",
   "metadata": {},
   "source": [
    "On calcule le coefficient de détermination"
   ]
  },
  {
   "cell_type": "code",
   "execution_count": 20,
   "metadata": {},
   "outputs": [
    {
     "name": "stdout",
     "output_type": "stream",
     "text": [
      "0.4228732799051903\n"
     ]
    }
   ],
   "source": [
    "R2pca=1-np.sum((ypredpca-y_test)**2)/np.sum((y_test-y_test.mean())**2)\n",
    "scoresTP[\"PCA+OLS\"]=R2pca\n",
    "print(R2pca)"
   ]
  },
  {
   "cell_type": "markdown",
   "metadata": {},
   "source": [
    "On peut vérifier avec scikit learn le R2"
   ]
  },
  {
   "cell_type": "code",
   "execution_count": 21,
   "metadata": {
    "scrolled": true
   },
   "outputs": [
    {
     "name": "stdout",
     "output_type": "stream",
     "text": [
      "0.4228732799051902\n"
     ]
    }
   ],
   "source": [
    "# Choix de sklearn\n",
    "regpca = LinearRegression()\n",
    "regrpca = regpca.fit(Xpca_I, y_train)\n",
    "print(regpca.score(XtestPca,y_test))"
   ]
  },
  {
   "cell_type": "code",
   "execution_count": 22,
   "metadata": {},
   "outputs": [
    {
     "data": {
      "image/png": "[encoded data removed]",
      "text/plain": [
       "<Figure size 432x288 with 1 Axes>"
      ]
     },
     "metadata": {},
     "output_type": "display_data"
    }
   ],
   "source": [
    "\n",
    "plt.figure()\n",
    "plt.xlabel(\"Feature\")\n",
    "plt.ylabel(\"Coefficient\")\n",
    "plt.title(\"Coefficient plot\")\n",
    "plt.plot(regrpca.coef_)\n",
    "plt.show()"
   ]
  },
  {
   "cell_type": "markdown",
   "metadata": {},
   "source": [
    "On fait l'OLS maintenant sur X_train (sans pca) pour comparer"
   ]
  },
  {
   "cell_type": "code",
   "execution_count": 23,
   "metadata": {},
   "outputs": [],
   "source": [
    "X_train_I = sm.add_constant(X_train)\n",
    "X_test_I = sm.add_constant(X_test)"
   ]
  },
  {
   "cell_type": "code",
   "execution_count": 24,
   "metadata": {},
   "outputs": [
    {
     "name": "stdout",
     "output_type": "stream",
     "text": [
      "60\n"
     ]
    }
   ],
   "source": [
    "rangXtrain=np.linalg.matrix_rank(X_train)\n",
    "print(rangXtrain)"
   ]
  },
  {
   "cell_type": "markdown",
   "metadata": {},
   "source": [
    "La matrice n'est donc pas de rang plein, ie on ne peut pas l'inverser, car comme le montre la matrice de corrélation elle contient de l'information redondante"
   ]
  },
  {
   "cell_type": "markdown",
   "metadata": {},
   "source": [
    "X_train non inversible on prend la pseudoinverse"
   ]
  },
  {
   "cell_type": "markdown",
   "metadata": {},
   "source": [
    "Je vais utiliser ici deux méthodes pour m'assurer du résultat. La 1ere avec la fonction pinv de numpy, la deuxième avec la svd en reconstruisant la pseudoinverse comme vu dans le cours.  "
   ]
  },
  {
   "cell_type": "code",
   "execution_count": 25,
   "metadata": {},
   "outputs": [
    {
     "name": "stdout",
     "output_type": "stream",
     "text": [
      "0.42287327990518964\n"
     ]
    }
   ],
   "source": [
    "thetaLR=np.linalg.pinv(X_train_I)@y_train\n",
    "ypredLR= X_test_I@thetaLR\n",
    "Rlr=1-np.sum((ypredLR-y_test)**2)/np.sum((y_test-y_test.mean())**2)\n",
    "scoresTP[\"OLS\"]=Rlr\n",
    "print(Rlr)"
   ]
  },
  {
   "cell_type": "markdown",
   "metadata": {},
   "source": [
    "Je fais la même chose mais avec la SVD.\n",
    "Je refais une svd de X_train avec intercept pour exprimer la pseudoinverse\n",
    "Je pouvais également réutiliser celle de PCA "
   ]
  },
  {
   "cell_type": "code",
   "execution_count": 26,
   "metadata": {
    "scrolled": true
   },
   "outputs": [],
   "source": [
    "U_SVD, S_SVD, VT_SVD = np.linalg.svd(X_train_I, full_matrices=False) "
   ]
  },
  {
   "cell_type": "markdown",
   "metadata": {},
   "source": [
    "Pour perdre le moins d'informations possible je garde les valeurs propres > 0.0001"
   ]
  },
  {
   "cell_type": "code",
   "execution_count": 27,
   "metadata": {},
   "outputs": [
    {
     "name": "stdout",
     "output_type": "stream",
     "text": [
      "0.4228732799051894\n"
     ]
    }
   ],
   "source": [
    "S_SVDR=S_SVD[np.where( S_SVD > 0.0001 )] \n",
    "#je reduis ensuite u et v\n",
    "U_SVDR=U_SVD[:,:S_SVDR.size]\n",
    "VT_SVDR=VT_SVD[:S_SVDR.size,:]\n",
    "#je calcule theta et la prediction sur X_test\n",
    "thetaLRSVD=VT_SVDR.T@np.linalg.inv(np.diag(S_SVDR))@U_SVDR.T@y_train\n",
    "ypredLRSVD= X_test_I@thetaLRSVD\n",
    "RlrSVD=1-np.sum((ypredLRSVD-y_test)**2)/np.sum((y_test-y_test.mean())**2)\n",
    "print(RlrSVD)"
   ]
  },
  {
   "cell_type": "markdown",
   "metadata": {},
   "source": [
    "On a bien le même score pour OLS sans pca ( avec la svd ou directement la fonction pseudoinverse de np)"
   ]
  },
  {
   "cell_type": "markdown",
   "metadata": {},
   "source": [
    "On trace également les coefficients obtenus"
   ]
  },
  {
   "cell_type": "code",
   "execution_count": 28,
   "metadata": {
    "scrolled": true
   },
   "outputs": [
    {
     "data": {
      "image/png": "[encoded data removed]",
      "text/plain": [
       "<Figure size 432x288 with 1 Axes>"
      ]
     },
     "metadata": {},
     "output_type": "display_data"
    }
   ],
   "source": [
    "plt.figure()\n",
    "plt.xlabel(\"Feature\")\n",
    "plt.ylabel(\"Coefficient\")\n",
    "plt.title(\"Coefficient plot\")\n",
    "plt.plot(thetaLR[1:])\n",
    "plt.show()"
   ]
  },
  {
   "cell_type": "markdown",
   "metadata": {},
   "source": [
    "## 6) Intercepts"
   ]
  },
  {
   "cell_type": "markdown",
   "metadata": {},
   "source": [
    "On affiche les intercepts des coefficients obtenus par OLS et PCA + OLS"
   ]
  },
  {
   "cell_type": "code",
   "execution_count": 29,
   "metadata": {},
   "outputs": [
    {
     "name": "stdout",
     "output_type": "stream",
     "text": [
      "151.98722037863627\n",
      "151.9872203786363\n",
      "153.05382436260624\n"
     ]
    }
   ],
   "source": [
    "print(thetapca[0])\n",
    "print(thetaLR[0])\n",
    "print(y_train.mean())"
   ]
  },
  {
   "cell_type": "markdown",
   "metadata": {},
   "source": [
    "On en conclut que les coefficient des OLS et PCA OLS sont sensiblement les mêmes et presque égaux à la moyenne de y_train. Cela est du au fait que les variables de X_train ne sont plus centrées ni normalisées car on a pris un échantillon de X. D'où le petit écart."
   ]
  },
  {
   "cell_type": "markdown",
   "metadata": {},
   "source": [
    "On standardise Xpca (centrage+ normalisation)"
   ]
  },
  {
   "cell_type": "code",
   "execution_count": 30,
   "metadata": {},
   "outputs": [
    {
     "name": "stdout",
     "output_type": "stream",
     "text": [
      "153.05382436260624\n",
      "153.05382436260624\n"
     ]
    }
   ],
   "source": [
    "scaler = StandardScaler()\n",
    "std = scaler.fit(Xpca)\n",
    "XpcaStd = scaler.transform(Xpca)\n",
    "thetapcaStd=np.linalg.inv(XpcaStd.T@XpcaStd)@XpcaStd.T@y_train\n",
    "regpcaStd = LinearRegression()\n",
    "regrpcaStd = regpcaStd.fit(XpcaStd, y_train)\n",
    "print(regrpcaStd.intercept_)\n",
    "print(y_train.mean())"
   ]
  },
  {
   "cell_type": "markdown",
   "metadata": {},
   "source": [
    "Ici on vérifie bien que l'intercept est égal à la moyenne de y."
   ]
  },
  {
   "cell_type": "code",
   "execution_count": 32,
   "metadata": {},
   "outputs": [
    {
     "data": {
      "image/png": "[encoded data removed]",
      "text/plain": [
       "<Figure size 432x288 with 1 Axes>"
      ]
     },
     "metadata": {},
     "output_type": "display_data"
    }
   ],
   "source": [
    "plt.figure()\n",
    "plt.plot(y_test-ypredpca, \"o\")\n",
    "plt.plot(y_test-ypredLR, \"x\")\n",
    "plt.show()"
   ]
  },
  {
   "cell_type": "code",
   "execution_count": 33,
   "metadata": {},
   "outputs": [
    {
     "data": {
      "image/png": "[encoded data removed]",
      "text/plain": [
       "<Figure size 432x288 with 1 Axes>"
      ]
     },
     "metadata": {},
     "output_type": "display_data"
    }
   ],
   "source": [
    "plt.figure()\n",
    "plt.hist(y_test-ypredpca, bins=15, density=True)\n",
    "\n",
    "plt.show()"
   ]
  },
  {
   "cell_type": "code",
   "execution_count": 34,
   "metadata": {},
   "outputs": [
    {
     "data": {
      "image/png": "[encoded data removed]",
      "text/plain": [
       "<Figure size 432x288 with 1 Axes>"
      ]
     },
     "metadata": {},
     "output_type": "display_data"
    }
   ],
   "source": [
    "plt.figure()\n",
    "plt.hist(y_test-ypredLR, bins=15)\n",
    "\n",
    "plt.show()"
   ]
  },
  {
   "cell_type": "code",
   "execution_count": 35,
   "metadata": {},
   "outputs": [],
   "source": [
    "#x_train.describe()"
   ]
  },
  {
   "cell_type": "code",
   "execution_count": 36,
   "metadata": {},
   "outputs": [
    {
     "name": "stdout",
     "output_type": "stream",
     "text": [
      "R2 score avec OLS 0.42287327990518964\n",
      "R2 score avec PCA +OLS 0.4228732799051903\n"
     ]
    }
   ],
   "source": [
    "print(\"R2 score avec OLS \"+str(Rlr))\n",
    "print(\"R2 score avec PCA +OLS \"+str(R2pca))"
   ]
  },
  {
   "cell_type": "markdown",
   "metadata": {},
   "source": [
    "Les coefficients de détermination respectivement de l'ols et PCA+OLS ci dessus sont à peu près les mêmes"
   ]
  },
  {
   "cell_type": "code",
   "execution_count": 37,
   "metadata": {
    "scrolled": false
   },
   "outputs": [],
   "source": [
    "#from sklearn.preprocessing import StandardScaler\n",
    "#print(X_train.shape)\n",
    "\n",
    "#X_trainfwd= np.append(np.ones((X_train.shape[0],1)), X_train, axis=1)\n",
    "#columns= np.append(\"intercept\",range(0,210))\n",
    "#print(columns)\n",
    "#df_X_train=pd.DataFrame(X_trainfwd, columns=columns)\n",
    "\n",
    "#X_testfwd= np.append(np.ones((X_test.shape[0],1)), X_test, axis=1)\n",
    "#columns= np.append(\"intercept\",range(0,210))\n",
    "#print(columns)\n",
    "#df_X_test=pd.DataFrame(X_testfwd, columns=columns)\n",
    "#std_scaler = StandardScaler().fit(X_train)\n",
    "#X_trainfwd = std_scaler.transform(X_train)\n",
    "#x_trainfwd=pd.DataFrame(X_trainfwd)\n",
    "#x_trainfwd.describe()\n",
    "\n",
    "\n",
    "\n",
    "\n"
   ]
  },
  {
   "cell_type": "markdown",
   "metadata": {},
   "source": [
    "## 8) Forward selection"
   ]
  },
  {
   "cell_type": "markdown",
   "metadata": {},
   "source": [
    "On définit la fonction de forward selection avec un seuil en paramètre pour répondre à la question 9"
   ]
  },
  {
   "cell_type": "code",
   "execution_count": 200,
   "metadata": {
    "scrolled": true
   },
   "outputs": [],
   "source": [
    "\n",
    "def forward_selection3(Xfwd, threshold=1):\n",
    "\n",
    "    p=Xfwd.shape[1]\n",
    "    n=Xfwd.shape[0]\n",
    "    r= y_train\n",
    "    test = np.zeros((p,p))\n",
    "    pval_mem = np.zeros(p)\n",
    "    pval = np.zeros((p,p))\n",
    "    resids = y_train\n",
    "    var_sel = []\n",
    "    var_remain = list(range(p))\n",
    "    in_test = []\n",
    "    regr = LinearRegression(fit_intercept = False)\n",
    "    \n",
    "    for k in range(p): \n",
    "        resids_mem = np.zeros((p,n))\n",
    "        for i in var_remain:\n",
    "            xtmp = Xfwd [:,[i]]\n",
    "            regr.fit(xtmp , resids)\n",
    "\n",
    "            xx = np.sum( Xfwd [:,[i]] ** 2 )    \n",
    "            resids_mem [i,:] = regr.predict(xtmp) - resids\n",
    "            sigma2_tmp = np.sum (resids_mem [i,:] ** 2) / xx\n",
    "            test[k,i] = np.sqrt(n) * np.abs(regr.coef_) / (np.sqrt( sigma2_tmp )) \n",
    "            pval[k,i] =   2 * (1 - norm.cdf(test[k,i]))\n",
    "\n",
    "        best_var = np.argmax(test[k,:])\n",
    "        var_sel.append(best_var)\n",
    "        resids = resids_mem[best_var,:]\n",
    "        if pval[k,best_var] > threshold:\n",
    "            break\n",
    "        pval_mem [k] = pval[k,best_var]\n",
    "        var_remain = np.setdiff1d(var_remain,var_sel)\n",
    "        \n",
    "    return var_sel, test, pval_mem"
   ]
  },
  {
   "cell_type": "code",
   "execution_count": 201,
   "metadata": {},
   "outputs": [],
   "source": [
    "\n",
    "def forward_selection(Xfwd, threshold=1):\n",
    "\n",
    "    p=Xfwd.shape[1]\n",
    "    n=Xfwd.shape[0]\n",
    "    r= y_train\n",
    "    test = np.zeros((p,p))\n",
    "    pval_mem = np.zeros(p)\n",
    "    pval = np.zeros((p,p))\n",
    "    resids = y_train\n",
    "    var_sel = []\n",
    "    var_remain = list(range(p))\n",
    "    in_test = []\n",
    "    regr = LinearRegression(fit_intercept = False)\n",
    "    \n",
    "    for k in range(p): \n",
    "        resids_mem = np.zeros((p,n))\n",
    "        #pour chaque variable explicative on fait une OLS en ajoutant l'intercept\n",
    "        for i in var_remain:\n",
    "            Xtemp=np.append(np.ones((Xfwd.shape[0],1)),Xfwd [:,[i]], axis=1)\n",
    "            gramtemp=Xtemp.T@Xtemp\n",
    "            thetatemp=np.linalg.pinv(gramtemp)@Xtemp.T@resids\n",
    "            ypredtemp=Xtemp@thetatemp\n",
    "            resids_mem [i,:] = ypredtemp-resids\n",
    "            sigma2_tmp = np.sum (resids_mem [i,:] ** 2) / gramtemp[1,1]\n",
    "            test[k,i] = np.sqrt(n) * np.abs(thetatemp[1]) / (np.sqrt( sigma2_tmp )) \n",
    "            pval[k,i] =   2 * (1 - norm.cdf(test[k,i]))\n",
    "\n",
    "        ####separe en deux vecteurs la listes des variables séléctionnées et les autres\n",
    "        best_var = np.argmax(test[k,:])\n",
    "        var_sel.append(best_var)\n",
    "        resids = resids_mem[best_var,:]\n",
    "        if pval[k,best_var] > threshold:\n",
    "            break\n",
    "        pval_mem [k] = pval[k,best_var]\n",
    "        var_remain = np.setdiff1d(var_remain,var_sel)\n",
    "        \n",
    "    return var_sel, test, pval_mem"
   ]
  },
  {
   "cell_type": "markdown",
   "metadata": {},
   "source": [
    "On run la fonction ci dessus et on affiche les résultats dans un dataframe"
   ]
  },
  {
   "cell_type": "code",
   "execution_count": 212,
   "metadata": {},
   "outputs": [
    {
     "data": {
      "text/html": [
       "<div>\n",
       "<style scoped>\n",
       "    .dataframe tbody tr th:only-of-type {\n",
       "        vertical-align: middle;\n",
       "    }\n",
       "\n",
       "    .dataframe tbody tr th {\n",
       "        vertical-align: top;\n",
       "    }\n",
       "\n",
       "    .dataframe thead th {\n",
       "        text-align: right;\n",
       "    }\n",
       "</style>\n",
       "<table border=\"1\" class=\"dataframe\">\n",
       "  <thead>\n",
       "    <tr style=\"text-align: right;\">\n",
       "      <th></th>\n",
       "      <th>0</th>\n",
       "    </tr>\n",
       "  </thead>\n",
       "  <tbody>\n",
       "    <tr>\n",
       "      <th>0</th>\n",
       "      <td>intercept</td>\n",
       "    </tr>\n",
       "    <tr>\n",
       "      <th>1</th>\n",
       "      <td>58</td>\n",
       "    </tr>\n",
       "    <tr>\n",
       "      <th>2</th>\n",
       "      <td>123</td>\n",
       "    </tr>\n",
       "    <tr>\n",
       "      <th>3</th>\n",
       "      <td>129</td>\n",
       "    </tr>\n",
       "    <tr>\n",
       "      <th>4</th>\n",
       "      <td>13</td>\n",
       "    </tr>\n",
       "    <tr>\n",
       "      <th>5</th>\n",
       "      <td>31</td>\n",
       "    </tr>\n",
       "    <tr>\n",
       "      <th>6</th>\n",
       "      <td>133</td>\n",
       "    </tr>\n",
       "    <tr>\n",
       "      <th>7</th>\n",
       "      <td>29</td>\n",
       "    </tr>\n",
       "    <tr>\n",
       "      <th>8</th>\n",
       "      <td>59</td>\n",
       "    </tr>\n",
       "    <tr>\n",
       "      <th>9</th>\n",
       "      <td>35</td>\n",
       "    </tr>\n",
       "    <tr>\n",
       "      <th>10</th>\n",
       "      <td>81</td>\n",
       "    </tr>\n",
       "    <tr>\n",
       "      <th>11</th>\n",
       "      <td>34</td>\n",
       "    </tr>\n",
       "    <tr>\n",
       "      <th>12</th>\n",
       "      <td>22</td>\n",
       "    </tr>\n",
       "    <tr>\n",
       "      <th>13</th>\n",
       "      <td>209</td>\n",
       "    </tr>\n",
       "    <tr>\n",
       "      <th>14</th>\n",
       "      <td>101</td>\n",
       "    </tr>\n",
       "    <tr>\n",
       "      <th>15</th>\n",
       "      <td>135</td>\n",
       "    </tr>\n",
       "    <tr>\n",
       "      <th>16</th>\n",
       "      <td>167</td>\n",
       "    </tr>\n",
       "    <tr>\n",
       "      <th>17</th>\n",
       "      <td>85</td>\n",
       "    </tr>\n",
       "    <tr>\n",
       "      <th>18</th>\n",
       "      <td>70</td>\n",
       "    </tr>\n",
       "    <tr>\n",
       "      <th>19</th>\n",
       "      <td>21</td>\n",
       "    </tr>\n",
       "    <tr>\n",
       "      <th>20</th>\n",
       "      <td>158</td>\n",
       "    </tr>\n",
       "    <tr>\n",
       "      <th>21</th>\n",
       "      <td>99</td>\n",
       "    </tr>\n",
       "    <tr>\n",
       "      <th>22</th>\n",
       "      <td>52</td>\n",
       "    </tr>\n",
       "    <tr>\n",
       "      <th>23</th>\n",
       "      <td>154</td>\n",
       "    </tr>\n",
       "    <tr>\n",
       "      <th>24</th>\n",
       "      <td>10</td>\n",
       "    </tr>\n",
       "    <tr>\n",
       "      <th>25</th>\n",
       "      <td>5</td>\n",
       "    </tr>\n",
       "    <tr>\n",
       "      <th>26</th>\n",
       "      <td>47</td>\n",
       "    </tr>\n",
       "    <tr>\n",
       "      <th>27</th>\n",
       "      <td>79</td>\n",
       "    </tr>\n",
       "    <tr>\n",
       "      <th>28</th>\n",
       "      <td>111</td>\n",
       "    </tr>\n",
       "    <tr>\n",
       "      <th>29</th>\n",
       "      <td>16</td>\n",
       "    </tr>\n",
       "    <tr>\n",
       "      <th>...</th>\n",
       "      <td>...</td>\n",
       "    </tr>\n",
       "    <tr>\n",
       "      <th>181</th>\n",
       "      <td>163</td>\n",
       "    </tr>\n",
       "    <tr>\n",
       "      <th>182</th>\n",
       "      <td>38</td>\n",
       "    </tr>\n",
       "    <tr>\n",
       "      <th>183</th>\n",
       "      <td>39</td>\n",
       "    </tr>\n",
       "    <tr>\n",
       "      <th>184</th>\n",
       "      <td>105</td>\n",
       "    </tr>\n",
       "    <tr>\n",
       "      <th>185</th>\n",
       "      <td>192</td>\n",
       "    </tr>\n",
       "    <tr>\n",
       "      <th>186</th>\n",
       "      <td>161</td>\n",
       "    </tr>\n",
       "    <tr>\n",
       "      <th>187</th>\n",
       "      <td>157</td>\n",
       "    </tr>\n",
       "    <tr>\n",
       "      <th>188</th>\n",
       "      <td>162</td>\n",
       "    </tr>\n",
       "    <tr>\n",
       "      <th>189</th>\n",
       "      <td>179</td>\n",
       "    </tr>\n",
       "    <tr>\n",
       "      <th>190</th>\n",
       "      <td>12</td>\n",
       "    </tr>\n",
       "    <tr>\n",
       "      <th>191</th>\n",
       "      <td>40</td>\n",
       "    </tr>\n",
       "    <tr>\n",
       "      <th>192</th>\n",
       "      <td>90</td>\n",
       "    </tr>\n",
       "    <tr>\n",
       "      <th>193</th>\n",
       "      <td>66</td>\n",
       "    </tr>\n",
       "    <tr>\n",
       "      <th>194</th>\n",
       "      <td>78</td>\n",
       "    </tr>\n",
       "    <tr>\n",
       "      <th>195</th>\n",
       "      <td>107</td>\n",
       "    </tr>\n",
       "    <tr>\n",
       "      <th>196</th>\n",
       "      <td>62</td>\n",
       "    </tr>\n",
       "    <tr>\n",
       "      <th>197</th>\n",
       "      <td>30</td>\n",
       "    </tr>\n",
       "    <tr>\n",
       "      <th>198</th>\n",
       "      <td>200</td>\n",
       "    </tr>\n",
       "    <tr>\n",
       "      <th>199</th>\n",
       "      <td>187</td>\n",
       "    </tr>\n",
       "    <tr>\n",
       "      <th>200</th>\n",
       "      <td>185</td>\n",
       "    </tr>\n",
       "    <tr>\n",
       "      <th>201</th>\n",
       "      <td>95</td>\n",
       "    </tr>\n",
       "    <tr>\n",
       "      <th>202</th>\n",
       "      <td>8</td>\n",
       "    </tr>\n",
       "    <tr>\n",
       "      <th>203</th>\n",
       "      <td>36</td>\n",
       "    </tr>\n",
       "    <tr>\n",
       "      <th>204</th>\n",
       "      <td>191</td>\n",
       "    </tr>\n",
       "    <tr>\n",
       "      <th>205</th>\n",
       "      <td>194</td>\n",
       "    </tr>\n",
       "    <tr>\n",
       "      <th>206</th>\n",
       "      <td>49</td>\n",
       "    </tr>\n",
       "    <tr>\n",
       "      <th>207</th>\n",
       "      <td>87</td>\n",
       "    </tr>\n",
       "    <tr>\n",
       "      <th>208</th>\n",
       "      <td>54</td>\n",
       "    </tr>\n",
       "    <tr>\n",
       "      <th>209</th>\n",
       "      <td>61</td>\n",
       "    </tr>\n",
       "    <tr>\n",
       "      <th>210</th>\n",
       "      <td>186</td>\n",
       "    </tr>\n",
       "  </tbody>\n",
       "</table>\n",
       "<p>211 rows × 1 columns</p>\n",
       "</div>"
      ],
      "text/plain": [
       "             0\n",
       "0    intercept\n",
       "1           58\n",
       "2          123\n",
       "3          129\n",
       "4           13\n",
       "5           31\n",
       "6          133\n",
       "7           29\n",
       "8           59\n",
       "9           35\n",
       "10          81\n",
       "11          34\n",
       "12          22\n",
       "13         209\n",
       "14         101\n",
       "15         135\n",
       "16         167\n",
       "17          85\n",
       "18          70\n",
       "19          21\n",
       "20         158\n",
       "21          99\n",
       "22          52\n",
       "23         154\n",
       "24          10\n",
       "25           5\n",
       "26          47\n",
       "27          79\n",
       "28         111\n",
       "29          16\n",
       "..         ...\n",
       "181        163\n",
       "182         38\n",
       "183         39\n",
       "184        105\n",
       "185        192\n",
       "186        161\n",
       "187        157\n",
       "188        162\n",
       "189        179\n",
       "190         12\n",
       "191         40\n",
       "192         90\n",
       "193         66\n",
       "194         78\n",
       "195        107\n",
       "196         62\n",
       "197         30\n",
       "198        200\n",
       "199        187\n",
       "200        185\n",
       "201         95\n",
       "202          8\n",
       "203         36\n",
       "204        191\n",
       "205        194\n",
       "206         49\n",
       "207         87\n",
       "208         54\n",
       "209         61\n",
       "210        186\n",
       "\n",
       "[211 rows x 1 columns]"
      ]
     },
     "metadata": {},
     "output_type": "display_data"
    }
   ],
   "source": [
    "#Definition des dataframe avec les colonnes correspondantes pour X_train et X_test\n",
    "X_trainfwd= np.append(np.ones((X_train.shape[0],1)), X_train, axis=1)\n",
    "columns= np.append(\"intercept\",range(0,210))\n",
    "df_X_train=pd.DataFrame(X_trainfwd, columns=columns)\n",
    "\n",
    "X_testfwd= np.append(np.ones((X_test.shape[0],1)), X_test, axis=1)\n",
    "columns= np.append(\"intercept\",range(0,210))\n",
    "df_X_test=pd.DataFrame(X_testfwd, columns=columns)\n",
    "\n",
    "v,t,p= forward_selection(X_trainfwd)\n",
    "featureSelected= df_X_train.columns[v]\n",
    "display(pd.DataFrame(featureSelected))"
   ]
  },
  {
   "cell_type": "markdown",
   "metadata": {},
   "source": [
    "## 9) Forward selection avec un seuil de 0.1 sur la pvalue"
   ]
  },
  {
   "cell_type": "markdown",
   "metadata": {},
   "source": [
    "Cette fois on run la fonction avec le paramètre de seuil 0.1"
   ]
  },
  {
   "cell_type": "code",
   "execution_count": 204,
   "metadata": {},
   "outputs": [],
   "source": [
    "varfwd_selected,stats,pvalues = forward_selection(X_trainfwd, 0.1)\n",
    "indexOfVarSelected= df_X_train.columns[varfwd_selected]"
   ]
  },
  {
   "cell_type": "markdown",
   "metadata": {},
   "source": [
    "On plot les 3 premières itérations pour les variables sélectionnées"
   ]
  },
  {
   "cell_type": "code",
   "execution_count": 205,
   "metadata": {},
   "outputs": [
    {
     "data": {
      "image/png": "[encoded data removed]",
      "text/plain": [
       "<Figure size 432x288 with 1 Axes>"
      ]
     },
     "metadata": {},
     "output_type": "display_data"
    }
   ],
   "source": [
    "plt.plot(stats[0], label=\"n°1\")\n",
    "plt.plot(stats[1],label=\"n°2\")\n",
    "plt.plot(stats[2],label=\"n°3\")\n",
    "plt.legend()\n",
    "plt.show()"
   ]
  },
  {
   "cell_type": "code",
   "execution_count": 206,
   "metadata": {},
   "outputs": [
    {
     "data": {
      "image/png": "[encoded data removed]",
      "text/plain": [
       "<Figure size 432x288 with 1 Axes>"
      ]
     },
     "metadata": {},
     "output_type": "display_data"
    }
   ],
   "source": [
    "plt.plot(p[0:50], label=\"n°1\")\n",
    "plt.axhline(y=0.1, color='r', linestyle='-')\n",
    "plt.show()"
   ]
  },
  {
   "cell_type": "code",
   "execution_count": 207,
   "metadata": {},
   "outputs": [
    {
     "data": {
      "text/html": [
       "<div>\n",
       "<style scoped>\n",
       "    .dataframe tbody tr th:only-of-type {\n",
       "        vertical-align: middle;\n",
       "    }\n",
       "\n",
       "    .dataframe tbody tr th {\n",
       "        vertical-align: top;\n",
       "    }\n",
       "\n",
       "    .dataframe thead th {\n",
       "        text-align: right;\n",
       "    }\n",
       "</style>\n",
       "<table border=\"1\" class=\"dataframe\">\n",
       "  <thead>\n",
       "    <tr style=\"text-align: right;\">\n",
       "      <th></th>\n",
       "      <th>0</th>\n",
       "    </tr>\n",
       "  </thead>\n",
       "  <tbody>\n",
       "    <tr>\n",
       "      <th>0</th>\n",
       "      <td>intercept</td>\n",
       "    </tr>\n",
       "    <tr>\n",
       "      <th>1</th>\n",
       "      <td>58</td>\n",
       "    </tr>\n",
       "    <tr>\n",
       "      <th>2</th>\n",
       "      <td>123</td>\n",
       "    </tr>\n",
       "    <tr>\n",
       "      <th>3</th>\n",
       "      <td>129</td>\n",
       "    </tr>\n",
       "    <tr>\n",
       "      <th>4</th>\n",
       "      <td>13</td>\n",
       "    </tr>\n",
       "    <tr>\n",
       "      <th>5</th>\n",
       "      <td>31</td>\n",
       "    </tr>\n",
       "    <tr>\n",
       "      <th>6</th>\n",
       "      <td>133</td>\n",
       "    </tr>\n",
       "    <tr>\n",
       "      <th>7</th>\n",
       "      <td>29</td>\n",
       "    </tr>\n",
       "    <tr>\n",
       "      <th>8</th>\n",
       "      <td>59</td>\n",
       "    </tr>\n",
       "    <tr>\n",
       "      <th>9</th>\n",
       "      <td>35</td>\n",
       "    </tr>\n",
       "    <tr>\n",
       "      <th>10</th>\n",
       "      <td>81</td>\n",
       "    </tr>\n",
       "  </tbody>\n",
       "</table>\n",
       "</div>"
      ],
      "text/plain": [
       "            0\n",
       "0   intercept\n",
       "1          58\n",
       "2         123\n",
       "3         129\n",
       "4          13\n",
       "5          31\n",
       "6         133\n",
       "7          29\n",
       "8          59\n",
       "9          35\n",
       "10         81"
      ]
     },
     "execution_count": 207,
     "metadata": {},
     "output_type": "execute_result"
    }
   ],
   "source": [
    "pd.DataFrame(indexOfVarSelected).head(20)"
   ]
  },
  {
   "cell_type": "markdown",
   "metadata": {},
   "source": [
    "## 10) OLS sur les variables sélectionnées par forward selection"
   ]
  },
  {
   "cell_type": "code",
   "execution_count": 208,
   "metadata": {},
   "outputs": [
    {
     "data": {
      "text/html": [
       "<div>\n",
       "<style scoped>\n",
       "    .dataframe tbody tr th:only-of-type {\n",
       "        vertical-align: middle;\n",
       "    }\n",
       "\n",
       "    .dataframe tbody tr th {\n",
       "        vertical-align: top;\n",
       "    }\n",
       "\n",
       "    .dataframe thead th {\n",
       "        text-align: right;\n",
       "    }\n",
       "</style>\n",
       "<table border=\"1\" class=\"dataframe\">\n",
       "  <thead>\n",
       "    <tr style=\"text-align: right;\">\n",
       "      <th></th>\n",
       "      <th>intercept</th>\n",
       "      <th>58</th>\n",
       "      <th>123</th>\n",
       "      <th>129</th>\n",
       "      <th>13</th>\n",
       "      <th>31</th>\n",
       "      <th>133</th>\n",
       "      <th>29</th>\n",
       "      <th>59</th>\n",
       "      <th>35</th>\n",
       "      <th>81</th>\n",
       "    </tr>\n",
       "  </thead>\n",
       "  <tbody>\n",
       "    <tr>\n",
       "      <th>0</th>\n",
       "      <td>1.0</td>\n",
       "      <td>1.501026</td>\n",
       "      <td>1.501604</td>\n",
       "      <td>1.157678</td>\n",
       "      <td>1.532819</td>\n",
       "      <td>-0.874904</td>\n",
       "      <td>1.847318</td>\n",
       "      <td>0.024333</td>\n",
       "      <td>0.386046</td>\n",
       "      <td>2.244954</td>\n",
       "      <td>-0.549792</td>\n",
       "    </tr>\n",
       "    <tr>\n",
       "      <th>1</th>\n",
       "      <td>1.0</td>\n",
       "      <td>0.866554</td>\n",
       "      <td>0.707594</td>\n",
       "      <td>0.718098</td>\n",
       "      <td>1.224465</td>\n",
       "      <td>1.120734</td>\n",
       "      <td>-0.669396</td>\n",
       "      <td>-1.539673</td>\n",
       "      <td>0.380395</td>\n",
       "      <td>0.155604</td>\n",
       "      <td>-2.814923</td>\n",
       "    </tr>\n",
       "    <tr>\n",
       "      <th>2</th>\n",
       "      <td>1.0</td>\n",
       "      <td>-0.447709</td>\n",
       "      <td>1.663425</td>\n",
       "      <td>0.716352</td>\n",
       "      <td>0.554566</td>\n",
       "      <td>-1.791767</td>\n",
       "      <td>0.950558</td>\n",
       "      <td>0.879688</td>\n",
       "      <td>-0.339494</td>\n",
       "      <td>0.179690</td>\n",
       "      <td>0.666031</td>\n",
       "    </tr>\n",
       "    <tr>\n",
       "      <th>3</th>\n",
       "      <td>1.0</td>\n",
       "      <td>-1.376756</td>\n",
       "      <td>-0.069457</td>\n",
       "      <td>-0.766707</td>\n",
       "      <td>-0.990702</td>\n",
       "      <td>0.133378</td>\n",
       "      <td>-0.148697</td>\n",
       "      <td>-0.515301</td>\n",
       "      <td>-0.215077</td>\n",
       "      <td>-1.180763</td>\n",
       "      <td>1.472772</td>\n",
       "    </tr>\n",
       "    <tr>\n",
       "      <th>4</th>\n",
       "      <td>1.0</td>\n",
       "      <td>1.795602</td>\n",
       "      <td>1.701832</td>\n",
       "      <td>0.397604</td>\n",
       "      <td>-0.359056</td>\n",
       "      <td>-0.632968</td>\n",
       "      <td>1.934102</td>\n",
       "      <td>-0.747496</td>\n",
       "      <td>-0.588480</td>\n",
       "      <td>-0.249245</td>\n",
       "      <td>-2.498932</td>\n",
       "    </tr>\n",
       "  </tbody>\n",
       "</table>\n",
       "</div>"
      ],
      "text/plain": [
       "   intercept        58       123       129        13        31       133  \\\n",
       "0        1.0  1.501026  1.501604  1.157678  1.532819 -0.874904  1.847318   \n",
       "1        1.0  0.866554  0.707594  0.718098  1.224465  1.120734 -0.669396   \n",
       "2        1.0 -0.447709  1.663425  0.716352  0.554566 -1.791767  0.950558   \n",
       "3        1.0 -1.376756 -0.069457 -0.766707 -0.990702  0.133378 -0.148697   \n",
       "4        1.0  1.795602  1.701832  0.397604 -0.359056 -0.632968  1.934102   \n",
       "\n",
       "         29        59        35        81  \n",
       "0  0.024333  0.386046  2.244954 -0.549792  \n",
       "1 -1.539673  0.380395  0.155604 -2.814923  \n",
       "2  0.879688 -0.339494  0.179690  0.666031  \n",
       "3 -0.515301 -0.215077 -1.180763  1.472772  \n",
       "4 -0.747496 -0.588480 -0.249245 -2.498932  "
      ]
     },
     "execution_count": 208,
     "metadata": {},
     "output_type": "execute_result"
    }
   ],
   "source": [
    "#On construit notre nouvel X avec les colonnes sélectionnées\n",
    "Xfwd=df_X_train[ indexOfVarSelected]\n",
    "pdXfwd= pd.DataFrame(Xfwd)\n",
    "pdXfwd.head()"
   ]
  },
  {
   "cell_type": "code",
   "execution_count": 209,
   "metadata": {},
   "outputs": [
    {
     "data": {
      "text/html": [
       "<div>\n",
       "<style scoped>\n",
       "    .dataframe tbody tr th:only-of-type {\n",
       "        vertical-align: middle;\n",
       "    }\n",
       "\n",
       "    .dataframe tbody tr th {\n",
       "        vertical-align: top;\n",
       "    }\n",
       "\n",
       "    .dataframe thead th {\n",
       "        text-align: right;\n",
       "    }\n",
       "</style>\n",
       "<table border=\"1\" class=\"dataframe\">\n",
       "  <thead>\n",
       "    <tr style=\"text-align: right;\">\n",
       "      <th></th>\n",
       "      <th>intercept</th>\n",
       "      <th>58</th>\n",
       "      <th>123</th>\n",
       "      <th>129</th>\n",
       "      <th>13</th>\n",
       "      <th>31</th>\n",
       "      <th>133</th>\n",
       "      <th>29</th>\n",
       "      <th>59</th>\n",
       "      <th>35</th>\n",
       "      <th>81</th>\n",
       "    </tr>\n",
       "  </thead>\n",
       "  <tbody>\n",
       "    <tr>\n",
       "      <th>0</th>\n",
       "      <td>1.0</td>\n",
       "      <td>0.390700</td>\n",
       "      <td>-1.215177</td>\n",
       "      <td>1.832893</td>\n",
       "      <td>0.030336</td>\n",
       "      <td>-2.848904</td>\n",
       "      <td>0.082726</td>\n",
       "      <td>-1.046563</td>\n",
       "      <td>0.218118</td>\n",
       "      <td>3.276513</td>\n",
       "      <td>-1.867031</td>\n",
       "    </tr>\n",
       "    <tr>\n",
       "      <th>1</th>\n",
       "      <td>1.0</td>\n",
       "      <td>-0.946222</td>\n",
       "      <td>-0.646507</td>\n",
       "      <td>1.465882</td>\n",
       "      <td>0.235979</td>\n",
       "      <td>1.558289</td>\n",
       "      <td>0.227364</td>\n",
       "      <td>-0.056701</td>\n",
       "      <td>-0.810502</td>\n",
       "      <td>-0.246907</td>\n",
       "      <td>0.361369</td>\n",
       "    </tr>\n",
       "    <tr>\n",
       "      <th>2</th>\n",
       "      <td>1.0</td>\n",
       "      <td>2.588691</td>\n",
       "      <td>0.770434</td>\n",
       "      <td>2.795967</td>\n",
       "      <td>0.314921</td>\n",
       "      <td>-0.541631</td>\n",
       "      <td>-2.202567</td>\n",
       "      <td>0.481621</td>\n",
       "      <td>-0.444215</td>\n",
       "      <td>1.386479</td>\n",
       "      <td>-0.914531</td>\n",
       "    </tr>\n",
       "    <tr>\n",
       "      <th>3</th>\n",
       "      <td>1.0</td>\n",
       "      <td>0.866554</td>\n",
       "      <td>-0.229253</td>\n",
       "      <td>-2.419339</td>\n",
       "      <td>0.388564</td>\n",
       "      <td>0.084054</td>\n",
       "      <td>0.863775</td>\n",
       "      <td>0.121591</td>\n",
       "      <td>-0.524752</td>\n",
       "      <td>-0.909410</td>\n",
       "      <td>0.498026</td>\n",
       "    </tr>\n",
       "    <tr>\n",
       "      <th>4</th>\n",
       "      <td>1.0</td>\n",
       "      <td>-0.810264</td>\n",
       "      <td>-0.473291</td>\n",
       "      <td>-1.190278</td>\n",
       "      <td>-1.810163</td>\n",
       "      <td>-1.016719</td>\n",
       "      <td>1.615896</td>\n",
       "      <td>0.617683</td>\n",
       "      <td>0.196670</td>\n",
       "      <td>-0.317617</td>\n",
       "      <td>-1.225810</td>\n",
       "    </tr>\n",
       "  </tbody>\n",
       "</table>\n",
       "</div>"
      ],
      "text/plain": [
       "   intercept        58       123       129        13        31       133  \\\n",
       "0        1.0  0.390700 -1.215177  1.832893  0.030336 -2.848904  0.082726   \n",
       "1        1.0 -0.946222 -0.646507  1.465882  0.235979  1.558289  0.227364   \n",
       "2        1.0  2.588691  0.770434  2.795967  0.314921 -0.541631 -2.202567   \n",
       "3        1.0  0.866554 -0.229253 -2.419339  0.388564  0.084054  0.863775   \n",
       "4        1.0 -0.810264 -0.473291 -1.190278 -1.810163 -1.016719  1.615896   \n",
       "\n",
       "         29        59        35        81  \n",
       "0 -1.046563  0.218118  3.276513 -1.867031  \n",
       "1 -0.056701 -0.810502 -0.246907  0.361369  \n",
       "2  0.481621 -0.444215  1.386479 -0.914531  \n",
       "3  0.121591 -0.524752 -0.909410  0.498026  \n",
       "4  0.617683  0.196670 -0.317617 -1.225810  "
      ]
     },
     "execution_count": 209,
     "metadata": {},
     "output_type": "execute_result"
    }
   ],
   "source": [
    "# Pareil pour Xtest\n",
    "Xtestfwd=df_X_test[indexOfVarSelected]\n",
    "Xtestfwd.head()"
   ]
  },
  {
   "cell_type": "markdown",
   "metadata": {},
   "source": [
    "On fait notre prédiction sur ces nouveaux X_train et X_test"
   ]
  },
  {
   "cell_type": "code",
   "execution_count": 211,
   "metadata": {},
   "outputs": [
    {
     "name": "stdout",
     "output_type": "stream",
     "text": [
      "R2 forward selection=0.33496638604425166\n",
      "predictionError=317586.95179032354\n"
     ]
    }
   ],
   "source": [
    "gram= Xfwd.T@Xfwd\n",
    "B= np.linalg.inv(gram).dot(Xfwd.transpose().dot(y_train))\n",
    "ypredFwd= Xtestfwd@B\n",
    "prediction_error= np.sum((y_test-ypredFwd)**2)\n",
    "R2fwd= 1-prediction_error/(np.sum((y_test-y_test.mean())**2))\n",
    "print(\"R2 forward selection=\"+str(R2fwd))\n",
    "print(\"predictionError=\"+str(prediction_error))"
   ]
  },
  {
   "cell_type": "markdown",
   "metadata": {},
   "source": [
    "Vérification avec les packages"
   ]
  },
  {
   "cell_type": "code",
   "execution_count": 47,
   "metadata": {
    "scrolled": true
   },
   "outputs": [
    {
     "name": "stdout",
     "output_type": "stream",
     "text": [
      "R2 avec forward selection= 0.3348982842131624\n"
     ]
    }
   ],
   "source": [
    "regSelected= LinearRegression()\n",
    "regSelected.fit(Xfwd, y_train)\n",
    "\n",
    "pd.DataFrame(Xtestfwd).head()\n",
    "scoreSelected= regSelected.score(Xtestfwd, y_test)\n",
    "scoresTP[\"Fwd\"]=scoreSelected\n",
    "print(\"R2 avec forward selection= \"+str(scoreSelected))\n"
   ]
  },
  {
   "cell_type": "markdown",
   "metadata": {},
   "source": [
    "## 11) Validation croisée Kfold"
   ]
  },
  {
   "cell_type": "code",
   "execution_count": 48,
   "metadata": {},
   "outputs": [],
   "source": [
    "kf = KFold(n_splits=4, shuffle=True, random_state=2)\n",
    "foldsTrain= []\n",
    "foldsTest= []\n",
    "for train_index, test_index in kf.split(X_train):\n",
    "    foldsTrain.append(train_index)\n",
    "    foldsTest.append(test_index)\n",
    "    \n",
    "    #print(\"TRAIN:\", train_index.shape, \"TEST:\", test_index.shape)\n",
    "\n",
    "\n",
    "\n",
    "\n"
   ]
  },
  {
   "cell_type": "code",
   "execution_count": 49,
   "metadata": {},
   "outputs": [
    {
     "data": {
      "text/html": [
       "<div>\n",
       "<style scoped>\n",
       "    .dataframe tbody tr th:only-of-type {\n",
       "        vertical-align: middle;\n",
       "    }\n",
       "\n",
       "    .dataframe tbody tr th {\n",
       "        vertical-align: top;\n",
       "    }\n",
       "\n",
       "    .dataframe thead th {\n",
       "        text-align: right;\n",
       "    }\n",
       "</style>\n",
       "<table border=\"1\" class=\"dataframe\">\n",
       "  <thead>\n",
       "    <tr style=\"text-align: right;\">\n",
       "      <th></th>\n",
       "      <th>0</th>\n",
       "      <th>1</th>\n",
       "      <th>2</th>\n",
       "      <th>3</th>\n",
       "      <th>4</th>\n",
       "      <th>5</th>\n",
       "      <th>6</th>\n",
       "      <th>7</th>\n",
       "      <th>8</th>\n",
       "      <th>9</th>\n",
       "      <th>...</th>\n",
       "      <th>79</th>\n",
       "      <th>80</th>\n",
       "      <th>81</th>\n",
       "      <th>82</th>\n",
       "      <th>83</th>\n",
       "      <th>84</th>\n",
       "      <th>85</th>\n",
       "      <th>86</th>\n",
       "      <th>87</th>\n",
       "      <th>88</th>\n",
       "    </tr>\n",
       "  </thead>\n",
       "  <tbody>\n",
       "    <tr>\n",
       "      <th>0</th>\n",
       "      <td>3</td>\n",
       "      <td>7</td>\n",
       "      <td>10</td>\n",
       "      <td>12</td>\n",
       "      <td>13</td>\n",
       "      <td>17</td>\n",
       "      <td>20</td>\n",
       "      <td>24</td>\n",
       "      <td>25</td>\n",
       "      <td>29</td>\n",
       "      <td>...</td>\n",
       "      <td>306</td>\n",
       "      <td>308</td>\n",
       "      <td>320</td>\n",
       "      <td>325</td>\n",
       "      <td>340</td>\n",
       "      <td>341</td>\n",
       "      <td>342</td>\n",
       "      <td>345</td>\n",
       "      <td>346</td>\n",
       "      <td>351.0</td>\n",
       "    </tr>\n",
       "    <tr>\n",
       "      <th>1</th>\n",
       "      <td>2</td>\n",
       "      <td>4</td>\n",
       "      <td>5</td>\n",
       "      <td>6</td>\n",
       "      <td>11</td>\n",
       "      <td>14</td>\n",
       "      <td>18</td>\n",
       "      <td>23</td>\n",
       "      <td>28</td>\n",
       "      <td>39</td>\n",
       "      <td>...</td>\n",
       "      <td>310</td>\n",
       "      <td>314</td>\n",
       "      <td>317</td>\n",
       "      <td>328</td>\n",
       "      <td>329</td>\n",
       "      <td>331</td>\n",
       "      <td>336</td>\n",
       "      <td>337</td>\n",
       "      <td>339</td>\n",
       "      <td>NaN</td>\n",
       "    </tr>\n",
       "    <tr>\n",
       "      <th>2</th>\n",
       "      <td>0</td>\n",
       "      <td>1</td>\n",
       "      <td>8</td>\n",
       "      <td>9</td>\n",
       "      <td>21</td>\n",
       "      <td>27</td>\n",
       "      <td>32</td>\n",
       "      <td>36</td>\n",
       "      <td>37</td>\n",
       "      <td>40</td>\n",
       "      <td>...</td>\n",
       "      <td>330</td>\n",
       "      <td>332</td>\n",
       "      <td>333</td>\n",
       "      <td>334</td>\n",
       "      <td>335</td>\n",
       "      <td>343</td>\n",
       "      <td>344</td>\n",
       "      <td>349</td>\n",
       "      <td>350</td>\n",
       "      <td>NaN</td>\n",
       "    </tr>\n",
       "    <tr>\n",
       "      <th>3</th>\n",
       "      <td>15</td>\n",
       "      <td>16</td>\n",
       "      <td>19</td>\n",
       "      <td>22</td>\n",
       "      <td>26</td>\n",
       "      <td>31</td>\n",
       "      <td>33</td>\n",
       "      <td>34</td>\n",
       "      <td>38</td>\n",
       "      <td>43</td>\n",
       "      <td>...</td>\n",
       "      <td>299</td>\n",
       "      <td>302</td>\n",
       "      <td>313</td>\n",
       "      <td>319</td>\n",
       "      <td>323</td>\n",
       "      <td>338</td>\n",
       "      <td>347</td>\n",
       "      <td>348</td>\n",
       "      <td>352</td>\n",
       "      <td>NaN</td>\n",
       "    </tr>\n",
       "  </tbody>\n",
       "</table>\n",
       "<p>4 rows × 89 columns</p>\n",
       "</div>"
      ],
      "text/plain": [
       "   0   1   2   3   4   5   6   7   8   9   ...     79   80   81   82   83  \\\n",
       "0   3   7  10  12  13  17  20  24  25  29  ...    306  308  320  325  340   \n",
       "1   2   4   5   6  11  14  18  23  28  39  ...    310  314  317  328  329   \n",
       "2   0   1   8   9  21  27  32  36  37  40  ...    330  332  333  334  335   \n",
       "3  15  16  19  22  26  31  33  34  38  43  ...    299  302  313  319  323   \n",
       "\n",
       "    84   85   86   87     88  \n",
       "0  341  342  345  346  351.0  \n",
       "1  331  336  337  339    NaN  \n",
       "2  343  344  349  350    NaN  \n",
       "3  338  347  348  352    NaN  \n",
       "\n",
       "[4 rows x 89 columns]"
      ]
     },
     "execution_count": 49,
     "metadata": {},
     "output_type": "execute_result"
    }
   ],
   "source": [
    "pd.DataFrame(foldsTest).head()"
   ]
  },
  {
   "cell_type": "markdown",
   "metadata": {},
   "source": [
    "## 12) Ridge"
   ]
  },
  {
   "cell_type": "markdown",
   "metadata": {},
   "source": [
    "Définition de la fonction de cv pour lambda avec Ridge"
   ]
  },
  {
   "cell_type": "code",
   "execution_count": 78,
   "metadata": {},
   "outputs": [],
   "source": [
    "\n",
    "\n",
    "def kFoldRidge(X, Y, lambdas):\n",
    "    kf = KFold(n_splits=4, shuffle=True, random_state=2)\n",
    "    r = dict()\n",
    "    dfX= pd.DataFrame(X)\n",
    "    dfY=pd.DataFrame(Y)\n",
    "    for alpha in lambdas:\n",
    "        ridgeReg =  Ridge(alpha=alpha)\n",
    "        scores = []\n",
    "        for train_index, test_index in kf.split(X):\n",
    "        #     print(\"TRAIN:\", train_index, \"TEST:\", test_index)\n",
    "            X_traink, X_testk = dfX.take(train_index), dfX.take(test_index)\n",
    "            Y_traink, Y_testk = dfY.take(train_index), dfY.take(test_index)\n",
    "            ridgeReg.fit(X_traink, Y_traink)\n",
    "            scores.append(ridgeReg.score(X_testk, Y_testk))\n",
    "        r[alpha]= np.array(scores).mean()\n",
    "        #print('alpha :'+ str(alpha) + \"----> score mean :\" + str(r[alpha]))\n",
    "    return r"
   ]
  },
  {
   "cell_type": "code",
   "execution_count": 79,
   "metadata": {},
   "outputs": [
    {
     "name": "stdout",
     "output_type": "stream",
     "text": [
      "{1000: 0.25388084880013473, 100: 0.3490697354399197, 10: 0.3505177092771351, 1: 0.35049108964149134, 0.1: 0.350318042128834, 0.01: 0.3501728438907553, 0.001: 0.3501553546890911, 0.0001: 0.3501535727244405, 1e-05: 0.3501533941938675, 1e-06: 0.35015337633746496, 1e-07: 0.35015337455179163, 1e-08: 0.350153374373224, 1e-09: 0.35015337435536725, 1e-10: 0.3501533743535818, 1e-11: 0.35015337435340277}\n"
     ]
    }
   ],
   "source": [
    "alphas=kFoldRidge(X_train,y_train, [10**(3-x) for x in range(15)])\n",
    "print(alphas)"
   ]
  },
  {
   "cell_type": "code",
   "execution_count": 80,
   "metadata": {
    "scrolled": true
   },
   "outputs": [
    {
     "name": "stdout",
     "output_type": "stream",
     "text": [
      "10\n"
     ]
    }
   ],
   "source": [
    "bestAlpha= max(alphas, key=alphas.get)\n",
    "print(bestAlpha)"
   ]
  },
  {
   "cell_type": "code",
   "execution_count": 81,
   "metadata": {},
   "outputs": [
    {
     "name": "stdout",
     "output_type": "stream",
     "text": [
      "13\n"
     ]
    }
   ],
   "source": [
    "alphas2=kFoldRidge(Xfwd,y_train,range(100))\n",
    "bestAlpha= max(alphas2, key=alphas2.get)\n",
    "print(bestAlpha)"
   ]
  },
  {
   "cell_type": "code",
   "execution_count": 82,
   "metadata": {},
   "outputs": [
    {
     "data": {
      "image/png": "[encoded data removed]",
      "text/plain": [
       "<Figure size 432x288 with 1 Axes>"
      ]
     },
     "metadata": {},
     "output_type": "display_data"
    }
   ],
   "source": [
    "plt.plot(np.log10(list(alphas.keys())),alphas.values())\n",
    "plt.xlabel(\"log10(lambda)\")\n",
    "plt.ylabel(\"R2 Score\")\n",
    "plt.show()"
   ]
  },
  {
   "cell_type": "code",
   "execution_count": 83,
   "metadata": {},
   "outputs": [
    {
     "data": {
      "image/png": "[encoded data removed]",
      "text/plain": [
       "<Figure size 432x288 with 1 Axes>"
      ]
     },
     "metadata": {},
     "output_type": "display_data"
    }
   ],
   "source": [
    "plt.plot(list(alphas2.keys()),alphas2.values())\n",
    "plt.xlabel(\"lambda\")\n",
    "plt.ylabel(\"R2 Score\")\n",
    "plt.show()"
   ]
  },
  {
   "cell_type": "code",
   "execution_count": 84,
   "metadata": {},
   "outputs": [
    {
     "name": "stdout",
     "output_type": "stream",
     "text": [
      "R2 score avec Ridge pour le best lambda 0.4241962031724128\n"
     ]
    }
   ],
   "source": [
    "rr =  Ridge(alpha=bestAlpha)\n",
    "rr.fit(X_train, y_train)\n",
    "R2rr=rr.score(X_test, y_test)\n",
    "scoresTP[\"Ridge\"]=R2rr\n",
    "print(\"R2 score avec Ridge pour le best lambda \"+str(R2rr))"
   ]
  },
  {
   "cell_type": "markdown",
   "metadata": {},
   "source": [
    "## 13) Lasso"
   ]
  },
  {
   "cell_type": "markdown",
   "metadata": {},
   "source": [
    "On commence par chercher le bon paramètre alpha par cross validation"
   ]
  },
  {
   "cell_type": "code",
   "execution_count": 95,
   "metadata": {},
   "outputs": [
    {
     "name": "stdout",
     "output_type": "stream",
     "text": [
      "[1.e+03 1.e+02 1.e+01 1.e+00 1.e-01 1.e-02 1.e-03 1.e-04]\n"
     ]
    }
   ],
   "source": [
    "my_alphas = np.array([10**(3-x) for x in range(8)])\n",
    "lassoCV = LassoCV(alphas=my_alphas,random_state=2,cv=5, max_iter=10**5)\n",
    "\n",
    "lassoCV.fit(X_train,y_train)\n",
    "print(lassoCV.alphas_)"
   ]
  },
  {
   "cell_type": "markdown",
   "metadata": {},
   "source": [
    "On récupère les moyennes des MSE pour chacun des alphas "
   ]
  },
  {
   "cell_type": "code",
   "execution_count": 96,
   "metadata": {
    "scrolled": true
   },
   "outputs": [
    {
     "name": "stdout",
     "output_type": "stream",
     "text": [
      "[6102.08930191 6102.08930191 3310.64079384 3532.94380437 3760.73473379\n",
      " 3790.10664639 3793.16917404 3793.48699889]\n"
     ]
    }
   ],
   "source": [
    "avg_mse = np.mean(lassoCV.mse_path_,axis=1)\n",
    "print(avg_mse)\n"
   ]
  },
  {
   "cell_type": "code",
   "execution_count": 97,
   "metadata": {},
   "outputs": [],
   "source": [
    "#print(lcv.score(X_test,y_test))"
   ]
  },
  {
   "cell_type": "code",
   "execution_count": 100,
   "metadata": {},
   "outputs": [
    {
     "name": "stdout",
     "output_type": "stream",
     "text": [
      "[-0.          0.          0.          0.         -0.          0.\n",
      "  0.         -0.          0.          0.          0.         -0.\n",
      " -0.          0.         -0.         -0.         -0.         -0.\n",
      "  0.          0.          0.         -0.          0.          0.\n",
      " -0.          0.         -0.         -0.          0.          0.\n",
      "  0.         -0.         -0.         -0.          0.          0.\n",
      " -0.          0.          0.         -0.          0.          0.\n",
      " -0.         -0.          0.         -0.          0.          0.\n",
      "  0.         -0.         -0.         -0.          0.         -0.\n",
      "  0.         -0.         -0.         -0.         22.93642188 -0.\n",
      " -0.          0.         -0.         -0.         -0.          0.\n",
      "  0.         -0.         -0.          0.         -0.          0.\n",
      "  0.         -0.         -0.         -0.         -0.          0.\n",
      " -0.          0.         -0.          0.         -0.          0.\n",
      " -0.         -0.          0.         -0.         -0.          0.\n",
      "  0.         -0.         -0.          0.         -0.          0.\n",
      " -0.          0.         -0.          0.          0.          0.\n",
      " -0.         -0.          0.         -0.          0.          0.\n",
      " -0.         -0.          0.          0.          0.          0.\n",
      "  0.          0.         -0.          0.         -0.          0.\n",
      " -0.          0.          0.         21.89582118 -0.         -0.\n",
      " -0.          0.         -0.         -0.         -0.         -0.\n",
      " -0.          0.         -0.         -0.          0.         -0.\n",
      " -0.         -0.          0.         -0.         -0.          0.\n",
      " -0.          0.          0.         -0.         -0.         -0.\n",
      " -0.         -0.          0.          0.         -0.         -0.\n",
      "  0.          0.         -0.         -0.         -0.          0.\n",
      "  0.          0.         -0.         -0.         -0.          4.6688622\n",
      "  0.          0.         -0.         -0.         -0.         -0.\n",
      " -2.99516852  0.          0.          0.         -0.         -0.\n",
      "  0.          0.          0.         -0.          0.         -0.\n",
      " -0.         -0.          0.          0.         -0.         -0.\n",
      "  0.         -0.         -0.          0.          0.         -0.\n",
      " -0.         -0.          0.          0.         -0.         -0.\n",
      "  0.         -0.         -0.         -0.          0.         -0.        ]\n"
     ]
    }
   ],
   "source": [
    "print(lassoCV.coef_)"
   ]
  },
  {
   "cell_type": "markdown",
   "metadata": {},
   "source": [
    "On trace les moyennes des MSE pour chaque alpha"
   ]
  },
  {
   "cell_type": "code",
   "execution_count": 124,
   "metadata": {},
   "outputs": [
    {
     "data": {
      "image/png": "[encoded data removed]",
      "text/plain": [
       "<Figure size 432x288 with 1 Axes>"
      ]
     },
     "metadata": {},
     "output_type": "display_data"
    }
   ],
   "source": [
    "\n",
    "plt.plot(np.log10(lassoCV.alphas_),avg_mse)\n",
    "plt.xlabel('Alpha')\n",
    "plt.ylabel('MSE')\n",
    "plt.title('MSE vs. Alpha')\n",
    "plt.show()"
   ]
  },
  {
   "cell_type": "markdown",
   "metadata": {},
   "source": [
    "On récupère le meilleur alpha"
   ]
  },
  {
   "cell_type": "code",
   "execution_count": 112,
   "metadata": {
    "scrolled": true
   },
   "outputs": [
    {
     "name": "stdout",
     "output_type": "stream",
     "text": [
      "10.0\n"
     ]
    }
   ],
   "source": [
    "print(lassoCV.alphas_[avg_mse.argmin()])"
   ]
  },
  {
   "cell_type": "markdown",
   "metadata": {},
   "source": [
    "Ou plus simplement"
   ]
  },
  {
   "cell_type": "code",
   "execution_count": 115,
   "metadata": {},
   "outputs": [
    {
     "name": "stdout",
     "output_type": "stream",
     "text": [
      "10.0\n"
     ]
    }
   ],
   "source": [
    "print(lassoCV.alpha_)"
   ]
  },
  {
   "cell_type": "code",
   "execution_count": 118,
   "metadata": {},
   "outputs": [
    {
     "name": "stdout",
     "output_type": "stream",
     "text": [
      "0.4076244680713219\n"
     ]
    }
   ],
   "source": [
    "scoresTP[\"lasso\"]=lassoCV.score(X_test,y_test)\n",
    "print(scoresTP[\"lasso\"])"
   ]
  },
  {
   "cell_type": "markdown",
   "metadata": {},
   "source": [
    "On obtient un R2 de 0.408"
   ]
  },
  {
   "cell_type": "code",
   "execution_count": 129,
   "metadata": {
    "scrolled": true
   },
   "outputs": [
    {
     "name": "stdout",
     "output_type": "stream",
     "text": [
      "[22.93642188 21.89582118  4.6688622  -2.99516852]\n",
      "Il y a 4 coefficients non nuls\n"
     ]
    }
   ],
   "source": [
    "indexCoeffLassoSelected= np.nonzero(lcv.coef_)\n",
    "print(lassoCV.coef_[indexCoeffLassoSelected])\n",
    "print(\"Il y a \"+str(len(indexCoeffLassoSelected[0]))+\" coefficients non nuls\")"
   ]
  },
  {
   "cell_type": "markdown",
   "metadata": {},
   "source": [
    "On reconstruit notre XLasso avec uniquement les variables sélectionnées par le lasso:"
   ]
  },
  {
   "cell_type": "code",
   "execution_count": 138,
   "metadata": {},
   "outputs": [],
   "source": [
    "X_train_lasso=pd.DataFrame(X_train)[ indexCoeffLassoSelected[0]]\n",
    "X_test_lasso=pd.DataFrame(X_test)[ indexCoeffLassoSelected[0]]"
   ]
  },
  {
   "cell_type": "code",
   "execution_count": 139,
   "metadata": {},
   "outputs": [
    {
     "data": {
      "text/html": [
       "<div>\n",
       "<style scoped>\n",
       "    .dataframe tbody tr th:only-of-type {\n",
       "        vertical-align: middle;\n",
       "    }\n",
       "\n",
       "    .dataframe tbody tr th {\n",
       "        vertical-align: top;\n",
       "    }\n",
       "\n",
       "    .dataframe thead th {\n",
       "        text-align: right;\n",
       "    }\n",
       "</style>\n",
       "<table border=\"1\" class=\"dataframe\">\n",
       "  <thead>\n",
       "    <tr style=\"text-align: right;\">\n",
       "      <th></th>\n",
       "      <th>58</th>\n",
       "      <th>123</th>\n",
       "      <th>167</th>\n",
       "      <th>174</th>\n",
       "    </tr>\n",
       "  </thead>\n",
       "  <tbody>\n",
       "    <tr>\n",
       "      <th>0</th>\n",
       "      <td>1.501026</td>\n",
       "      <td>1.501604</td>\n",
       "      <td>2.052249</td>\n",
       "      <td>-0.448039</td>\n",
       "    </tr>\n",
       "    <tr>\n",
       "      <th>1</th>\n",
       "      <td>0.866554</td>\n",
       "      <td>0.707594</td>\n",
       "      <td>-0.553511</td>\n",
       "      <td>-0.757647</td>\n",
       "    </tr>\n",
       "    <tr>\n",
       "      <th>2</th>\n",
       "      <td>-0.447709</td>\n",
       "      <td>1.663425</td>\n",
       "      <td>1.835102</td>\n",
       "      <td>-0.989853</td>\n",
       "    </tr>\n",
       "    <tr>\n",
       "      <th>3</th>\n",
       "      <td>-1.376756</td>\n",
       "      <td>-0.069457</td>\n",
       "      <td>-0.119218</td>\n",
       "      <td>0.867796</td>\n",
       "    </tr>\n",
       "    <tr>\n",
       "      <th>4</th>\n",
       "      <td>1.795602</td>\n",
       "      <td>1.701832</td>\n",
       "      <td>-0.770658</td>\n",
       "      <td>-1.299461</td>\n",
       "    </tr>\n",
       "  </tbody>\n",
       "</table>\n",
       "</div>"
      ],
      "text/plain": [
       "        58        123       167       174\n",
       "0  1.501026  1.501604  2.052249 -0.448039\n",
       "1  0.866554  0.707594 -0.553511 -0.757647\n",
       "2 -0.447709  1.663425  1.835102 -0.989853\n",
       "3 -1.376756 -0.069457 -0.119218  0.867796\n",
       "4  1.795602  1.701832 -0.770658 -1.299461"
      ]
     },
     "execution_count": 139,
     "metadata": {},
     "output_type": "execute_result"
    }
   ],
   "source": [
    "X_train_lasso.head()"
   ]
  },
  {
   "cell_type": "markdown",
   "metadata": {},
   "source": [
    "On applique l'OLS sur ce nouveau Xlasso"
   ]
  },
  {
   "cell_type": "code",
   "execution_count": 140,
   "metadata": {},
   "outputs": [],
   "source": [
    "X_train_lasso_I= sm.add_constant(X_train_lasso)\n",
    "X_test_lasso_I= sm.add_constant(X_test_lasso)\n",
    "\n",
    "\n",
    "thetaLasso=np.linalg.inv(X_train_lasso_I.T@X_train_lasso_I)@X_train_lasso_I.T@y_train\n",
    "#On projette Xtest sur l'espace PCA \n",
    "ypredLasso= X_test_lasso_I@thetaLasso\n"
   ]
  },
  {
   "cell_type": "code",
   "execution_count": 144,
   "metadata": {
    "scrolled": true
   },
   "outputs": [
    {
     "name": "stdout",
     "output_type": "stream",
     "text": [
      "R2 pour Lasso 0.4380609764378125\n"
     ]
    }
   ],
   "source": [
    "R2Lasso=1-np.sum((ypredLasso-y_test)**2)/np.sum((y_test-y_test.mean())**2)\n",
    "scoresTP[\"lasso\"]=R2Lasso\n",
    "print(\"R2 pour Lasso \"+str(R2Lasso))"
   ]
  },
  {
   "cell_type": "code",
   "execution_count": 145,
   "metadata": {},
   "outputs": [
    {
     "name": "stdout",
     "output_type": "stream",
     "text": [
      "0.4380609764378126\n"
     ]
    }
   ],
   "source": [
    "lrLasso= LinearRegression()\n",
    "lrLasso.fit(X_train_lasso,y_train)\n",
    "scoreLasso=lrLasso.score(X_test_lasso, y_test)\n",
    "predLasso=lrLasso.predict(X_test_lasso)\n",
    "print(scoreLasso)"
   ]
  },
  {
   "cell_type": "code",
   "execution_count": 146,
   "metadata": {},
   "outputs": [
    {
     "data": {
      "text/html": [
       "<div>\n",
       "<style scoped>\n",
       "    .dataframe tbody tr th:only-of-type {\n",
       "        vertical-align: middle;\n",
       "    }\n",
       "\n",
       "    .dataframe tbody tr th {\n",
       "        vertical-align: top;\n",
       "    }\n",
       "\n",
       "    .dataframe thead th {\n",
       "        text-align: right;\n",
       "    }\n",
       "</style>\n",
       "<table border=\"1\" class=\"dataframe\">\n",
       "  <thead>\n",
       "    <tr style=\"text-align: right;\">\n",
       "      <th></th>\n",
       "      <th>0</th>\n",
       "      <th>1</th>\n",
       "    </tr>\n",
       "  </thead>\n",
       "  <tbody>\n",
       "    <tr>\n",
       "      <th>0</th>\n",
       "      <td>146.687096</td>\n",
       "      <td>113.0</td>\n",
       "    </tr>\n",
       "    <tr>\n",
       "      <th>1</th>\n",
       "      <td>113.499414</td>\n",
       "      <td>102.0</td>\n",
       "    </tr>\n",
       "    <tr>\n",
       "      <th>2</th>\n",
       "      <td>273.746982</td>\n",
       "      <td>281.0</td>\n",
       "    </tr>\n",
       "    <tr>\n",
       "      <th>3</th>\n",
       "      <td>179.437898</td>\n",
       "      <td>198.0</td>\n",
       "    </tr>\n",
       "    <tr>\n",
       "      <th>4</th>\n",
       "      <td>139.245407</td>\n",
       "      <td>253.0</td>\n",
       "    </tr>\n",
       "  </tbody>\n",
       "</table>\n",
       "</div>"
      ],
      "text/plain": [
       "            0      1\n",
       "0  146.687096  113.0\n",
       "1  113.499414  102.0\n",
       "2  273.746982  281.0\n",
       "3  179.437898  198.0\n",
       "4  139.245407  253.0"
      ]
     },
     "execution_count": 146,
     "metadata": {},
     "output_type": "execute_result"
    }
   ],
   "source": [
    "arra=np.append(predLasso.reshape(len(y_test),1),y_test.reshape(len(y_test),1), axis=1)\n",
    "dfpredictlasso=pd.DataFrame(arra)\n",
    "dfpredictlasso.head()"
   ]
  },
  {
   "cell_type": "code",
   "execution_count": 162,
   "metadata": {},
   "outputs": [
    {
     "name": "stdout",
     "output_type": "stream",
     "text": [
      "{'PCA+OLS': 0.4228732799051903, 'OLS': 0.42287327990518964, 'Fwd': 0.3348982842131624, 'Ridge': 0.4241962031724128, 'lasso': 0.4380609764378125}\n"
     ]
    }
   ],
   "source": [
    "print(scoresTP)"
   ]
  },
  {
   "cell_type": "code",
   "execution_count": 165,
   "metadata": {},
   "outputs": [
    {
     "data": {
      "text/html": [
       "<div>\n",
       "<style scoped>\n",
       "    .dataframe tbody tr th:only-of-type {\n",
       "        vertical-align: middle;\n",
       "    }\n",
       "\n",
       "    .dataframe tbody tr th {\n",
       "        vertical-align: top;\n",
       "    }\n",
       "\n",
       "    .dataframe thead th {\n",
       "        text-align: right;\n",
       "    }\n",
       "</style>\n",
       "<table border=\"1\" class=\"dataframe\">\n",
       "  <thead>\n",
       "    <tr style=\"text-align: right;\">\n",
       "      <th></th>\n",
       "      <th>0</th>\n",
       "    </tr>\n",
       "  </thead>\n",
       "  <tbody>\n",
       "    <tr>\n",
       "      <th>PCA+OLS</th>\n",
       "      <td>0.422873</td>\n",
       "    </tr>\n",
       "    <tr>\n",
       "      <th>OLS</th>\n",
       "      <td>0.422873</td>\n",
       "    </tr>\n",
       "    <tr>\n",
       "      <th>Fwd</th>\n",
       "      <td>0.334898</td>\n",
       "    </tr>\n",
       "    <tr>\n",
       "      <th>Ridge</th>\n",
       "      <td>0.424196</td>\n",
       "    </tr>\n",
       "    <tr>\n",
       "      <th>lasso</th>\n",
       "      <td>0.438061</td>\n",
       "    </tr>\n",
       "  </tbody>\n",
       "</table>\n",
       "</div>"
      ],
      "text/plain": [
       "                0\n",
       "PCA+OLS  0.422873\n",
       "OLS      0.422873\n",
       "Fwd      0.334898\n",
       "Ridge    0.424196\n",
       "lasso    0.438061"
      ]
     },
     "execution_count": 165,
     "metadata": {},
     "output_type": "execute_result"
    }
   ],
   "source": [
    "pd.DataFrame.from_dict(scoresTP, orient='index')"
   ]
  },
  {
   "cell_type": "code",
   "execution_count": null,
   "metadata": {},
   "outputs": [],
   "source": []
  }
 ],
 "metadata": {
  "kernelspec": {
   "display_name": "Python 3",
   "language": "python",
   "name": "python3"
  },
  "language_info": {
   "codemirror_mode": {
    "name": "ipython",
    "version": 3
   },
   "file_extension": ".py",
   "mimetype": "text/x-python",
   "name": "python",
   "nbconvert_exporter": "python",
   "pygments_lexer": "ipython3",
   "version": "3.6.5"
  }
 },
 "nbformat": 4,
 "nbformat_minor": 2
}
