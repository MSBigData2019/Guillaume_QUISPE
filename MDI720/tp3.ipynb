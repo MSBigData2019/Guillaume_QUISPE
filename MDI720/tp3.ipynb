{
 "cells": [
  {
   "cell_type": "markdown",
   "metadata": {},
   "source": [
    "#  <div class=\"text-center\">TP3 </div>"
   ]
  },
  {
   "cell_type": "markdown",
   "metadata": {},
   "source": [
    "### 1) Import des données"
   ]
  },
  {
   "cell_type": "code",
   "execution_count": 1,
   "metadata": {
    "scrolled": true
   },
   "outputs": [],
   "source": [
    "#%matplotlib notebook\n",
    "import pandas as pd\n",
    "import matplotlib.pyplot as plt\n",
    "import numpy as np\n",
    "from sklearn.linear_model import LinearRegression\n",
    "from mpl_toolkits.mplot3d import Axes3D\n",
    "from scipy.stats import t\n",
    "from sklearn.model_selection import train_test_split\n",
    "from sklearn.metrics import mean_squared_error\n",
    "from pandas.plotting import scatter_matrix\n",
    "import seaborn as sns\n",
    "import statsmodels.api as sm\n",
    "from sklearn.preprocessing import StandardScaler\n",
    "from scipy.stats import norm\n",
    "from sklearn.model_selection import KFold\n",
    "from sklearn.linear_model import Ridge\n",
    "from sklearn.linear_model import LassoCV\n",
    "from sklearn.model_selection import KFold\n"
   ]
  },
  {
   "cell_type": "code",
   "execution_count": 2,
   "metadata": {},
   "outputs": [],
   "source": [
    "#Il s'agit du dictionnaire des coefficients de déterminations pour chacune des méthodes employées durant ce TP\n",
    "scoresTP=dict()"
   ]
  },
  {
   "cell_type": "code",
   "execution_count": 3,
   "metadata": {},
   "outputs": [
    {
     "data": {
      "text/html": [
       "<div>\n",
       "<style scoped>\n",
       "    .dataframe tbody tr th:only-of-type {\n",
       "        vertical-align: middle;\n",
       "    }\n",
       "\n",
       "    .dataframe tbody tr th {\n",
       "        vertical-align: top;\n",
       "    }\n",
       "\n",
       "    .dataframe thead th {\n",
       "        text-align: right;\n",
       "    }\n",
       "</style>\n",
       "<table border=\"1\" class=\"dataframe\">\n",
       "  <thead>\n",
       "    <tr style=\"text-align: right;\">\n",
       "      <th></th>\n",
       "      <th>0</th>\n",
       "      <th>1</th>\n",
       "      <th>2</th>\n",
       "      <th>3</th>\n",
       "      <th>4</th>\n",
       "      <th>5</th>\n",
       "      <th>6</th>\n",
       "      <th>7</th>\n",
       "      <th>8</th>\n",
       "      <th>9</th>\n",
       "      <th>...</th>\n",
       "      <th>201</th>\n",
       "      <th>202</th>\n",
       "      <th>203</th>\n",
       "      <th>204</th>\n",
       "      <th>205</th>\n",
       "      <th>206</th>\n",
       "      <th>207</th>\n",
       "      <th>208</th>\n",
       "      <th>209</th>\n",
       "      <th>210</th>\n",
       "    </tr>\n",
       "  </thead>\n",
       "  <tbody>\n",
       "    <tr>\n",
       "      <th>0</th>\n",
       "      <td>-1.298173</td>\n",
       "      <td>-0.162249</td>\n",
       "      <td>1.223379</td>\n",
       "      <td>1.355554</td>\n",
       "      <td>1.080171</td>\n",
       "      <td>0.634979</td>\n",
       "      <td>0.298741</td>\n",
       "      <td>0.548270</td>\n",
       "      <td>0.731773</td>\n",
       "      <td>1.018645</td>\n",
       "      <td>...</td>\n",
       "      <td>0.588278</td>\n",
       "      <td>0.210106</td>\n",
       "      <td>1.861458</td>\n",
       "      <td>-0.436399</td>\n",
       "      <td>0.279299</td>\n",
       "      <td>-1.416020</td>\n",
       "      <td>-2.332363</td>\n",
       "      <td>0.215096</td>\n",
       "      <td>-0.693319</td>\n",
       "      <td>151.0</td>\n",
       "    </tr>\n",
       "    <tr>\n",
       "      <th>1</th>\n",
       "      <td>0.166951</td>\n",
       "      <td>-0.338060</td>\n",
       "      <td>-0.618867</td>\n",
       "      <td>0.759366</td>\n",
       "      <td>1.134281</td>\n",
       "      <td>-0.536844</td>\n",
       "      <td>-0.075120</td>\n",
       "      <td>0.970251</td>\n",
       "      <td>-0.327487</td>\n",
       "      <td>0.717310</td>\n",
       "      <td>...</td>\n",
       "      <td>-0.251054</td>\n",
       "      <td>-0.825716</td>\n",
       "      <td>0.339139</td>\n",
       "      <td>1.119430</td>\n",
       "      <td>0.225958</td>\n",
       "      <td>-0.822288</td>\n",
       "      <td>0.382838</td>\n",
       "      <td>-0.718829</td>\n",
       "      <td>-0.188993</td>\n",
       "      <td>75.0</td>\n",
       "    </tr>\n",
       "    <tr>\n",
       "      <th>2</th>\n",
       "      <td>-0.416177</td>\n",
       "      <td>-0.205659</td>\n",
       "      <td>-1.282226</td>\n",
       "      <td>1.675500</td>\n",
       "      <td>1.523746</td>\n",
       "      <td>0.192029</td>\n",
       "      <td>-0.235840</td>\n",
       "      <td>-1.954626</td>\n",
       "      <td>-0.853309</td>\n",
       "      <td>0.892791</td>\n",
       "      <td>...</td>\n",
       "      <td>1.283837</td>\n",
       "      <td>0.372516</td>\n",
       "      <td>-0.652557</td>\n",
       "      <td>-2.579347</td>\n",
       "      <td>0.139267</td>\n",
       "      <td>-1.901196</td>\n",
       "      <td>0.048210</td>\n",
       "      <td>0.220205</td>\n",
       "      <td>0.471588</td>\n",
       "      <td>141.0</td>\n",
       "    </tr>\n",
       "    <tr>\n",
       "      <th>3</th>\n",
       "      <td>0.867184</td>\n",
       "      <td>-0.398667</td>\n",
       "      <td>0.093501</td>\n",
       "      <td>0.025971</td>\n",
       "      <td>1.852099</td>\n",
       "      <td>0.789774</td>\n",
       "      <td>0.801775</td>\n",
       "      <td>0.376711</td>\n",
       "      <td>0.853689</td>\n",
       "      <td>0.247953</td>\n",
       "      <td>...</td>\n",
       "      <td>0.446582</td>\n",
       "      <td>0.334733</td>\n",
       "      <td>0.399074</td>\n",
       "      <td>-0.884172</td>\n",
       "      <td>0.723819</td>\n",
       "      <td>1.316367</td>\n",
       "      <td>0.088218</td>\n",
       "      <td>0.619496</td>\n",
       "      <td>1.061662</td>\n",
       "      <td>206.0</td>\n",
       "    </tr>\n",
       "    <tr>\n",
       "      <th>4</th>\n",
       "      <td>1.193282</td>\n",
       "      <td>-0.936980</td>\n",
       "      <td>-0.725039</td>\n",
       "      <td>0.766078</td>\n",
       "      <td>0.223489</td>\n",
       "      <td>-1.584622</td>\n",
       "      <td>1.146866</td>\n",
       "      <td>0.086136</td>\n",
       "      <td>-0.088780</td>\n",
       "      <td>-0.945066</td>\n",
       "      <td>...</td>\n",
       "      <td>0.786157</td>\n",
       "      <td>-1.058179</td>\n",
       "      <td>-0.155788</td>\n",
       "      <td>-0.642504</td>\n",
       "      <td>2.040010</td>\n",
       "      <td>-1.703110</td>\n",
       "      <td>-1.901502</td>\n",
       "      <td>1.778811</td>\n",
       "      <td>-0.489853</td>\n",
       "      <td>135.0</td>\n",
       "    </tr>\n",
       "  </tbody>\n",
       "</table>\n",
       "<p>5 rows × 211 columns</p>\n",
       "</div>"
      ],
      "text/plain": [
       "        0         1         2         3         4         5         6    \\\n",
       "0 -1.298173 -0.162249  1.223379  1.355554  1.080171  0.634979  0.298741   \n",
       "1  0.166951 -0.338060 -0.618867  0.759366  1.134281 -0.536844 -0.075120   \n",
       "2 -0.416177 -0.205659 -1.282226  1.675500  1.523746  0.192029 -0.235840   \n",
       "3  0.867184 -0.398667  0.093501  0.025971  1.852099  0.789774  0.801775   \n",
       "4  1.193282 -0.936980 -0.725039  0.766078  0.223489 -1.584622  1.146866   \n",
       "\n",
       "        7         8         9    ...         201       202       203  \\\n",
       "0  0.548270  0.731773  1.018645  ...    0.588278  0.210106  1.861458   \n",
       "1  0.970251 -0.327487  0.717310  ...   -0.251054 -0.825716  0.339139   \n",
       "2 -1.954626 -0.853309  0.892791  ...    1.283837  0.372516 -0.652557   \n",
       "3  0.376711  0.853689  0.247953  ...    0.446582  0.334733  0.399074   \n",
       "4  0.086136 -0.088780 -0.945066  ...    0.786157 -1.058179 -0.155788   \n",
       "\n",
       "        204       205       206       207       208       209    210  \n",
       "0 -0.436399  0.279299 -1.416020 -2.332363  0.215096 -0.693319  151.0  \n",
       "1  1.119430  0.225958 -0.822288  0.382838 -0.718829 -0.188993   75.0  \n",
       "2 -2.579347  0.139267 -1.901196  0.048210  0.220205  0.471588  141.0  \n",
       "3 -0.884172  0.723819  1.316367  0.088218  0.619496  1.061662  206.0  \n",
       "4 -0.642504  2.040010 -1.703110 -1.901502  1.778811 -0.489853  135.0  \n",
       "\n",
       "[5 rows x 211 columns]"
      ]
     },
     "execution_count": 3,
     "metadata": {},
     "output_type": "execute_result"
    }
   ],
   "source": [
    "\n",
    "df= pd.read_csv(\"https://bitbucket.org/portierf/shared_files/downloads/data_dm3.csv\", \",\", header=None)\n",
    "df.head(5)\n",
    "\n"
   ]
  },
  {
   "cell_type": "markdown",
   "metadata": {},
   "source": [
    "Il y a 211 colonnes dans le dataset dont une de label, ce qui fait 210 variables explicatives avec 442 observations."
   ]
  },
  {
   "cell_type": "code",
   "execution_count": 4,
   "metadata": {
    "scrolled": true
   },
   "outputs": [
    {
     "name": "stdout",
     "output_type": "stream",
     "text": [
      "(442, 211)\n"
     ]
    }
   ],
   "source": [
    "print(df.shape)"
   ]
  },
  {
   "cell_type": "code",
   "execution_count": 5,
   "metadata": {
    "scrolled": false
   },
   "outputs": [
    {
     "data": {
      "text/html": [
       "<div>\n",
       "<style scoped>\n",
       "    .dataframe tbody tr th:only-of-type {\n",
       "        vertical-align: middle;\n",
       "    }\n",
       "\n",
       "    .dataframe tbody tr th {\n",
       "        vertical-align: top;\n",
       "    }\n",
       "\n",
       "    .dataframe thead th {\n",
       "        text-align: right;\n",
       "    }\n",
       "</style>\n",
       "<table border=\"1\" class=\"dataframe\">\n",
       "  <thead>\n",
       "    <tr style=\"text-align: right;\">\n",
       "      <th></th>\n",
       "      <th>0</th>\n",
       "      <th>1</th>\n",
       "      <th>2</th>\n",
       "      <th>3</th>\n",
       "      <th>4</th>\n",
       "      <th>5</th>\n",
       "      <th>6</th>\n",
       "      <th>7</th>\n",
       "      <th>8</th>\n",
       "      <th>9</th>\n",
       "      <th>...</th>\n",
       "      <th>201</th>\n",
       "      <th>202</th>\n",
       "      <th>203</th>\n",
       "      <th>204</th>\n",
       "      <th>205</th>\n",
       "      <th>206</th>\n",
       "      <th>207</th>\n",
       "      <th>208</th>\n",
       "      <th>209</th>\n",
       "      <th>210</th>\n",
       "    </tr>\n",
       "  </thead>\n",
       "  <tbody>\n",
       "    <tr>\n",
       "      <th>count</th>\n",
       "      <td>4.420000e+02</td>\n",
       "      <td>4.420000e+02</td>\n",
       "      <td>4.420000e+02</td>\n",
       "      <td>4.420000e+02</td>\n",
       "      <td>4.420000e+02</td>\n",
       "      <td>4.420000e+02</td>\n",
       "      <td>4.420000e+02</td>\n",
       "      <td>4.420000e+02</td>\n",
       "      <td>4.420000e+02</td>\n",
       "      <td>4.420000e+02</td>\n",
       "      <td>...</td>\n",
       "      <td>4.420000e+02</td>\n",
       "      <td>4.420000e+02</td>\n",
       "      <td>4.420000e+02</td>\n",
       "      <td>4.420000e+02</td>\n",
       "      <td>4.420000e+02</td>\n",
       "      <td>4.420000e+02</td>\n",
       "      <td>4.420000e+02</td>\n",
       "      <td>4.420000e+02</td>\n",
       "      <td>4.420000e+02</td>\n",
       "      <td>442.000000</td>\n",
       "    </tr>\n",
       "    <tr>\n",
       "      <th>mean</th>\n",
       "      <td>7.535450e-19</td>\n",
       "      <td>-1.507090e-17</td>\n",
       "      <td>5.494599e-20</td>\n",
       "      <td>-7.284269e-18</td>\n",
       "      <td>8.288995e-18</td>\n",
       "      <td>-2.712762e-17</td>\n",
       "      <td>1.971776e-17</td>\n",
       "      <td>8.540177e-18</td>\n",
       "      <td>1.029845e-17</td>\n",
       "      <td>4.018907e-18</td>\n",
       "      <td>...</td>\n",
       "      <td>-2.260635e-18</td>\n",
       "      <td>-2.637408e-17</td>\n",
       "      <td>-5.023634e-19</td>\n",
       "      <td>-1.538488e-17</td>\n",
       "      <td>5.525997e-18</td>\n",
       "      <td>3.265362e-17</td>\n",
       "      <td>1.507090e-17</td>\n",
       "      <td>-4.034606e-18</td>\n",
       "      <td>1.205672e-17</td>\n",
       "      <td>152.133484</td>\n",
       "    </tr>\n",
       "    <tr>\n",
       "      <th>std</th>\n",
       "      <td>1.001133e+00</td>\n",
       "      <td>1.001133e+00</td>\n",
       "      <td>1.001133e+00</td>\n",
       "      <td>1.001133e+00</td>\n",
       "      <td>1.001133e+00</td>\n",
       "      <td>1.001133e+00</td>\n",
       "      <td>1.001133e+00</td>\n",
       "      <td>1.001133e+00</td>\n",
       "      <td>1.001133e+00</td>\n",
       "      <td>1.001133e+00</td>\n",
       "      <td>...</td>\n",
       "      <td>1.001133e+00</td>\n",
       "      <td>1.001133e+00</td>\n",
       "      <td>1.001133e+00</td>\n",
       "      <td>1.001133e+00</td>\n",
       "      <td>1.001133e+00</td>\n",
       "      <td>1.001133e+00</td>\n",
       "      <td>1.001133e+00</td>\n",
       "      <td>1.001133e+00</td>\n",
       "      <td>1.001133e+00</td>\n",
       "      <td>77.093005</td>\n",
       "    </tr>\n",
       "    <tr>\n",
       "      <th>min</th>\n",
       "      <td>-3.149247e+00</td>\n",
       "      <td>-2.862871e+00</td>\n",
       "      <td>-3.057543e+00</td>\n",
       "      <td>-2.856903e+00</td>\n",
       "      <td>-3.102347e+00</td>\n",
       "      <td>-2.782344e+00</td>\n",
       "      <td>-2.825318e+00</td>\n",
       "      <td>-3.626525e+00</td>\n",
       "      <td>-2.834007e+00</td>\n",
       "      <td>-2.695861e+00</td>\n",
       "      <td>...</td>\n",
       "      <td>-3.059475e+00</td>\n",
       "      <td>-3.206539e+00</td>\n",
       "      <td>-2.585325e+00</td>\n",
       "      <td>-3.561763e+00</td>\n",
       "      <td>-3.167962e+00</td>\n",
       "      <td>-2.751207e+00</td>\n",
       "      <td>-3.028940e+00</td>\n",
       "      <td>-2.675447e+00</td>\n",
       "      <td>-2.918321e+00</td>\n",
       "      <td>25.000000</td>\n",
       "    </tr>\n",
       "    <tr>\n",
       "      <th>25%</th>\n",
       "      <td>-6.707870e-01</td>\n",
       "      <td>-7.128394e-01</td>\n",
       "      <td>-7.160981e-01</td>\n",
       "      <td>-6.715474e-01</td>\n",
       "      <td>-6.732232e-01</td>\n",
       "      <td>-6.951004e-01</td>\n",
       "      <td>-6.986587e-01</td>\n",
       "      <td>-6.387691e-01</td>\n",
       "      <td>-6.666746e-01</td>\n",
       "      <td>-6.930021e-01</td>\n",
       "      <td>...</td>\n",
       "      <td>-6.885118e-01</td>\n",
       "      <td>-5.793321e-01</td>\n",
       "      <td>-6.282190e-01</td>\n",
       "      <td>-6.190946e-01</td>\n",
       "      <td>-7.359866e-01</td>\n",
       "      <td>-6.374872e-01</td>\n",
       "      <td>-6.472739e-01</td>\n",
       "      <td>-7.025578e-01</td>\n",
       "      <td>-6.378171e-01</td>\n",
       "      <td>87.000000</td>\n",
       "    </tr>\n",
       "    <tr>\n",
       "      <th>50%</th>\n",
       "      <td>3.819503e-02</td>\n",
       "      <td>6.217421e-02</td>\n",
       "      <td>4.739406e-02</td>\n",
       "      <td>6.565749e-05</td>\n",
       "      <td>-6.111315e-03</td>\n",
       "      <td>-1.345167e-02</td>\n",
       "      <td>-4.823057e-02</td>\n",
       "      <td>4.016636e-02</td>\n",
       "      <td>6.047571e-04</td>\n",
       "      <td>3.602406e-02</td>\n",
       "      <td>...</td>\n",
       "      <td>-2.994795e-02</td>\n",
       "      <td>2.540540e-02</td>\n",
       "      <td>-2.229024e-02</td>\n",
       "      <td>-6.087758e-03</td>\n",
       "      <td>7.677091e-03</td>\n",
       "      <td>-3.123603e-03</td>\n",
       "      <td>2.444578e-02</td>\n",
       "      <td>-4.187834e-02</td>\n",
       "      <td>-8.099075e-02</td>\n",
       "      <td>140.500000</td>\n",
       "    </tr>\n",
       "    <tr>\n",
       "      <th>75%</th>\n",
       "      <td>6.748497e-01</td>\n",
       "      <td>6.244547e-01</td>\n",
       "      <td>6.975121e-01</td>\n",
       "      <td>6.881971e-01</td>\n",
       "      <td>7.026457e-01</td>\n",
       "      <td>7.155790e-01</td>\n",
       "      <td>7.200217e-01</td>\n",
       "      <td>5.788436e-01</td>\n",
       "      <td>6.298078e-01</td>\n",
       "      <td>6.629150e-01</td>\n",
       "      <td>...</td>\n",
       "      <td>6.672697e-01</td>\n",
       "      <td>6.676636e-01</td>\n",
       "      <td>5.985077e-01</td>\n",
       "      <td>7.406183e-01</td>\n",
       "      <td>7.000447e-01</td>\n",
       "      <td>6.440062e-01</td>\n",
       "      <td>6.313916e-01</td>\n",
       "      <td>6.929876e-01</td>\n",
       "      <td>7.249269e-01</td>\n",
       "      <td>211.500000</td>\n",
       "    </tr>\n",
       "    <tr>\n",
       "      <th>max</th>\n",
       "      <td>2.547051e+00</td>\n",
       "      <td>2.567177e+00</td>\n",
       "      <td>2.965824e+00</td>\n",
       "      <td>3.057612e+00</td>\n",
       "      <td>3.173713e+00</td>\n",
       "      <td>3.137950e+00</td>\n",
       "      <td>3.199205e+00</td>\n",
       "      <td>3.616718e+00</td>\n",
       "      <td>3.099090e+00</td>\n",
       "      <td>3.032505e+00</td>\n",
       "      <td>...</td>\n",
       "      <td>2.677458e+00</td>\n",
       "      <td>2.806877e+00</td>\n",
       "      <td>3.255462e+00</td>\n",
       "      <td>2.811911e+00</td>\n",
       "      <td>2.838960e+00</td>\n",
       "      <td>3.351254e+00</td>\n",
       "      <td>2.734481e+00</td>\n",
       "      <td>3.637684e+00</td>\n",
       "      <td>2.710260e+00</td>\n",
       "      <td>346.000000</td>\n",
       "    </tr>\n",
       "  </tbody>\n",
       "</table>\n",
       "<p>8 rows × 211 columns</p>\n",
       "</div>"
      ],
      "text/plain": [
       "                0             1             2             3             4    \\\n",
       "count  4.420000e+02  4.420000e+02  4.420000e+02  4.420000e+02  4.420000e+02   \n",
       "mean   7.535450e-19 -1.507090e-17  5.494599e-20 -7.284269e-18  8.288995e-18   \n",
       "std    1.001133e+00  1.001133e+00  1.001133e+00  1.001133e+00  1.001133e+00   \n",
       "min   -3.149247e+00 -2.862871e+00 -3.057543e+00 -2.856903e+00 -3.102347e+00   \n",
       "25%   -6.707870e-01 -7.128394e-01 -7.160981e-01 -6.715474e-01 -6.732232e-01   \n",
       "50%    3.819503e-02  6.217421e-02  4.739406e-02  6.565749e-05 -6.111315e-03   \n",
       "75%    6.748497e-01  6.244547e-01  6.975121e-01  6.881971e-01  7.026457e-01   \n",
       "max    2.547051e+00  2.567177e+00  2.965824e+00  3.057612e+00  3.173713e+00   \n",
       "\n",
       "                5             6             7             8             9    \\\n",
       "count  4.420000e+02  4.420000e+02  4.420000e+02  4.420000e+02  4.420000e+02   \n",
       "mean  -2.712762e-17  1.971776e-17  8.540177e-18  1.029845e-17  4.018907e-18   \n",
       "std    1.001133e+00  1.001133e+00  1.001133e+00  1.001133e+00  1.001133e+00   \n",
       "min   -2.782344e+00 -2.825318e+00 -3.626525e+00 -2.834007e+00 -2.695861e+00   \n",
       "25%   -6.951004e-01 -6.986587e-01 -6.387691e-01 -6.666746e-01 -6.930021e-01   \n",
       "50%   -1.345167e-02 -4.823057e-02  4.016636e-02  6.047571e-04  3.602406e-02   \n",
       "75%    7.155790e-01  7.200217e-01  5.788436e-01  6.298078e-01  6.629150e-01   \n",
       "max    3.137950e+00  3.199205e+00  3.616718e+00  3.099090e+00  3.032505e+00   \n",
       "\n",
       "          ...               201           202           203           204  \\\n",
       "count     ...      4.420000e+02  4.420000e+02  4.420000e+02  4.420000e+02   \n",
       "mean      ...     -2.260635e-18 -2.637408e-17 -5.023634e-19 -1.538488e-17   \n",
       "std       ...      1.001133e+00  1.001133e+00  1.001133e+00  1.001133e+00   \n",
       "min       ...     -3.059475e+00 -3.206539e+00 -2.585325e+00 -3.561763e+00   \n",
       "25%       ...     -6.885118e-01 -5.793321e-01 -6.282190e-01 -6.190946e-01   \n",
       "50%       ...     -2.994795e-02  2.540540e-02 -2.229024e-02 -6.087758e-03   \n",
       "75%       ...      6.672697e-01  6.676636e-01  5.985077e-01  7.406183e-01   \n",
       "max       ...      2.677458e+00  2.806877e+00  3.255462e+00  2.811911e+00   \n",
       "\n",
       "                205           206           207           208           209  \\\n",
       "count  4.420000e+02  4.420000e+02  4.420000e+02  4.420000e+02  4.420000e+02   \n",
       "mean   5.525997e-18  3.265362e-17  1.507090e-17 -4.034606e-18  1.205672e-17   \n",
       "std    1.001133e+00  1.001133e+00  1.001133e+00  1.001133e+00  1.001133e+00   \n",
       "min   -3.167962e+00 -2.751207e+00 -3.028940e+00 -2.675447e+00 -2.918321e+00   \n",
       "25%   -7.359866e-01 -6.374872e-01 -6.472739e-01 -7.025578e-01 -6.378171e-01   \n",
       "50%    7.677091e-03 -3.123603e-03  2.444578e-02 -4.187834e-02 -8.099075e-02   \n",
       "75%    7.000447e-01  6.440062e-01  6.313916e-01  6.929876e-01  7.249269e-01   \n",
       "max    2.838960e+00  3.351254e+00  2.734481e+00  3.637684e+00  2.710260e+00   \n",
       "\n",
       "              210  \n",
       "count  442.000000  \n",
       "mean   152.133484  \n",
       "std     77.093005  \n",
       "min     25.000000  \n",
       "25%     87.000000  \n",
       "50%    140.500000  \n",
       "75%    211.500000  \n",
       "max    346.000000  \n",
       "\n",
       "[8 rows x 211 columns]"
      ]
     },
     "execution_count": 5,
     "metadata": {},
     "output_type": "execute_result"
    }
   ],
   "source": [
    "df.describe()"
   ]
  },
  {
   "cell_type": "code",
   "execution_count": 6,
   "metadata": {},
   "outputs": [
    {
     "name": "stdout",
     "output_type": "stream",
     "text": [
      "              0\n",
      "210  152.133484\n"
     ]
    }
   ],
   "source": [
    "meandf=pd.DataFrame(np.abs(df.mean()))\n",
    "meandfnonzero=meandf.loc[meandf[0]>10**-10]\n",
    "print(meandfnonzero)"
   ]
  },
  {
   "cell_type": "code",
   "execution_count": 7,
   "metadata": {},
   "outputs": [
    {
     "name": "stdout",
     "output_type": "stream",
     "text": [
      "             0\n",
      "210  77.093005\n"
     ]
    }
   ],
   "source": [
    "stddf=pd.DataFrame(df.std())\n",
    "stddfnon1=stddf.loc[np.abs(stddf[0]-1)>10**-2]\n",
    "print(stddfnon1)"
   ]
  },
  {
   "cell_type": "markdown",
   "metadata": {},
   "source": [
    "Les variables explicatives sont centrées et normalisées. La variable y à expliquer ne l'est pas, ni normalisée ni centrée."
   ]
  },
  {
   "cell_type": "code",
   "execution_count": 8,
   "metadata": {},
   "outputs": [],
   "source": [
    "Xdf = df.drop([210], 1)\n",
    "ydf = df[210]"
   ]
  },
  {
   "cell_type": "code",
   "execution_count": 9,
   "metadata": {},
   "outputs": [],
   "source": [
    "randomX= df.sample(4, axis=1)\n",
    "randomX[\"y\"]=ydf\n"
   ]
  },
  {
   "cell_type": "code",
   "execution_count": 10,
   "metadata": {},
   "outputs": [
    {
     "data": {
      "image/png": "[encoded data removed]",
      "text/plain": [
       "<Figure size 432x432 with 25 Axes>"
      ]
     },
     "metadata": {},
     "output_type": "display_data"
    }
   ],
   "source": [
    "scatter_matrix(randomX, alpha=0.2, figsize=(6, 6), diagonal='kde')\n",
    "plt.show()"
   ]
  },
  {
   "cell_type": "markdown",
   "metadata": {},
   "source": [
    "Les variables semblent avoir une distribution normale. Ce graph ne nous permet pas de voir une corrélation entre les variables."
   ]
  },
  {
   "cell_type": "code",
   "execution_count": 11,
   "metadata": {},
   "outputs": [
    {
     "data": {
      "image/png": "[encoded data removed]",
      "text/plain": [
       "<Figure size 288x288 with 1 Axes>"
      ]
     },
     "metadata": {},
     "output_type": "display_data"
    }
   ],
   "source": [
    "plt.matshow(Xdf.corr(),)\n",
    "plt.show()"
   ]
  },
  {
   "cell_type": "code",
   "execution_count": 12,
   "metadata": {
    "scrolled": true
   },
   "outputs": [
    {
     "data": {
      "image/png": "[encoded data removed]",
      "text/plain": [
       "<Figure size 432x288 with 1 Axes>"
      ]
     },
     "metadata": {},
     "output_type": "display_data"
    }
   ],
   "source": [
    "coveigenvalues, coveigenvectors= np.linalg.eigh(Xdf.cov())\n",
    "eig_vals_sorted = np.sort(coveigenvalues)[::-1]\n",
    "plt.scatter(np.arange(len(eig_vals_sorted)),eig_vals_sorted)\n",
    "plt.xlabel(\"Number of eigenvalue\")\n",
    "plt.ylabel(\"eigenvalue\")\n",
    "plt.title(\"Scree plot\")\n",
    "plt.show()"
   ]
  },
  {
   "cell_type": "markdown",
   "metadata": {},
   "source": [
    "Apres les 60 premières valeurs propres on a des valeurs propres négligeables, presque égale à 0.\n",
    "Cela veut dire l'on peut exprimer très précisement les dernières composantes avec les 60 premières, principales. Le nouvel espace peut donc exprimer toutes l'information contenue dans l'espace des 210 variables."
   ]
  },
  {
   "cell_type": "code",
   "execution_count": 81,
   "metadata": {
    "scrolled": true
   },
   "outputs": [
    {
     "name": "stdout",
     "output_type": "stream",
     "text": [
      "(353, 210)\n",
      "(89, 210)\n",
      "(353,)\n",
      "(89,)\n"
     ]
    }
   ],
   "source": [
    "X_train, X_test, y_train, y_test = train_test_split(np.array(Xdf), np.array(ydf), test_size=0.2)\n",
    "print(X_train.shape)\n",
    "print(X_test.shape)\n",
    "print(y_train.shape)\n",
    "print(y_test.shape)"
   ]
  },
  {
   "cell_type": "markdown",
   "metadata": {},
   "source": [
    "Ci dessus les dimensions de nos matrices de train et de test (X puis y)"
   ]
  },
  {
   "cell_type": "code",
   "execution_count": 82,
   "metadata": {},
   "outputs": [],
   "source": [
    "U, S, V = np.linalg.svd(X_train) \n",
    "#Je reconstruis les valeurs propres de la matrice de de gram grâce aux valeurs singulières\n",
    "eigvals = S**2 / np.cumsum(S)[-1]"
   ]
  },
  {
   "cell_type": "markdown",
   "metadata": {},
   "source": [
    "Ici nul besoin d'ordonner les valeurs propres car les valeurs singulières (S) le sont déjà "
   ]
  },
  {
   "cell_type": "code",
   "execution_count": 83,
   "metadata": {
    "scrolled": true
   },
   "outputs": [
    {
     "data": {
      "image/png": "[encoded data removed]",
      "text/plain": [
       "<Figure size 432x288 with 1 Axes>"
      ]
     },
     "metadata": {},
     "output_type": "display_data"
    }
   ],
   "source": [
    "\n",
    "plt.figure()\n",
    "plt.scatter(np.arange(len(eigvals)),eigvals)\n",
    "plt.xlabel(\"Number of eigenvalue\")\n",
    "plt.ylabel(\"eigenvalue\")\n",
    "plt.title(\"Scree plot\")\n",
    "plt.show()\n"
   ]
  },
  {
   "cell_type": "markdown",
   "metadata": {},
   "source": [
    "<div>Vérification<div>\n",
    "On retrouve bien la même valeur 60 à partir de laquelle les valeurs propres sont négligeables"
   ]
  },
  {
   "cell_type": "markdown",
   "metadata": {},
   "source": [
    "## 5) PCA before OLS\n",
    "    Ici je vais utiliser la svd pour faire la PCA. \n",
    "    La PCA sert à réduire les dimensions de X (train) pour enlever l'information redondante et ne pas  travailler avec des matrices énormes et non inversibles (XtX^-1)"
   ]
  },
  {
   "cell_type": "code",
   "execution_count": 84,
   "metadata": {
    "scrolled": true
   },
   "outputs": [],
   "source": [
    "#Je prends d'abord les matrices complètes que je vais réduire moi même\n",
    "U_train, S_train, V_train = np.linalg.svd(X_train)\n",
    "eigvals = S_train**2 / np.cumsum(S_train)[-1]\n"
   ]
  },
  {
   "cell_type": "markdown",
   "metadata": {},
   "source": [
    "Comme vu dans la question 3, on peut ne garder que les 60 premiers vecteurs et valeurs propres"
   ]
  },
  {
   "cell_type": "code",
   "execution_count": 85,
   "metadata": {},
   "outputs": [
    {
     "name": "stdout",
     "output_type": "stream",
     "text": [
      "(353, 60)\n",
      "1.5723808702555048e-13\n"
     ]
    }
   ],
   "source": [
    "#on réduit U S V\n",
    "Ureduced = U_train[:,:60]\n",
    "Sreduced = np.diag(S_train)[:60,:60]\n",
    "Vreduced = V_train.T[:,:60]\n",
    "Xreduced=Ureduced@Sreduced\n",
    "#On projette XTrain sur le nouvel espace formé par les PCs de la PCA\n",
    "Xpca = X_train@Vreduced\n",
    "print(Xpca.shape)\n",
    "print(np.sum(Xreduced-Xpca))"
   ]
  },
  {
   "cell_type": "markdown",
   "metadata": {},
   "source": [
    "J'ai réduit mon X_train qui comportait 210 colonnes à 60 colonnes. Ici on vérifie que XV=US"
   ]
  },
  {
   "cell_type": "code",
   "execution_count": 86,
   "metadata": {},
   "outputs": [
    {
     "data": {
      "image/png": "[encoded data removed]",
      "text/plain": [
       "<Figure size 288x288 with 1 Axes>"
      ]
     },
     "metadata": {},
     "output_type": "display_data"
    }
   ],
   "source": [
    "plt.matshow(pd.DataFrame(Xpca).corr())\n",
    "plt.show()"
   ]
  },
  {
   "cell_type": "markdown",
   "metadata": {},
   "source": [
    "Ici on vérifie que la matrice de corrélation n'indique plus de corrélation. En effet on a enlevé l'information redondante."
   ]
  },
  {
   "cell_type": "markdown",
   "metadata": {},
   "source": [
    "#### Maintenant on peut réaliser la regression linéaire avec notre nouvelle matrice Xpca issue de la PCA"
   ]
  },
  {
   "cell_type": "code",
   "execution_count": 87,
   "metadata": {},
   "outputs": [
    {
     "name": "stdout",
     "output_type": "stream",
     "text": [
      "(89, 60)\n"
     ]
    }
   ],
   "source": [
    "#Ajout de l'intercept à Xpca\n",
    "Xpca_I = sm.add_constant(Xpca)\n",
    "gramPca=Xpca_I.T@Xpca_I\n",
    "# Pour calculer Theta, on peut utiliser inv car il n'y a plus de corrélation maintenant\n",
    "thetapca=np.linalg.inv(gramPca)@Xpca_I.T@y_train\n",
    "#On projette Xtest sur l'espace PCA \n",
    "XtestPca= X_test@Vreduced\n",
    "print(XtestPca.shape)\n",
    "XtestPca= sm.add_constant(XtestPca)\n",
    "ypredpca= XtestPca@thetapca"
   ]
  },
  {
   "cell_type": "markdown",
   "metadata": {},
   "source": [
    "On calcule le coefficient de détermination"
   ]
  },
  {
   "cell_type": "code",
   "execution_count": 88,
   "metadata": {},
   "outputs": [
    {
     "name": "stdout",
     "output_type": "stream",
     "text": [
      "0.3715180458770734\n"
     ]
    }
   ],
   "source": [
    "R2pca=1-np.sum((ypredpca-y_test)**2)/np.sum((y_test-y_test.mean())**2)\n",
    "scoresTP[\"PCA+OLS\"]=R2pca\n",
    "print(R2pca)"
   ]
  },
  {
   "cell_type": "markdown",
   "metadata": {},
   "source": [
    "On peut vérifier avec scikit learn le R2"
   ]
  },
  {
   "cell_type": "code",
   "execution_count": 89,
   "metadata": {
    "scrolled": true
   },
   "outputs": [
    {
     "name": "stdout",
     "output_type": "stream",
     "text": [
      "0.37151804587707327\n"
     ]
    }
   ],
   "source": [
    "# Choix de sklearn\n",
    "regpca = LinearRegression()\n",
    "regrpca = regpca.fit(Xpca_I, y_train)\n",
    "print(regpca.score(XtestPca,y_test))"
   ]
  },
  {
   "cell_type": "code",
   "execution_count": 90,
   "metadata": {},
   "outputs": [
    {
     "data": {
      "image/png": "[encoded data removed]",
      "text/plain": [
       "<Figure size 432x288 with 1 Axes>"
      ]
     },
     "metadata": {},
     "output_type": "display_data"
    }
   ],
   "source": [
    "\n",
    "plt.figure()\n",
    "plt.xlabel(\"Feature\")\n",
    "plt.ylabel(\"Coefficient\")\n",
    "plt.title(\"Coefficient plot\")\n",
    "plt.scatter(np.arange(0,regrpca.coef_.shape[0]),np.abs(regrpca.coef_))\n",
    "plt.show()"
   ]
  },
  {
   "cell_type": "markdown",
   "metadata": {},
   "source": [
    "On fait l'OLS maintenant sur X_train (sans pca) pour comparer"
   ]
  },
  {
   "cell_type": "code",
   "execution_count": 91,
   "metadata": {},
   "outputs": [],
   "source": [
    "X_train_I = sm.add_constant(X_train)\n",
    "X_test_I = sm.add_constant(X_test)"
   ]
  },
  {
   "cell_type": "code",
   "execution_count": 92,
   "metadata": {},
   "outputs": [
    {
     "name": "stdout",
     "output_type": "stream",
     "text": [
      "60\n"
     ]
    }
   ],
   "source": [
    "rangXtrain=np.linalg.matrix_rank(X_train)\n",
    "print(rangXtrain)"
   ]
  },
  {
   "cell_type": "markdown",
   "metadata": {},
   "source": [
    "La matrice n'est donc pas de rang plein, ie on ne peut pas l'inverser, car comme le montre la matrice de corrélation elle contient de l'information redondante"
   ]
  },
  {
   "cell_type": "markdown",
   "metadata": {},
   "source": [
    "X_train non inversible on prend la pseudoinverse"
   ]
  },
  {
   "cell_type": "markdown",
   "metadata": {},
   "source": [
    "Je vais utiliser ici deux méthodes pour m'assurer du résultat. La 1ere avec la fonction pinv de numpy, la deuxième avec la svd en reconstruisant la pseudoinverse comme vu dans le cours.  "
   ]
  },
  {
   "cell_type": "code",
   "execution_count": 93,
   "metadata": {},
   "outputs": [
    {
     "name": "stdout",
     "output_type": "stream",
     "text": [
      "0.3715180458770737\n"
     ]
    }
   ],
   "source": [
    "thetaLR=np.linalg.pinv(X_train_I)@y_train\n",
    "#thetaLR=np.linalg.inv(X_train_I.T@X_train_I)@X_train_I.T@y_train\n",
    "ypredLR= X_test_I@thetaLR\n",
    "Rlr=1-np.sum((ypredLR-y_test)**2)/np.sum((y_test-y_test.mean())**2)\n",
    "scoresTP[\"OLS\"]=Rlr\n",
    "print(Rlr)"
   ]
  },
  {
   "cell_type": "markdown",
   "metadata": {},
   "source": [
    "Je fais la même chose mais avec la SVD.\n",
    "Je refais une svd de X_train avec intercept pour exprimer la pseudoinverse\n",
    "Je pouvais également réutiliser celle de PCA "
   ]
  },
  {
   "cell_type": "code",
   "execution_count": 94,
   "metadata": {
    "scrolled": true
   },
   "outputs": [],
   "source": [
    "U_SVD, S_SVD, VT_SVD = np.linalg.svd(X_train_I, full_matrices=False) "
   ]
  },
  {
   "cell_type": "markdown",
   "metadata": {},
   "source": [
    "Pour perdre le moins d'informations possible je garde les valeurs propres > 0.0001"
   ]
  },
  {
   "cell_type": "code",
   "execution_count": 95,
   "metadata": {},
   "outputs": [
    {
     "name": "stdout",
     "output_type": "stream",
     "text": [
      "0.3715180458770736\n"
     ]
    }
   ],
   "source": [
    "S_SVDR=S_SVD[np.where( S_SVD > 0.0001 )] \n",
    "#je reduis ensuite u et v\n",
    "U_SVDR=U_SVD[:,:S_SVDR.size]\n",
    "VT_SVDR=VT_SVD[:S_SVDR.size,:]\n",
    "#je calcule theta et la prediction sur X_test\n",
    "thetaLRSVD=VT_SVDR.T@np.linalg.inv(np.diag(S_SVDR))@U_SVDR.T@y_train\n",
    "ypredLRSVD= X_test_I@thetaLRSVD\n",
    "RlrSVD=1-np.sum((ypredLRSVD-y_test)**2)/np.sum((y_test-y_test.mean())**2)\n",
    "print(RlrSVD)"
   ]
  },
  {
   "cell_type": "markdown",
   "metadata": {},
   "source": [
    "On a bien le même score pour OLS sans pca ( avec la svd ou directement la fonction pseudoinverse de np)"
   ]
  },
  {
   "cell_type": "markdown",
   "metadata": {},
   "source": [
    "On trace également les coefficients obtenus"
   ]
  },
  {
   "cell_type": "code",
   "execution_count": 96,
   "metadata": {},
   "outputs": [
    {
     "name": "stdout",
     "output_type": "stream",
     "text": [
      "[ 34  58  79 123 133 135 167 174]\n"
     ]
    }
   ],
   "source": [
    "#on peut afficher les coefficients \"non négligeables\"\n",
    "coefsplus2= np.where(np.abs(thetaLR[1:])>2)[0]\n",
    "print(coefsplus2)"
   ]
  },
  {
   "cell_type": "code",
   "execution_count": 97,
   "metadata": {
    "scrolled": false
   },
   "outputs": [
    {
     "data": {
      "image/png": "[encoded data removed]",
      "text/plain": [
       "<Figure size 2160x720 with 1 Axes>"
      ]
     },
     "metadata": {},
     "output_type": "display_data"
    }
   ],
   "source": [
    "plt.figure(figsize=(30,10))\n",
    "plt.xlabel(\"Feature\")\n",
    "plt.ylabel(\"Coefficient\")\n",
    "plt.title(\"Coefficient plot\")\n",
    "plt.scatter(np.arange(0,210),np.abs(thetaLR[1:]))\n",
    "#plt.scatter(coefsplus2,np.abs(thetaLR[coefsplus2+1]), marker=\"o\")\n",
    "for coef in coefsplus2:\n",
    "    plt.annotate(\"Feature \"+str(coef),(coef,np.abs(thetaLR[coef+1])) )\n",
    "plt.axhline(y=2, color=\"red\")\n",
    "\n",
    "plt.show()"
   ]
  },
  {
   "cell_type": "markdown",
   "metadata": {},
   "source": [
    "Dans le doute, j'utilise également la fonction LinearRegression de Scikit learn, mais je trouve des résultats aberrants. Je ne connais pas comment fonctionne exactement cette fonction, mais la corrélation donc les valeurs propres qui explosent doivent jouer sur le résultat."
   ]
  },
  {
   "cell_type": "code",
   "execution_count": 100,
   "metadata": {
    "scrolled": true
   },
   "outputs": [
    {
     "name": "stdout",
     "output_type": "stream",
     "text": [
      "-0.029510526783535607\n"
     ]
    }
   ],
   "source": [
    "lrtrain= LinearRegression()\n",
    "lrtrain.fit(X_train, y_train)\n",
    "ypredlr= lrtrain.predict(X_test)\n",
    "print(lrtrain.score(X_test, y_test))"
   ]
  },
  {
   "cell_type": "markdown",
   "metadata": {},
   "source": [
    "## 6) Intercepts"
   ]
  },
  {
   "cell_type": "markdown",
   "metadata": {},
   "source": [
    "On affiche les intercepts des coefficients obtenus par OLS et PCA + OLS"
   ]
  },
  {
   "cell_type": "code",
   "execution_count": 101,
   "metadata": {},
   "outputs": [
    {
     "name": "stdout",
     "output_type": "stream",
     "text": [
      "150.11117747153384\n",
      "150.11117747153384\n",
      "151.94050991501416\n"
     ]
    }
   ],
   "source": [
    "print(thetapca[0])\n",
    "print(thetaLR[0])\n",
    "print(y_train.mean())"
   ]
  },
  {
   "cell_type": "markdown",
   "metadata": {},
   "source": [
    "On en conclut que les coefficient des OLS et PCA OLS sont sensiblement les mêmes et presque égaux à la moyenne de y_train. Cela est du au fait que les variables de X_train ne sont plus centrées ni normalisées car on a pris un échantillon de X. D'où le petit écart."
   ]
  },
  {
   "cell_type": "markdown",
   "metadata": {},
   "source": [
    "On standardise Xpca (centrage+ normalisation)"
   ]
  },
  {
   "cell_type": "code",
   "execution_count": 102,
   "metadata": {},
   "outputs": [
    {
     "name": "stdout",
     "output_type": "stream",
     "text": [
      "151.94050991501416\n",
      "151.94050991501416\n"
     ]
    }
   ],
   "source": [
    "scaler = StandardScaler()\n",
    "std = scaler.fit(Xpca)\n",
    "XpcaStd = scaler.transform(Xpca)\n",
    "thetapcaStd=np.linalg.inv(XpcaStd.T@XpcaStd)@XpcaStd.T@y_train\n",
    "regpcaStd = LinearRegression()\n",
    "regrpcaStd = regpcaStd.fit(XpcaStd, y_train)\n",
    "print(regrpcaStd.intercept_)\n",
    "print(y_train.mean())"
   ]
  },
  {
   "cell_type": "markdown",
   "metadata": {},
   "source": [
    "Ici on vérifie bien que l'intercept est égal à la moyenne de y."
   ]
  },
  {
   "cell_type": "code",
   "execution_count": null,
   "metadata": {},
   "outputs": [],
   "source": []
  },
  {
   "cell_type": "code",
   "execution_count": 103,
   "metadata": {},
   "outputs": [
    {
     "data": {
      "image/png": "[encoded data removed]",
      "text/plain": [
       "<Figure size 2160x720 with 1 Axes>"
      ]
     },
     "metadata": {},
     "output_type": "display_data"
    }
   ],
   "source": [
    "plt.figure(figsize=(30,10))\n",
    "plt.plot(np.arange(0,y_test.shape[0]) ,y_test-ypredpca, \"o\")\n",
    "plt.plot(np.arange(0,y_test.shape[0]) ,y_test-ypredLR, \"x\")\n",
    "plt.show()"
   ]
  },
  {
   "cell_type": "code",
   "execution_count": 34,
   "metadata": {},
   "outputs": [
    {
     "data": {
      "image/png": "[encoded data removed]",
      "text/plain": [
       "<Figure size 432x288 with 1 Axes>"
      ]
     },
     "metadata": {},
     "output_type": "display_data"
    }
   ],
   "source": [
    "plt.figure()\n",
    "plt.hist(y_test-ypredpca, bins=15, density=True)\n",
    "\n",
    "plt.show()"
   ]
  },
  {
   "cell_type": "code",
   "execution_count": 107,
   "metadata": {},
   "outputs": [
    {
     "ename": "ValueError",
     "evalue": "'20' is not a valid estimator for `bins`",
     "output_type": "error",
     "traceback": [
      "\u001b[0;31m---------------------------------------------------------------------------\u001b[0m",
      "\u001b[0;31mValueError\u001b[0m                                Traceback (most recent call last)",
      "\u001b[0;32m<ipython-input-107-94357d11f777>\u001b[0m in \u001b[0;36m<module>\u001b[0;34m()\u001b[0m\n\u001b[1;32m      1\u001b[0m \u001b[0mplt\u001b[0m\u001b[0;34m.\u001b[0m\u001b[0mfigure\u001b[0m\u001b[0;34m(\u001b[0m\u001b[0;34m)\u001b[0m\u001b[0;34m\u001b[0m\u001b[0m\n\u001b[0;32m----> 2\u001b[0;31m \u001b[0mplt\u001b[0m\u001b[0;34m.\u001b[0m\u001b[0mhist\u001b[0m\u001b[0;34m(\u001b[0m\u001b[0my_test\u001b[0m\u001b[0;34m-\u001b[0m\u001b[0mypredLR\u001b[0m\u001b[0;34m,\u001b[0m \u001b[0mbins\u001b[0m\u001b[0;34m=\u001b[0m\u001b[0;34m\"20\"\u001b[0m\u001b[0;34m)\u001b[0m\u001b[0;34m\u001b[0m\u001b[0m\n\u001b[0m\u001b[1;32m      3\u001b[0m \u001b[0;34m\u001b[0m\u001b[0m\n\u001b[1;32m      4\u001b[0m \u001b[0mplt\u001b[0m\u001b[0;34m.\u001b[0m\u001b[0mshow\u001b[0m\u001b[0;34m(\u001b[0m\u001b[0;34m)\u001b[0m\u001b[0;34m\u001b[0m\u001b[0m\n",
      "\u001b[0;32m/anaconda3/lib/python3.6/site-packages/matplotlib/pyplot.py\u001b[0m in \u001b[0;36mhist\u001b[0;34m(x, bins, range, density, weights, cumulative, bottom, histtype, align, orientation, rwidth, log, color, label, stacked, normed, hold, data, **kwargs)\u001b[0m\n\u001b[1;32m   3130\u001b[0m                       \u001b[0mhisttype\u001b[0m\u001b[0;34m=\u001b[0m\u001b[0mhisttype\u001b[0m\u001b[0;34m,\u001b[0m \u001b[0malign\u001b[0m\u001b[0;34m=\u001b[0m\u001b[0malign\u001b[0m\u001b[0;34m,\u001b[0m \u001b[0morientation\u001b[0m\u001b[0;34m=\u001b[0m\u001b[0morientation\u001b[0m\u001b[0;34m,\u001b[0m\u001b[0;34m\u001b[0m\u001b[0m\n\u001b[1;32m   3131\u001b[0m                       \u001b[0mrwidth\u001b[0m\u001b[0;34m=\u001b[0m\u001b[0mrwidth\u001b[0m\u001b[0;34m,\u001b[0m \u001b[0mlog\u001b[0m\u001b[0;34m=\u001b[0m\u001b[0mlog\u001b[0m\u001b[0;34m,\u001b[0m \u001b[0mcolor\u001b[0m\u001b[0;34m=\u001b[0m\u001b[0mcolor\u001b[0m\u001b[0;34m,\u001b[0m \u001b[0mlabel\u001b[0m\u001b[0;34m=\u001b[0m\u001b[0mlabel\u001b[0m\u001b[0;34m,\u001b[0m\u001b[0;34m\u001b[0m\u001b[0m\n\u001b[0;32m-> 3132\u001b[0;31m                       stacked=stacked, normed=normed, data=data, **kwargs)\n\u001b[0m\u001b[1;32m   3133\u001b[0m     \u001b[0;32mfinally\u001b[0m\u001b[0;34m:\u001b[0m\u001b[0;34m\u001b[0m\u001b[0m\n\u001b[1;32m   3134\u001b[0m         \u001b[0max\u001b[0m\u001b[0;34m.\u001b[0m\u001b[0m_hold\u001b[0m \u001b[0;34m=\u001b[0m \u001b[0mwashold\u001b[0m\u001b[0;34m\u001b[0m\u001b[0m\n",
      "\u001b[0;32m/anaconda3/lib/python3.6/site-packages/matplotlib/__init__.py\u001b[0m in \u001b[0;36minner\u001b[0;34m(ax, *args, **kwargs)\u001b[0m\n\u001b[1;32m   1853\u001b[0m                         \u001b[0;34m\"the Matplotlib list!)\"\u001b[0m \u001b[0;34m%\u001b[0m \u001b[0;34m(\u001b[0m\u001b[0mlabel_namer\u001b[0m\u001b[0;34m,\u001b[0m \u001b[0mfunc\u001b[0m\u001b[0;34m.\u001b[0m\u001b[0m__name__\u001b[0m\u001b[0;34m)\u001b[0m\u001b[0;34m,\u001b[0m\u001b[0;34m\u001b[0m\u001b[0m\n\u001b[1;32m   1854\u001b[0m                         RuntimeWarning, stacklevel=2)\n\u001b[0;32m-> 1855\u001b[0;31m             \u001b[0;32mreturn\u001b[0m \u001b[0mfunc\u001b[0m\u001b[0;34m(\u001b[0m\u001b[0max\u001b[0m\u001b[0;34m,\u001b[0m \u001b[0;34m*\u001b[0m\u001b[0margs\u001b[0m\u001b[0;34m,\u001b[0m \u001b[0;34m**\u001b[0m\u001b[0mkwargs\u001b[0m\u001b[0;34m)\u001b[0m\u001b[0;34m\u001b[0m\u001b[0m\n\u001b[0m\u001b[1;32m   1856\u001b[0m \u001b[0;34m\u001b[0m\u001b[0m\n\u001b[1;32m   1857\u001b[0m         inner.__doc__ = _add_data_doc(inner.__doc__,\n",
      "\u001b[0;32m/anaconda3/lib/python3.6/site-packages/matplotlib/axes/_axes.py\u001b[0m in \u001b[0;36mhist\u001b[0;34m(***failed resolving arguments***)\u001b[0m\n\u001b[1;32m   6528\u001b[0m             \u001b[0;31m# this will automatically overwrite bins,\u001b[0m\u001b[0;34m\u001b[0m\u001b[0;34m\u001b[0m\u001b[0m\n\u001b[1;32m   6529\u001b[0m             \u001b[0;31m# so that each histogram uses the same bins\u001b[0m\u001b[0;34m\u001b[0m\u001b[0;34m\u001b[0m\u001b[0m\n\u001b[0;32m-> 6530\u001b[0;31m             \u001b[0mm\u001b[0m\u001b[0;34m,\u001b[0m \u001b[0mbins\u001b[0m \u001b[0;34m=\u001b[0m \u001b[0mnp\u001b[0m\u001b[0;34m.\u001b[0m\u001b[0mhistogram\u001b[0m\u001b[0;34m(\u001b[0m\u001b[0mx\u001b[0m\u001b[0;34m[\u001b[0m\u001b[0mi\u001b[0m\u001b[0;34m]\u001b[0m\u001b[0;34m,\u001b[0m \u001b[0mbins\u001b[0m\u001b[0;34m,\u001b[0m \u001b[0mweights\u001b[0m\u001b[0;34m=\u001b[0m\u001b[0mw\u001b[0m\u001b[0;34m[\u001b[0m\u001b[0mi\u001b[0m\u001b[0;34m]\u001b[0m\u001b[0;34m,\u001b[0m \u001b[0;34m**\u001b[0m\u001b[0mhist_kwargs\u001b[0m\u001b[0;34m)\u001b[0m\u001b[0;34m\u001b[0m\u001b[0m\n\u001b[0m\u001b[1;32m   6531\u001b[0m             \u001b[0mm\u001b[0m \u001b[0;34m=\u001b[0m \u001b[0mm\u001b[0m\u001b[0;34m.\u001b[0m\u001b[0mastype\u001b[0m\u001b[0;34m(\u001b[0m\u001b[0mfloat\u001b[0m\u001b[0;34m)\u001b[0m  \u001b[0;31m# causes problems later if it's an int\u001b[0m\u001b[0;34m\u001b[0m\u001b[0m\n\u001b[1;32m   6532\u001b[0m             \u001b[0;32mif\u001b[0m \u001b[0mmlast\u001b[0m \u001b[0;32mis\u001b[0m \u001b[0;32mNone\u001b[0m\u001b[0;34m:\u001b[0m\u001b[0;34m\u001b[0m\u001b[0m\n",
      "\u001b[0;32m/anaconda3/lib/python3.6/site-packages/numpy/lib/function_base.py\u001b[0m in \u001b[0;36mhistogram\u001b[0;34m(a, bins, range, normed, weights, density)\u001b[0m\n\u001b[1;32m    687\u001b[0m         \u001b[0;32mif\u001b[0m \u001b[0mbin_name\u001b[0m \u001b[0;32mnot\u001b[0m \u001b[0;32min\u001b[0m \u001b[0m_hist_bin_selectors\u001b[0m\u001b[0;34m:\u001b[0m\u001b[0;34m\u001b[0m\u001b[0m\n\u001b[1;32m    688\u001b[0m             raise ValueError(\n\u001b[0;32m--> 689\u001b[0;31m                 \"{!r} is not a valid estimator for `bins`\".format(bin_name))\n\u001b[0m\u001b[1;32m    690\u001b[0m         \u001b[0;32mif\u001b[0m \u001b[0mweights\u001b[0m \u001b[0;32mis\u001b[0m \u001b[0;32mnot\u001b[0m \u001b[0;32mNone\u001b[0m\u001b[0;34m:\u001b[0m\u001b[0;34m\u001b[0m\u001b[0m\n\u001b[1;32m    691\u001b[0m             raise TypeError(\"Automated estimation of the number of \"\n",
      "\u001b[0;31mValueError\u001b[0m: '20' is not a valid estimator for `bins`"
     ]
    },
    {
     "data": {
      "image/png": "[encoded data removed]",
      "text/plain": [
       "<Figure size 432x288 with 1 Axes>"
      ]
     },
     "metadata": {},
     "output_type": "display_data"
    }
   ],
   "source": [
    "plt.figure()\n",
    "plt.hist(y_test-ypredLR, bins=\"20\")\n",
    "\n",
    "plt.show()"
   ]
  },
  {
   "cell_type": "code",
   "execution_count": null,
   "metadata": {},
   "outputs": [],
   "source": []
  },
  {
   "cell_type": "code",
   "execution_count": 36,
   "metadata": {},
   "outputs": [
    {
     "name": "stdout",
     "output_type": "stream",
     "text": [
      "R2 score avec OLS 0.41887057797419625\n",
      "R2 score avec PCA +OLS 0.4188705779741969\n"
     ]
    }
   ],
   "source": [
    "print(\"R2 score avec OLS \"+str(Rlr))\n",
    "print(\"R2 score avec PCA +OLS \"+str(R2pca))"
   ]
  },
  {
   "cell_type": "markdown",
   "metadata": {},
   "source": [
    "Les coefficients de détermination respectivement de l'ols et PCA+OLS ci dessus sont à peu près les mêmes"
   ]
  },
  {
   "cell_type": "markdown",
   "metadata": {},
   "source": [
    "## 8) Forward selection"
   ]
  },
  {
   "cell_type": "markdown",
   "metadata": {},
   "source": [
    "On définit la fonction de forward selection avec un seuil en paramètre pour répondre à la question 9"
   ]
  },
  {
   "cell_type": "code",
   "execution_count": 37,
   "metadata": {},
   "outputs": [],
   "source": [
    "\n",
    "def forward_selection(Xfwd, threshold=1):\n",
    "\n",
    "    p=Xfwd.shape[1]\n",
    "    n=Xfwd.shape[0]\n",
    "    r= y_train\n",
    "    test = np.zeros((p,p))\n",
    "    pval_mem = np.zeros(p)\n",
    "    pval = np.zeros((p,p))\n",
    "    resids = y_train\n",
    "    var_sel = []\n",
    "    var_remain = list(range(p))\n",
    "    in_test = []\n",
    "    regr = LinearRegression(fit_intercept = False)\n",
    "    \n",
    "    for k in range(p): \n",
    "        resids_mem = np.zeros((p,n))\n",
    "        #pour chaque variable explicative on fait une OLS en ajoutant l'intercept\n",
    "        for i in var_remain:\n",
    "            Xtemp=np.append(np.ones((Xfwd.shape[0],1)),Xfwd [:,[i]], axis=1)\n",
    "            gramtemp=Xtemp.T@Xtemp\n",
    "            graminvtemp= np.linalg.pinv(gramtemp)\n",
    "            thetatemp=graminvtemp@Xtemp.T@resids\n",
    "            ypredtemp=Xtemp@thetatemp\n",
    "            resids_mem [i,:] =resids-ypredtemp\n",
    "            \n",
    "            #sigma2_tmp = np.sum (resids_mem [i,:] ** 2) * graminvtemp[1,1]\n",
    "            sigma2_tmp= 1/(n-2)*np.linalg.norm(y_train-ypredtemp)**2\n",
    "            stdtheta=np.sqrt(sigma2_tmp*graminvtemp[1,1])\n",
    "            test[k,i] =  np.abs(thetatemp[1]) / stdtheta \n",
    "            #print(test[k,i])\n",
    "            pval[k,i] =   2 * (1 - t.cdf(test[k,i],n-2))\n",
    "\n",
    "        ####separe en deux vecteurs la listes des variables séléctionnées et les autres\n",
    "        best_var = np.argmax(test[k,:])\n",
    "        #print(pval[k,best_var])\n",
    "        #print(threshold)\n",
    "        var_sel.append(best_var)\n",
    "        resids = resids_mem[best_var,:]\n",
    "        if pval[k,best_var] > threshold:\n",
    "            break\n",
    "        pval_mem [k] = pval[k,best_var]\n",
    "        var_remain = np.setdiff1d(var_remain,var_sel)\n",
    "        \n",
    "    return var_sel, test, pval_mem"
   ]
  },
  {
   "cell_type": "markdown",
   "metadata": {},
   "source": [
    "On run la fonction ci dessus et on affiche les résultats dans un dataframe"
   ]
  },
  {
   "cell_type": "code",
   "execution_count": 38,
   "metadata": {},
   "outputs": [
    {
     "data": {
      "text/html": [
       "<div>\n",
       "<style scoped>\n",
       "    .dataframe tbody tr th:only-of-type {\n",
       "        vertical-align: middle;\n",
       "    }\n",
       "\n",
       "    .dataframe tbody tr th {\n",
       "        vertical-align: top;\n",
       "    }\n",
       "\n",
       "    .dataframe thead th {\n",
       "        text-align: right;\n",
       "    }\n",
       "</style>\n",
       "<table border=\"1\" class=\"dataframe\">\n",
       "  <thead>\n",
       "    <tr style=\"text-align: right;\">\n",
       "      <th></th>\n",
       "      <th>0</th>\n",
       "    </tr>\n",
       "  </thead>\n",
       "  <tbody>\n",
       "    <tr>\n",
       "      <th>0</th>\n",
       "      <td>intercept</td>\n",
       "    </tr>\n",
       "    <tr>\n",
       "      <th>1</th>\n",
       "      <td>123</td>\n",
       "    </tr>\n",
       "    <tr>\n",
       "      <th>2</th>\n",
       "      <td>58</td>\n",
       "    </tr>\n",
       "    <tr>\n",
       "      <th>3</th>\n",
       "      <td>133</td>\n",
       "    </tr>\n",
       "    <tr>\n",
       "      <th>4</th>\n",
       "      <td>167</td>\n",
       "    </tr>\n",
       "    <tr>\n",
       "      <th>5</th>\n",
       "      <td>129</td>\n",
       "    </tr>\n",
       "    <tr>\n",
       "      <th>6</th>\n",
       "      <td>135</td>\n",
       "    </tr>\n",
       "    <tr>\n",
       "      <th>7</th>\n",
       "      <td>49</td>\n",
       "    </tr>\n",
       "    <tr>\n",
       "      <th>8</th>\n",
       "      <td>17</td>\n",
       "    </tr>\n",
       "    <tr>\n",
       "      <th>9</th>\n",
       "      <td>127</td>\n",
       "    </tr>\n",
       "    <tr>\n",
       "      <th>10</th>\n",
       "      <td>38</td>\n",
       "    </tr>\n",
       "    <tr>\n",
       "      <th>11</th>\n",
       "      <td>48</td>\n",
       "    </tr>\n",
       "    <tr>\n",
       "      <th>12</th>\n",
       "      <td>202</td>\n",
       "    </tr>\n",
       "    <tr>\n",
       "      <th>13</th>\n",
       "      <td>146</td>\n",
       "    </tr>\n",
       "    <tr>\n",
       "      <th>14</th>\n",
       "      <td>30</td>\n",
       "    </tr>\n",
       "    <tr>\n",
       "      <th>15</th>\n",
       "      <td>158</td>\n",
       "    </tr>\n",
       "    <tr>\n",
       "      <th>16</th>\n",
       "      <td>205</td>\n",
       "    </tr>\n",
       "    <tr>\n",
       "      <th>17</th>\n",
       "      <td>168</td>\n",
       "    </tr>\n",
       "    <tr>\n",
       "      <th>18</th>\n",
       "      <td>71</td>\n",
       "    </tr>\n",
       "    <tr>\n",
       "      <th>19</th>\n",
       "      <td>8</td>\n",
       "    </tr>\n",
       "    <tr>\n",
       "      <th>20</th>\n",
       "      <td>13</td>\n",
       "    </tr>\n",
       "    <tr>\n",
       "      <th>21</th>\n",
       "      <td>22</td>\n",
       "    </tr>\n",
       "    <tr>\n",
       "      <th>22</th>\n",
       "      <td>165</td>\n",
       "    </tr>\n",
       "    <tr>\n",
       "      <th>23</th>\n",
       "      <td>86</td>\n",
       "    </tr>\n",
       "    <tr>\n",
       "      <th>24</th>\n",
       "      <td>99</td>\n",
       "    </tr>\n",
       "    <tr>\n",
       "      <th>25</th>\n",
       "      <td>23</td>\n",
       "    </tr>\n",
       "    <tr>\n",
       "      <th>26</th>\n",
       "      <td>69</td>\n",
       "    </tr>\n",
       "    <tr>\n",
       "      <th>27</th>\n",
       "      <td>10</td>\n",
       "    </tr>\n",
       "    <tr>\n",
       "      <th>28</th>\n",
       "      <td>195</td>\n",
       "    </tr>\n",
       "    <tr>\n",
       "      <th>29</th>\n",
       "      <td>208</td>\n",
       "    </tr>\n",
       "    <tr>\n",
       "      <th>...</th>\n",
       "      <td>...</td>\n",
       "    </tr>\n",
       "    <tr>\n",
       "      <th>181</th>\n",
       "      <td>109</td>\n",
       "    </tr>\n",
       "    <tr>\n",
       "      <th>182</th>\n",
       "      <td>92</td>\n",
       "    </tr>\n",
       "    <tr>\n",
       "      <th>183</th>\n",
       "      <td>108</td>\n",
       "    </tr>\n",
       "    <tr>\n",
       "      <th>184</th>\n",
       "      <td>84</td>\n",
       "    </tr>\n",
       "    <tr>\n",
       "      <th>185</th>\n",
       "      <td>128</td>\n",
       "    </tr>\n",
       "    <tr>\n",
       "      <th>186</th>\n",
       "      <td>148</td>\n",
       "    </tr>\n",
       "    <tr>\n",
       "      <th>187</th>\n",
       "      <td>153</td>\n",
       "    </tr>\n",
       "    <tr>\n",
       "      <th>188</th>\n",
       "      <td>125</td>\n",
       "    </tr>\n",
       "    <tr>\n",
       "      <th>189</th>\n",
       "      <td>140</td>\n",
       "    </tr>\n",
       "    <tr>\n",
       "      <th>190</th>\n",
       "      <td>169</td>\n",
       "    </tr>\n",
       "    <tr>\n",
       "      <th>191</th>\n",
       "      <td>115</td>\n",
       "    </tr>\n",
       "    <tr>\n",
       "      <th>192</th>\n",
       "      <td>166</td>\n",
       "    </tr>\n",
       "    <tr>\n",
       "      <th>193</th>\n",
       "      <td>117</td>\n",
       "    </tr>\n",
       "    <tr>\n",
       "      <th>194</th>\n",
       "      <td>177</td>\n",
       "    </tr>\n",
       "    <tr>\n",
       "      <th>195</th>\n",
       "      <td>74</td>\n",
       "    </tr>\n",
       "    <tr>\n",
       "      <th>196</th>\n",
       "      <td>5</td>\n",
       "    </tr>\n",
       "    <tr>\n",
       "      <th>197</th>\n",
       "      <td>50</td>\n",
       "    </tr>\n",
       "    <tr>\n",
       "      <th>198</th>\n",
       "      <td>36</td>\n",
       "    </tr>\n",
       "    <tr>\n",
       "      <th>199</th>\n",
       "      <td>18</td>\n",
       "    </tr>\n",
       "    <tr>\n",
       "      <th>200</th>\n",
       "      <td>190</td>\n",
       "    </tr>\n",
       "    <tr>\n",
       "      <th>201</th>\n",
       "      <td>114</td>\n",
       "    </tr>\n",
       "    <tr>\n",
       "      <th>202</th>\n",
       "      <td>73</td>\n",
       "    </tr>\n",
       "    <tr>\n",
       "      <th>203</th>\n",
       "      <td>25</td>\n",
       "    </tr>\n",
       "    <tr>\n",
       "      <th>204</th>\n",
       "      <td>67</td>\n",
       "    </tr>\n",
       "    <tr>\n",
       "      <th>205</th>\n",
       "      <td>75</td>\n",
       "    </tr>\n",
       "    <tr>\n",
       "      <th>206</th>\n",
       "      <td>85</td>\n",
       "    </tr>\n",
       "    <tr>\n",
       "      <th>207</th>\n",
       "      <td>65</td>\n",
       "    </tr>\n",
       "    <tr>\n",
       "      <th>208</th>\n",
       "      <td>152</td>\n",
       "    </tr>\n",
       "    <tr>\n",
       "      <th>209</th>\n",
       "      <td>20</td>\n",
       "    </tr>\n",
       "    <tr>\n",
       "      <th>210</th>\n",
       "      <td>103</td>\n",
       "    </tr>\n",
       "  </tbody>\n",
       "</table>\n",
       "<p>211 rows × 1 columns</p>\n",
       "</div>"
      ],
      "text/plain": [
       "             0\n",
       "0    intercept\n",
       "1          123\n",
       "2           58\n",
       "3          133\n",
       "4          167\n",
       "5          129\n",
       "6          135\n",
       "7           49\n",
       "8           17\n",
       "9          127\n",
       "10          38\n",
       "11          48\n",
       "12         202\n",
       "13         146\n",
       "14          30\n",
       "15         158\n",
       "16         205\n",
       "17         168\n",
       "18          71\n",
       "19           8\n",
       "20          13\n",
       "21          22\n",
       "22         165\n",
       "23          86\n",
       "24          99\n",
       "25          23\n",
       "26          69\n",
       "27          10\n",
       "28         195\n",
       "29         208\n",
       "..         ...\n",
       "181        109\n",
       "182         92\n",
       "183        108\n",
       "184         84\n",
       "185        128\n",
       "186        148\n",
       "187        153\n",
       "188        125\n",
       "189        140\n",
       "190        169\n",
       "191        115\n",
       "192        166\n",
       "193        117\n",
       "194        177\n",
       "195         74\n",
       "196          5\n",
       "197         50\n",
       "198         36\n",
       "199         18\n",
       "200        190\n",
       "201        114\n",
       "202         73\n",
       "203         25\n",
       "204         67\n",
       "205         75\n",
       "206         85\n",
       "207         65\n",
       "208        152\n",
       "209         20\n",
       "210        103\n",
       "\n",
       "[211 rows x 1 columns]"
      ]
     },
     "metadata": {},
     "output_type": "display_data"
    }
   ],
   "source": [
    "#Definition des dataframe avec les colonnes correspondantes pour X_train et X_test\n",
    "#X_trainfwd= np.append(np.ones((X_train.shape[0],1)), X_train, axis=1)\n",
    "columns= np.append(\"intercept\",range(0,210))\n",
    "df_X_train=pd.DataFrame(X_train_I, columns=columns)\n",
    "\n",
    "X_testfwd= np.append(np.ones((X_test.shape[0],1)), X_test, axis=1)\n",
    "columns= np.append(\"intercept\",range(0,210))\n",
    "df_X_test=pd.DataFrame(X_test_I, columns=columns)\n",
    "\n",
    "vfwd,tfwd,pfwd= forward_selection(X_train_I)\n",
    "featureSelected= df_X_train.columns[vfwd]\n",
    "display(pd.DataFrame(featureSelected))"
   ]
  },
  {
   "cell_type": "markdown",
   "metadata": {},
   "source": [
    "## 9) Forward selection avec un seuil de 0.1 sur la pvalue"
   ]
  },
  {
   "cell_type": "markdown",
   "metadata": {},
   "source": [
    "Cette fois on run la fonction avec le paramètre de seuil 0.1"
   ]
  },
  {
   "cell_type": "code",
   "execution_count": 39,
   "metadata": {},
   "outputs": [],
   "source": [
    "varfwd_selected,stats,pvalues = forward_selection(X_train_I, 0.1)\n",
    "indexOfVarSelected= df_X_train.columns[varfwd_selected]"
   ]
  },
  {
   "cell_type": "markdown",
   "metadata": {},
   "source": [
    "On plot les 3 premières itérations pour les variables sélectionnées"
   ]
  },
  {
   "cell_type": "code",
   "execution_count": 40,
   "metadata": {},
   "outputs": [
    {
     "data": {
      "image/png": "[encoded data removed]",
      "text/plain": [
       "<Figure size 432x288 with 1 Axes>"
      ]
     },
     "metadata": {},
     "output_type": "display_data"
    }
   ],
   "source": [
    "plt.plot(stats[0], label=\"n°1\")\n",
    "plt.plot(stats[1],label=\"n°2\")\n",
    "plt.plot(stats[2],label=\"n°3\")\n",
    "plt.legend()\n",
    "plt.show()"
   ]
  },
  {
   "cell_type": "code",
   "execution_count": 41,
   "metadata": {},
   "outputs": [
    {
     "data": {
      "image/png": "[encoded data removed]",
      "text/plain": [
       "<Figure size 432x288 with 1 Axes>"
      ]
     },
     "metadata": {},
     "output_type": "display_data"
    }
   ],
   "source": [
    "plt.plot(pfwd[0:50], label=\"n°1\")\n",
    "plt.axhline(y=0.1, color='r', linestyle='-')\n",
    "plt.show()"
   ]
  },
  {
   "cell_type": "code",
   "execution_count": 42,
   "metadata": {},
   "outputs": [
    {
     "data": {
      "text/html": [
       "<div>\n",
       "<style scoped>\n",
       "    .dataframe tbody tr th:only-of-type {\n",
       "        vertical-align: middle;\n",
       "    }\n",
       "\n",
       "    .dataframe tbody tr th {\n",
       "        vertical-align: top;\n",
       "    }\n",
       "\n",
       "    .dataframe thead th {\n",
       "        text-align: right;\n",
       "    }\n",
       "</style>\n",
       "<table border=\"1\" class=\"dataframe\">\n",
       "  <thead>\n",
       "    <tr style=\"text-align: right;\">\n",
       "      <th></th>\n",
       "      <th>0</th>\n",
       "    </tr>\n",
       "  </thead>\n",
       "  <tbody>\n",
       "    <tr>\n",
       "      <th>0</th>\n",
       "      <td>intercept</td>\n",
       "    </tr>\n",
       "    <tr>\n",
       "      <th>1</th>\n",
       "      <td>123</td>\n",
       "    </tr>\n",
       "    <tr>\n",
       "      <th>2</th>\n",
       "      <td>58</td>\n",
       "    </tr>\n",
       "    <tr>\n",
       "      <th>3</th>\n",
       "      <td>133</td>\n",
       "    </tr>\n",
       "  </tbody>\n",
       "</table>\n",
       "</div>"
      ],
      "text/plain": [
       "           0\n",
       "0  intercept\n",
       "1        123\n",
       "2         58\n",
       "3        133"
      ]
     },
     "execution_count": 42,
     "metadata": {},
     "output_type": "execute_result"
    }
   ],
   "source": [
    "pd.DataFrame(indexOfVarSelected).head(20)"
   ]
  },
  {
   "cell_type": "markdown",
   "metadata": {},
   "source": [
    "## 10) OLS sur les variables sélectionnées par forward selection"
   ]
  },
  {
   "cell_type": "code",
   "execution_count": 43,
   "metadata": {},
   "outputs": [
    {
     "data": {
      "text/html": [
       "<div>\n",
       "<style scoped>\n",
       "    .dataframe tbody tr th:only-of-type {\n",
       "        vertical-align: middle;\n",
       "    }\n",
       "\n",
       "    .dataframe tbody tr th {\n",
       "        vertical-align: top;\n",
       "    }\n",
       "\n",
       "    .dataframe thead th {\n",
       "        text-align: right;\n",
       "    }\n",
       "</style>\n",
       "<table border=\"1\" class=\"dataframe\">\n",
       "  <thead>\n",
       "    <tr style=\"text-align: right;\">\n",
       "      <th></th>\n",
       "      <th>intercept</th>\n",
       "      <th>123</th>\n",
       "      <th>58</th>\n",
       "      <th>133</th>\n",
       "    </tr>\n",
       "  </thead>\n",
       "  <tbody>\n",
       "    <tr>\n",
       "      <th>0</th>\n",
       "      <td>1.0</td>\n",
       "      <td>0.373456</td>\n",
       "      <td>-0.832923</td>\n",
       "      <td>-0.177624</td>\n",
       "    </tr>\n",
       "    <tr>\n",
       "      <th>1</th>\n",
       "      <td>1.0</td>\n",
       "      <td>0.247742</td>\n",
       "      <td>-1.354097</td>\n",
       "      <td>0.574497</td>\n",
       "    </tr>\n",
       "    <tr>\n",
       "      <th>2</th>\n",
       "      <td>1.0</td>\n",
       "      <td>0.629361</td>\n",
       "      <td>1.614324</td>\n",
       "      <td>0.024870</td>\n",
       "    </tr>\n",
       "    <tr>\n",
       "      <th>3</th>\n",
       "      <td>1.0</td>\n",
       "      <td>0.279952</td>\n",
       "      <td>0.436020</td>\n",
       "      <td>-0.293335</td>\n",
       "    </tr>\n",
       "    <tr>\n",
       "      <th>4</th>\n",
       "      <td>1.0</td>\n",
       "      <td>-0.012809</td>\n",
       "      <td>-1.354097</td>\n",
       "      <td>0.256292</td>\n",
       "    </tr>\n",
       "  </tbody>\n",
       "</table>\n",
       "</div>"
      ],
      "text/plain": [
       "   intercept       123        58       133\n",
       "0        1.0  0.373456 -0.832923 -0.177624\n",
       "1        1.0  0.247742 -1.354097  0.574497\n",
       "2        1.0  0.629361  1.614324  0.024870\n",
       "3        1.0  0.279952  0.436020 -0.293335\n",
       "4        1.0 -0.012809 -1.354097  0.256292"
      ]
     },
     "execution_count": 43,
     "metadata": {},
     "output_type": "execute_result"
    }
   ],
   "source": [
    "#On construit notre nouvel X avec les colonnes sélectionnées\n",
    "Xfwd=df_X_train[ indexOfVarSelected]\n",
    "pdXfwd= pd.DataFrame(Xfwd)\n",
    "pdXfwd.head()"
   ]
  },
  {
   "cell_type": "code",
   "execution_count": 44,
   "metadata": {},
   "outputs": [
    {
     "data": {
      "text/html": [
       "<div>\n",
       "<style scoped>\n",
       "    .dataframe tbody tr th:only-of-type {\n",
       "        vertical-align: middle;\n",
       "    }\n",
       "\n",
       "    .dataframe tbody tr th {\n",
       "        vertical-align: top;\n",
       "    }\n",
       "\n",
       "    .dataframe thead th {\n",
       "        text-align: right;\n",
       "    }\n",
       "</style>\n",
       "<table border=\"1\" class=\"dataframe\">\n",
       "  <thead>\n",
       "    <tr style=\"text-align: right;\">\n",
       "      <th></th>\n",
       "      <th>intercept</th>\n",
       "      <th>123</th>\n",
       "      <th>58</th>\n",
       "      <th>133</th>\n",
       "    </tr>\n",
       "  </thead>\n",
       "  <tbody>\n",
       "    <tr>\n",
       "      <th>0</th>\n",
       "      <td>1.0</td>\n",
       "      <td>-0.620783</td>\n",
       "      <td>-0.651646</td>\n",
       "      <td>0.400931</td>\n",
       "    </tr>\n",
       "    <tr>\n",
       "      <th>1</th>\n",
       "      <td>1.0</td>\n",
       "      <td>-0.108174</td>\n",
       "      <td>-0.425049</td>\n",
       "      <td>0.805919</td>\n",
       "    </tr>\n",
       "    <tr>\n",
       "      <th>2</th>\n",
       "      <td>1.0</td>\n",
       "      <td>-0.545618</td>\n",
       "      <td>-0.198452</td>\n",
       "      <td>0.024870</td>\n",
       "    </tr>\n",
       "    <tr>\n",
       "      <th>3</th>\n",
       "      <td>1.0</td>\n",
       "      <td>-0.473291</td>\n",
       "      <td>-0.696965</td>\n",
       "      <td>0.024870</td>\n",
       "    </tr>\n",
       "    <tr>\n",
       "      <th>4</th>\n",
       "      <td>1.0</td>\n",
       "      <td>1.776412</td>\n",
       "      <td>0.028145</td>\n",
       "      <td>2.657295</td>\n",
       "    </tr>\n",
       "  </tbody>\n",
       "</table>\n",
       "</div>"
      ],
      "text/plain": [
       "   intercept       123        58       133\n",
       "0        1.0 -0.620783 -0.651646  0.400931\n",
       "1        1.0 -0.108174 -0.425049  0.805919\n",
       "2        1.0 -0.545618 -0.198452  0.024870\n",
       "3        1.0 -0.473291 -0.696965  0.024870\n",
       "4        1.0  1.776412  0.028145  2.657295"
      ]
     },
     "execution_count": 44,
     "metadata": {},
     "output_type": "execute_result"
    }
   ],
   "source": [
    "# Pareil pour Xtest\n",
    "Xtestfwd=df_X_test[indexOfVarSelected]\n",
    "Xtestfwd.head()"
   ]
  },
  {
   "cell_type": "markdown",
   "metadata": {},
   "source": [
    "On fait notre prédiction sur ces nouveaux X_train et X_test"
   ]
  },
  {
   "cell_type": "code",
   "execution_count": 45,
   "metadata": {},
   "outputs": [
    {
     "name": "stdout",
     "output_type": "stream",
     "text": [
      "R2 forward selection=0.5013245749350138\n",
      "predictionError=303978.47535200976\n"
     ]
    }
   ],
   "source": [
    "gram= Xfwd.T@Xfwd\n",
    "B= np.linalg.inv(gram).dot(Xfwd.transpose().dot(y_train))\n",
    "ypredFwd= Xtestfwd@B\n",
    "prediction_error= np.sum((y_test-ypredFwd)**2)\n",
    "R2fwd= 1-prediction_error/(np.sum((y_test-y_test.mean())**2))\n",
    "print(\"R2 forward selection=\"+str(R2fwd))\n",
    "print(\"predictionError=\"+str(prediction_error))"
   ]
  },
  {
   "cell_type": "markdown",
   "metadata": {},
   "source": [
    "Vérification avec les packages"
   ]
  },
  {
   "cell_type": "code",
   "execution_count": 46,
   "metadata": {
    "scrolled": true
   },
   "outputs": [
    {
     "name": "stdout",
     "output_type": "stream",
     "text": [
      "R2 avec forward selection= 0.5013245749350134\n"
     ]
    }
   ],
   "source": [
    "regSelected= LinearRegression()\n",
    "regSelected.fit(Xfwd, y_train)\n",
    "\n",
    "pd.DataFrame(Xtestfwd).head()\n",
    "scoreSelected= regSelected.score(Xtestfwd, y_test)\n",
    "scoresTP[\"Fwd\"]=scoreSelected\n",
    "print(\"R2 avec forward selection= \"+str(scoreSelected))\n"
   ]
  },
  {
   "cell_type": "markdown",
   "metadata": {},
   "source": [
    "## 11) Validation croisée Kfold"
   ]
  },
  {
   "cell_type": "code",
   "execution_count": 47,
   "metadata": {},
   "outputs": [
    {
     "name": "stdout",
     "output_type": "stream",
     "text": [
      "TRAIN: [  0   1   2   4   5   6   7   8  10  11  12  13  14  15  17  18  19  21\n",
      "  22  23  24  27  28  29  31  32  33  34  35  36  37  38  42  43  44  45\n",
      "  46  47  48  49  50  52  53  55  56  57  59  63  64  65  67  68  70  71\n",
      "  74  75  76  80  81  83  84  86  87  89  90  91  92  93  94  95  96  98\n",
      "  99 100 101 102 103 105 106 108 109 110 111 112 113 114 115 116 118 119\n",
      " 120 121 122 123 124 125 126 127 128 133 134 135 136 138 139 140 142 143\n",
      " 144 145 146 147 150 151 152 153 154 155 156 157 158 160 161 162 163 164\n",
      " 165 166 167 169 170 171 172 173 174 176 177 180 182 183 184 185 186 188\n",
      " 190 191 192 193 195 196 197 198 199 200 201 202 203 204 205 206 207 208\n",
      " 210 212 213 214 216 217 218 219 220 224 225 228 229 232 233 236 237 238\n",
      " 239 240 241 242 243 244 245 246 247 248 249 250 252 254 256 257 258 259\n",
      " 260 261 263 264 265 266 268 269 270 271 272 273 275 277 278 279 280 282\n",
      " 283 284 287 289 290 292 296 297 298 299 303 304 305 307 308 309 310 311\n",
      " 312 313 314 315 316 319 320 322 323 324 325 326 330 331 332 333 334 336\n",
      " 338 340 341 342 343 344 346 347 348 349 350 352] TEST: [  3   9  16  20  25  26  30  39  40  41  51  54  58  60  61  62  66  69\n",
      "  72  73  77  78  79  82  85  88  97 104 107 117 129 130 131 132 137 141\n",
      " 148 149 159 168 175 178 179 181 187 189 194 209 211 215 221 222 223 226\n",
      " 227 230 231 234 235 251 253 255 262 267 274 276 281 285 286 288 291 293\n",
      " 294 295 300 301 302 306 317 318 321 327 328 329 335 337 339 345 351]\n",
      "TRAIN: [  0   2   3   4   5   9  10  11  14  16  19  20  21  24  25  26  27  29\n",
      "  30  33  34  35  36  38  39  40  41  43  45  46  49  51  53  54  56  57\n",
      "  58  59  60  61  62  63  65  66  67  68  69  71  72  73  74  75  77  78\n",
      "  79  80  81  82  83  84  85  86  87  88  90  91  92  93  94  97  98 100\n",
      " 101 102 104 106 107 108 112 114 115 116 117 118 119 120 121 122 123 124\n",
      " 125 126 127 129 130 131 132 133 134 136 137 138 140 141 142 143 144 146\n",
      " 148 149 150 151 153 155 156 157 158 159 162 166 167 168 172 173 175 176\n",
      " 177 178 179 181 182 183 184 185 186 187 188 189 194 195 197 198 200 201\n",
      " 202 204 205 208 209 210 211 212 213 214 215 217 218 219 220 221 222 223\n",
      " 224 225 226 227 228 229 230 231 232 234 235 237 238 241 243 244 245 246\n",
      " 247 248 249 250 251 252 253 255 256 257 258 259 260 262 264 265 267 268\n",
      " 269 270 271 272 273 274 275 276 277 280 281 283 284 285 286 288 290 291\n",
      " 292 293 294 295 296 298 299 300 301 302 303 304 305 306 307 308 309 311\n",
      " 312 316 317 318 319 320 321 322 323 324 325 326 327 328 329 330 332 333\n",
      " 334 335 336 337 338 339 341 343 345 348 350 351 352] TEST: [  1   6   7   8  12  13  15  17  18  22  23  28  31  32  37  42  44  47\n",
      "  48  50  52  55  64  70  76  89  95  96  99 103 105 109 110 111 113 128\n",
      " 135 139 145 147 152 154 160 161 163 164 165 169 170 171 174 180 190 191\n",
      " 192 193 196 199 203 206 207 216 233 236 239 240 242 254 261 263 266 278\n",
      " 279 282 287 289 297 310 313 314 315 331 340 342 344 346 347 349]\n",
      "TRAIN: [  0   1   3   6   7   8   9  11  12  13  15  16  17  18  19  20  22  23\n",
      "  25  26  27  28  29  30  31  32  36  37  39  40  41  42  44  45  47  48\n",
      "  50  51  52  54  55  58  60  61  62  63  64  66  67  68  69  70  72  73\n",
      "  74  75  76  77  78  79  80  81  82  83  84  85  87  88  89  91  94  95\n",
      "  96  97  98  99 103 104 105 107 108 109 110 111 112 113 115 116 117 118\n",
      " 121 122 123 125 127 128 129 130 131 132 135 136 137 138 139 140 141 144\n",
      " 145 146 147 148 149 152 154 155 157 159 160 161 162 163 164 165 166 168\n",
      " 169 170 171 174 175 176 178 179 180 181 182 185 186 187 188 189 190 191\n",
      " 192 193 194 195 196 197 199 202 203 204 205 206 207 208 209 211 213 214\n",
      " 215 216 217 219 220 221 222 223 225 226 227 229 230 231 233 234 235 236\n",
      " 239 240 242 243 245 246 247 251 252 253 254 255 257 258 260 261 262 263\n",
      " 266 267 269 270 274 275 276 277 278 279 280 281 282 284 285 286 287 288\n",
      " 289 290 291 293 294 295 296 297 298 300 301 302 303 306 308 309 310 311\n",
      " 312 313 314 315 316 317 318 321 323 325 326 327 328 329 331 332 334 335\n",
      " 336 337 339 340 341 342 344 345 346 347 349 350 351] TEST: [  2   4   5  10  14  21  24  33  34  35  38  43  46  49  53  56  57  59\n",
      "  65  71  86  90  92  93 100 101 102 106 114 119 120 124 126 133 134 142\n",
      " 143 150 151 153 156 158 167 172 173 177 183 184 198 200 201 210 212 218\n",
      " 224 228 232 237 238 241 244 248 249 250 256 259 264 265 268 271 272 273\n",
      " 283 292 299 304 305 307 319 320 322 324 330 333 338 343 348 352]\n",
      "TRAIN: [  1   2   3   4   5   6   7   8   9  10  12  13  14  15  16  17  18  20\n",
      "  21  22  23  24  25  26  28  30  31  32  33  34  35  37  38  39  40  41\n",
      "  42  43  44  46  47  48  49  50  51  52  53  54  55  56  57  58  59  60\n",
      "  61  62  64  65  66  69  70  71  72  73  76  77  78  79  82  85  86  88\n",
      "  89  90  92  93  95  96  97  99 100 101 102 103 104 105 106 107 109 110\n",
      " 111 113 114 117 119 120 124 126 128 129 130 131 132 133 134 135 137 139\n",
      " 141 142 143 145 147 148 149 150 151 152 153 154 156 158 159 160 161 163\n",
      " 164 165 167 168 169 170 171 172 173 174 175 177 178 179 180 181 183 184\n",
      " 187 189 190 191 192 193 194 196 198 199 200 201 203 206 207 209 210 211\n",
      " 212 215 216 218 221 222 223 224 226 227 228 230 231 232 233 234 235 236\n",
      " 237 238 239 240 241 242 244 248 249 250 251 253 254 255 256 259 261 262\n",
      " 263 264 265 266 267 268 271 272 273 274 276 278 279 281 282 283 285 286\n",
      " 287 288 289 291 292 293 294 295 297 299 300 301 302 304 305 306 307 310\n",
      " 313 314 315 317 318 319 320 321 322 324 327 328 329 330 331 333 335 337\n",
      " 338 339 340 342 343 344 345 346 347 348 349 351 352] TEST: [  0  11  19  27  29  36  45  63  67  68  74  75  80  81  83  84  87  91\n",
      "  94  98 108 112 115 116 118 121 122 123 125 127 136 138 140 144 146 155\n",
      " 157 162 166 176 182 185 186 188 195 197 202 204 205 208 213 214 217 219\n",
      " 220 225 229 243 245 246 247 252 257 258 260 269 270 275 277 280 284 290\n",
      " 296 298 303 308 309 311 312 316 323 325 326 332 334 336 341 350]\n"
     ]
    }
   ],
   "source": [
    "kf = KFold(n_splits=4, shuffle=True)\n",
    "foldsTrain= []\n",
    "foldsTest= []\n",
    "for train_index, test_index in kf.split(X_train):\n",
    "    foldsTrain.append(train_index)\n",
    "    foldsTest.append(test_index)\n",
    "    \n",
    "    print(\"TRAIN:\", train_index, \"TEST:\", test_index)\n",
    "\n",
    "\n",
    "\n",
    "\n"
   ]
  },
  {
   "cell_type": "code",
   "execution_count": 48,
   "metadata": {},
   "outputs": [
    {
     "data": {
      "text/html": [
       "<div>\n",
       "<style scoped>\n",
       "    .dataframe tbody tr th:only-of-type {\n",
       "        vertical-align: middle;\n",
       "    }\n",
       "\n",
       "    .dataframe tbody tr th {\n",
       "        vertical-align: top;\n",
       "    }\n",
       "\n",
       "    .dataframe thead th {\n",
       "        text-align: right;\n",
       "    }\n",
       "</style>\n",
       "<table border=\"1\" class=\"dataframe\">\n",
       "  <thead>\n",
       "    <tr style=\"text-align: right;\">\n",
       "      <th></th>\n",
       "      <th>0</th>\n",
       "      <th>1</th>\n",
       "      <th>2</th>\n",
       "      <th>3</th>\n",
       "      <th>4</th>\n",
       "      <th>5</th>\n",
       "      <th>6</th>\n",
       "      <th>7</th>\n",
       "      <th>8</th>\n",
       "      <th>9</th>\n",
       "      <th>...</th>\n",
       "      <th>79</th>\n",
       "      <th>80</th>\n",
       "      <th>81</th>\n",
       "      <th>82</th>\n",
       "      <th>83</th>\n",
       "      <th>84</th>\n",
       "      <th>85</th>\n",
       "      <th>86</th>\n",
       "      <th>87</th>\n",
       "      <th>88</th>\n",
       "    </tr>\n",
       "  </thead>\n",
       "  <tbody>\n",
       "    <tr>\n",
       "      <th>0</th>\n",
       "      <td>3</td>\n",
       "      <td>9</td>\n",
       "      <td>16</td>\n",
       "      <td>20</td>\n",
       "      <td>25</td>\n",
       "      <td>26</td>\n",
       "      <td>30</td>\n",
       "      <td>39</td>\n",
       "      <td>40</td>\n",
       "      <td>41</td>\n",
       "      <td>...</td>\n",
       "      <td>318</td>\n",
       "      <td>321</td>\n",
       "      <td>327</td>\n",
       "      <td>328</td>\n",
       "      <td>329</td>\n",
       "      <td>335</td>\n",
       "      <td>337</td>\n",
       "      <td>339</td>\n",
       "      <td>345</td>\n",
       "      <td>351.0</td>\n",
       "    </tr>\n",
       "    <tr>\n",
       "      <th>1</th>\n",
       "      <td>1</td>\n",
       "      <td>6</td>\n",
       "      <td>7</td>\n",
       "      <td>8</td>\n",
       "      <td>12</td>\n",
       "      <td>13</td>\n",
       "      <td>15</td>\n",
       "      <td>17</td>\n",
       "      <td>18</td>\n",
       "      <td>22</td>\n",
       "      <td>...</td>\n",
       "      <td>314</td>\n",
       "      <td>315</td>\n",
       "      <td>331</td>\n",
       "      <td>340</td>\n",
       "      <td>342</td>\n",
       "      <td>344</td>\n",
       "      <td>346</td>\n",
       "      <td>347</td>\n",
       "      <td>349</td>\n",
       "      <td>NaN</td>\n",
       "    </tr>\n",
       "    <tr>\n",
       "      <th>2</th>\n",
       "      <td>2</td>\n",
       "      <td>4</td>\n",
       "      <td>5</td>\n",
       "      <td>10</td>\n",
       "      <td>14</td>\n",
       "      <td>21</td>\n",
       "      <td>24</td>\n",
       "      <td>33</td>\n",
       "      <td>34</td>\n",
       "      <td>35</td>\n",
       "      <td>...</td>\n",
       "      <td>320</td>\n",
       "      <td>322</td>\n",
       "      <td>324</td>\n",
       "      <td>330</td>\n",
       "      <td>333</td>\n",
       "      <td>338</td>\n",
       "      <td>343</td>\n",
       "      <td>348</td>\n",
       "      <td>352</td>\n",
       "      <td>NaN</td>\n",
       "    </tr>\n",
       "    <tr>\n",
       "      <th>3</th>\n",
       "      <td>0</td>\n",
       "      <td>11</td>\n",
       "      <td>19</td>\n",
       "      <td>27</td>\n",
       "      <td>29</td>\n",
       "      <td>36</td>\n",
       "      <td>45</td>\n",
       "      <td>63</td>\n",
       "      <td>67</td>\n",
       "      <td>68</td>\n",
       "      <td>...</td>\n",
       "      <td>316</td>\n",
       "      <td>323</td>\n",
       "      <td>325</td>\n",
       "      <td>326</td>\n",
       "      <td>332</td>\n",
       "      <td>334</td>\n",
       "      <td>336</td>\n",
       "      <td>341</td>\n",
       "      <td>350</td>\n",
       "      <td>NaN</td>\n",
       "    </tr>\n",
       "  </tbody>\n",
       "</table>\n",
       "<p>4 rows × 89 columns</p>\n",
       "</div>"
      ],
      "text/plain": [
       "   0   1   2   3   4   5   6   7   8   9   ...     79   80   81   82   83  \\\n",
       "0   3   9  16  20  25  26  30  39  40  41  ...    318  321  327  328  329   \n",
       "1   1   6   7   8  12  13  15  17  18  22  ...    314  315  331  340  342   \n",
       "2   2   4   5  10  14  21  24  33  34  35  ...    320  322  324  330  333   \n",
       "3   0  11  19  27  29  36  45  63  67  68  ...    316  323  325  326  332   \n",
       "\n",
       "    84   85   86   87     88  \n",
       "0  335  337  339  345  351.0  \n",
       "1  344  346  347  349    NaN  \n",
       "2  338  343  348  352    NaN  \n",
       "3  334  336  341  350    NaN  \n",
       "\n",
       "[4 rows x 89 columns]"
      ]
     },
     "execution_count": 48,
     "metadata": {},
     "output_type": "execute_result"
    }
   ],
   "source": [
    "pd.DataFrame(foldsTest).head()"
   ]
  },
  {
   "cell_type": "markdown",
   "metadata": {},
   "source": [
    "## 12) Ridge"
   ]
  },
  {
   "cell_type": "markdown",
   "metadata": {},
   "source": [
    "Définition de la fonction de cv pour lambda avec Ridge"
   ]
  },
  {
   "cell_type": "code",
   "execution_count": 49,
   "metadata": {},
   "outputs": [],
   "source": [
    "\n",
    "\n",
    "def kFoldRidge(X, Y, lambdas):\n",
    "    kf = KFold(n_splits=4, shuffle=True, random_state=2)\n",
    "    r = dict()\n",
    "    dfX= pd.DataFrame(X)\n",
    "    dfY=pd.DataFrame(Y)\n",
    "    for alpha in lambdas:\n",
    "        ridgeReg =  Ridge(alpha=alpha)\n",
    "        scores = []\n",
    "        for train_index, test_index in kf.split(X):\n",
    "        #     print(\"TRAIN:\", train_index, \"TEST:\", test_index)\n",
    "            X_traink, X_testk = dfX.take(train_index), dfX.take(test_index)\n",
    "            Y_traink, Y_testk = dfY.take(train_index), dfY.take(test_index)\n",
    "            ridgeReg.fit(X_traink, Y_traink)\n",
    "            scores.append(ridgeReg.score(X_testk, Y_testk))\n",
    "        r[alpha]= np.array(scores).mean()\n",
    "        #print('alpha :'+ str(alpha) + \"----> score mean :\" + str(r[alpha]))\n",
    "    return r"
   ]
  },
  {
   "cell_type": "code",
   "execution_count": 50,
   "metadata": {
    "scrolled": true
   },
   "outputs": [
    {
     "name": "stdout",
     "output_type": "stream",
     "text": [
      "{1000: 0.27669690737023867, 100: 0.3858239451098826, 10: 0.37878956834362315, 1: 0.37532173090720644, 0.1: 0.3736764283412881, 0.01: 0.37331610414931454, 0.001: 0.37327627490802623, 0.0001: 0.3732722507453302, 1e-05: 0.37327184791316015, 1e-06: 0.3732718076257796, 1e-07: 0.3732718035970007, 1e-08: 0.3732718031941219, 1e-09: 0.3732718031538339, 1e-10: 0.37327180314980596, 1e-11: 0.3732718031494022}\n"
     ]
    }
   ],
   "source": [
    "alphas=kFoldRidge(X_train,y_train, [10**(3-x) for x in range(15)])\n",
    "print(alphas)"
   ]
  },
  {
   "cell_type": "code",
   "execution_count": 51,
   "metadata": {
    "scrolled": true
   },
   "outputs": [
    {
     "name": "stdout",
     "output_type": "stream",
     "text": [
      "100\n"
     ]
    }
   ],
   "source": [
    "bestAlpha= max(alphas, key=alphas.get)\n",
    "print(bestAlpha)"
   ]
  },
  {
   "cell_type": "code",
   "execution_count": 52,
   "metadata": {},
   "outputs": [
    {
     "name": "stdout",
     "output_type": "stream",
     "text": [
      "66\n"
     ]
    }
   ],
   "source": [
    "alphas2=kFoldRidge(X_train,y_train,range(100))\n",
    "bestAlpha= max(alphas2, key=alphas2.get)\n",
    "print(bestAlpha)"
   ]
  },
  {
   "cell_type": "code",
   "execution_count": 53,
   "metadata": {},
   "outputs": [
    {
     "data": {
      "image/png": "[encoded data removed]",
      "text/plain": [
       "<Figure size 432x288 with 1 Axes>"
      ]
     },
     "metadata": {},
     "output_type": "display_data"
    }
   ],
   "source": [
    "plt.plot(np.log10(list(alphas.keys())),alphas.values())\n",
    "plt.xlabel(\"log10(lambda)\")\n",
    "plt.ylabel(\"R2 Score\")\n",
    "plt.show()"
   ]
  },
  {
   "cell_type": "code",
   "execution_count": 54,
   "metadata": {},
   "outputs": [
    {
     "data": {
      "image/png": "[encoded data removed]",
      "text/plain": [
       "<Figure size 432x288 with 1 Axes>"
      ]
     },
     "metadata": {},
     "output_type": "display_data"
    }
   ],
   "source": [
    "plt.plot(list(alphas2.keys()),alphas2.values())\n",
    "plt.xlabel(\"lambda\")\n",
    "plt.ylabel(\"R2 Score\")\n",
    "plt.show()"
   ]
  },
  {
   "cell_type": "code",
   "execution_count": 55,
   "metadata": {},
   "outputs": [
    {
     "name": "stdout",
     "output_type": "stream",
     "text": [
      "R2 score avec Ridge pour le best lambda 0.41366259061744115\n"
     ]
    }
   ],
   "source": [
    "rr =  Ridge(alpha=bestAlpha)\n",
    "rr.fit(X_train, y_train)\n",
    "R2rr=rr.score(X_test, y_test)\n",
    "scoresTP[\"Ridge\"]=R2rr\n",
    "print(\"R2 score avec Ridge pour le best lambda \"+str(R2rr))"
   ]
  },
  {
   "cell_type": "markdown",
   "metadata": {},
   "source": [
    "## 13) Lasso"
   ]
  },
  {
   "cell_type": "markdown",
   "metadata": {},
   "source": [
    "On commence par chercher le bon paramètre alpha par cross validation"
   ]
  },
  {
   "cell_type": "code",
   "execution_count": 56,
   "metadata": {},
   "outputs": [
    {
     "name": "stdout",
     "output_type": "stream",
     "text": [
      "[1.e+03 1.e+02 1.e+01 1.e+00 1.e-01 1.e-02 1.e-03 1.e-04]\n"
     ]
    }
   ],
   "source": [
    "my_alphas = np.array([10**(3-x) for x in range(8)])\n",
    "lassoCV = LassoCV(alphas=my_alphas,random_state=2,cv=5, max_iter=10**5)\n",
    "\n",
    "lassoCV.fit(X_train,y_train)\n",
    "print(lassoCV.alphas_)"
   ]
  },
  {
   "cell_type": "markdown",
   "metadata": {},
   "source": [
    "On récupère les moyennes des MSE pour chacun des alphas "
   ]
  },
  {
   "cell_type": "code",
   "execution_count": 57,
   "metadata": {
    "scrolled": true
   },
   "outputs": [
    {
     "name": "stdout",
     "output_type": "stream",
     "text": [
      "[5647.69298315 5647.69298315 3296.26417403 3433.56587235 3650.13093683\n",
      " 3685.05404203 3688.38641698 3688.7287653 ]\n"
     ]
    }
   ],
   "source": [
    "avg_mse = np.mean(lassoCV.mse_path_,axis=1)\n",
    "print(avg_mse)\n"
   ]
  },
  {
   "cell_type": "code",
   "execution_count": 58,
   "metadata": {},
   "outputs": [],
   "source": [
    "#print(lcv.score(X_test,y_test))"
   ]
  },
  {
   "cell_type": "code",
   "execution_count": 59,
   "metadata": {},
   "outputs": [
    {
     "name": "stdout",
     "output_type": "stream",
     "text": [
      "[-0.          0.          0.          0.          0.          0.\n",
      "  0.          0.          0.          0.          0.         -0.\n",
      " -0.          0.         -0.          0.          0.         -0.\n",
      "  0.          0.          0.         -0.          0.          0.33634949\n",
      " -0.          0.         -0.         -0.          0.          0.\n",
      "  0.         -0.         -0.         -0.          0.          0.\n",
      " -0.          0.          0.         -0.         -0.          0.\n",
      " -0.         -0.          0.          0.          0.          0.\n",
      "  0.         -0.          0.         -0.          0.         -0.\n",
      "  0.         -0.          0.         -0.         20.0269512  -0.\n",
      " -0.          0.          0.          0.         -0.          0.\n",
      " -0.         -0.         -0.          0.         -0.          0.\n",
      "  0.         -0.         -0.         -0.         -0.          0.\n",
      " -0.         -0.         -0.         -0.          0.          0.\n",
      " -0.         -0.         -0.         -0.         -0.          0.\n",
      "  0.         -0.         -0.          0.         -0.          0.\n",
      " -0.          0.         -0.          0.          0.         -0.\n",
      " -0.         -0.          0.         -0.          0.          0.\n",
      " -0.         -0.          0.          0.          0.          0.\n",
      " -0.          0.         -0.          0.         -0.          0.\n",
      " -0.          0.          0.         21.19235385 -0.          0.\n",
      " -0.          0.         -0.         -0.         -0.         -0.\n",
      " -0.         -0.         -0.         -0.          0.         -0.\n",
      " -0.          0.          0.         -0.         -0.          0.\n",
      " -0.         -0.          0.         -0.         -0.         -0.\n",
      " -0.         -0.          0.          0.         -0.         -0.\n",
      "  0.         -0.         -0.         -0.         -0.         -0.\n",
      "  0.         -0.          0.         -0.         -0.          7.11477619\n",
      "  0.          0.         -0.          0.         -0.         -0.\n",
      " -0.109783    0.          0.          0.          0.         -0.\n",
      "  0.          0.          0.         -0.          0.         -0.\n",
      " -0.         -0.         -0.          0.         -0.          0.\n",
      "  0.         -0.          0.          0.          0.         -0.\n",
      " -0.          0.          0.         -0.         -0.         -0.\n",
      "  0.         -0.          0.         -0.          0.         -0.        ]\n"
     ]
    }
   ],
   "source": [
    "print(lassoCV.coef_)"
   ]
  },
  {
   "cell_type": "markdown",
   "metadata": {},
   "source": [
    "On trace les moyennes des MSE pour chaque alpha"
   ]
  },
  {
   "cell_type": "code",
   "execution_count": 60,
   "metadata": {},
   "outputs": [
    {
     "data": {
      "image/png": "[encoded data removed]",
      "text/plain": [
       "<Figure size 432x288 with 1 Axes>"
      ]
     },
     "metadata": {},
     "output_type": "display_data"
    }
   ],
   "source": [
    "\n",
    "plt.plot(np.log10(lassoCV.alphas_),avg_mse)\n",
    "plt.xlabel('Alpha')\n",
    "plt.ylabel('MSE')\n",
    "plt.title('MSE vs. Alpha')\n",
    "plt.show()"
   ]
  },
  {
   "cell_type": "markdown",
   "metadata": {},
   "source": [
    "On récupère le meilleur alpha"
   ]
  },
  {
   "cell_type": "code",
   "execution_count": 61,
   "metadata": {
    "scrolled": true
   },
   "outputs": [
    {
     "name": "stdout",
     "output_type": "stream",
     "text": [
      "10.0\n"
     ]
    }
   ],
   "source": [
    "print(lassoCV.alphas_[avg_mse.argmin()])"
   ]
  },
  {
   "cell_type": "markdown",
   "metadata": {},
   "source": [
    "Ou plus simplement"
   ]
  },
  {
   "cell_type": "code",
   "execution_count": 62,
   "metadata": {},
   "outputs": [
    {
     "name": "stdout",
     "output_type": "stream",
     "text": [
      "10.0\n"
     ]
    }
   ],
   "source": [
    "print(lassoCV.alpha_)"
   ]
  },
  {
   "cell_type": "markdown",
   "metadata": {},
   "source": [
    "## 14) Least Square Lasso "
   ]
  },
  {
   "cell_type": "code",
   "execution_count": 63,
   "metadata": {
    "scrolled": true
   },
   "outputs": [
    {
     "name": "stdout",
     "output_type": "stream",
     "text": [
      "Le R2 lasso 0.4629487890602719\n"
     ]
    }
   ],
   "source": [
    "scoresTP[\"lasso\"]=lassoCV.score(X_test,y_test)\n",
    "print(\"Le R2 lasso \"+str(scoresTP[\"lasso\"]))"
   ]
  },
  {
   "cell_type": "code",
   "execution_count": 64,
   "metadata": {
    "scrolled": true
   },
   "outputs": [
    {
     "name": "stdout",
     "output_type": "stream",
     "text": [
      "[ 0.33634949 20.0269512  21.19235385  7.11477619 -0.109783  ]\n",
      "Il y a 5 coefficients non nuls\n"
     ]
    }
   ],
   "source": [
    "indexCoeffLassoSelected= np.nonzero(lassoCV.coef_)\n",
    "print(lassoCV.coef_[indexCoeffLassoSelected])\n",
    "print(\"Il y a \"+str(len(indexCoeffLassoSelected[0]))+\" coefficients non nuls\")"
   ]
  },
  {
   "cell_type": "markdown",
   "metadata": {},
   "source": [
    "On reconstruit notre XLasso avec uniquement les variables sélectionnées par le lasso:"
   ]
  },
  {
   "cell_type": "code",
   "execution_count": 65,
   "metadata": {},
   "outputs": [],
   "source": [
    "X_train_lasso=pd.DataFrame(X_train)[ indexCoeffLassoSelected[0]]\n",
    "X_test_lasso=pd.DataFrame(X_test)[ indexCoeffLassoSelected[0]]"
   ]
  },
  {
   "cell_type": "code",
   "execution_count": 66,
   "metadata": {},
   "outputs": [
    {
     "data": {
      "text/html": [
       "<div>\n",
       "<style scoped>\n",
       "    .dataframe tbody tr th:only-of-type {\n",
       "        vertical-align: middle;\n",
       "    }\n",
       "\n",
       "    .dataframe tbody tr th {\n",
       "        vertical-align: top;\n",
       "    }\n",
       "\n",
       "    .dataframe thead th {\n",
       "        text-align: right;\n",
       "    }\n",
       "</style>\n",
       "<table border=\"1\" class=\"dataframe\">\n",
       "  <thead>\n",
       "    <tr style=\"text-align: right;\">\n",
       "      <th></th>\n",
       "      <th>23</th>\n",
       "      <th>58</th>\n",
       "      <th>123</th>\n",
       "      <th>167</th>\n",
       "      <th>174</th>\n",
       "    </tr>\n",
       "  </thead>\n",
       "  <tbody>\n",
       "    <tr>\n",
       "      <th>0</th>\n",
       "      <td>-1.415982</td>\n",
       "      <td>-0.832923</td>\n",
       "      <td>0.373456</td>\n",
       "      <td>-0.843040</td>\n",
       "      <td>-1.376863</td>\n",
       "    </tr>\n",
       "    <tr>\n",
       "      <th>1</th>\n",
       "      <td>-1.154734</td>\n",
       "      <td>-1.354097</td>\n",
       "      <td>0.247742</td>\n",
       "      <td>0.242693</td>\n",
       "      <td>-0.293235</td>\n",
       "    </tr>\n",
       "    <tr>\n",
       "      <th>2</th>\n",
       "      <td>0.935254</td>\n",
       "      <td>1.614324</td>\n",
       "      <td>0.629361</td>\n",
       "      <td>0.532222</td>\n",
       "      <td>-1.144657</td>\n",
       "    </tr>\n",
       "    <tr>\n",
       "      <th>3</th>\n",
       "      <td>0.848171</td>\n",
       "      <td>0.436020</td>\n",
       "      <td>0.279952</td>\n",
       "      <td>0.459840</td>\n",
       "      <td>-0.138431</td>\n",
       "    </tr>\n",
       "    <tr>\n",
       "      <th>4</th>\n",
       "      <td>-1.067651</td>\n",
       "      <td>-1.354097</td>\n",
       "      <td>-0.012809</td>\n",
       "      <td>0.749369</td>\n",
       "      <td>3.809072</td>\n",
       "    </tr>\n",
       "  </tbody>\n",
       "</table>\n",
       "</div>"
      ],
      "text/plain": [
       "        23        58        123       167       174\n",
       "0 -1.415982 -0.832923  0.373456 -0.843040 -1.376863\n",
       "1 -1.154734 -1.354097  0.247742  0.242693 -0.293235\n",
       "2  0.935254  1.614324  0.629361  0.532222 -1.144657\n",
       "3  0.848171  0.436020  0.279952  0.459840 -0.138431\n",
       "4 -1.067651 -1.354097 -0.012809  0.749369  3.809072"
      ]
     },
     "execution_count": 66,
     "metadata": {},
     "output_type": "execute_result"
    }
   ],
   "source": [
    "X_train_lasso.head()"
   ]
  },
  {
   "cell_type": "markdown",
   "metadata": {},
   "source": [
    "On applique l'OLS sur ce nouveau Xlasso"
   ]
  },
  {
   "cell_type": "code",
   "execution_count": 67,
   "metadata": {},
   "outputs": [],
   "source": [
    "X_train_lasso_I= sm.add_constant(X_train_lasso)\n",
    "X_test_lasso_I= sm.add_constant(X_test_lasso)\n",
    "\n",
    "\n",
    "thetaLasso=np.linalg.inv(X_train_lasso_I.T@X_train_lasso_I)@X_train_lasso_I.T@y_train\n",
    "#On projette Xtest sur l'espace PCA \n",
    "ypredLasso= X_test_lasso_I@thetaLasso\n"
   ]
  },
  {
   "cell_type": "code",
   "execution_count": 68,
   "metadata": {
    "scrolled": true
   },
   "outputs": [
    {
     "name": "stdout",
     "output_type": "stream",
     "text": [
      "R2 pour Lasso 0.5334177257190167\n"
     ]
    }
   ],
   "source": [
    "R2Lasso=1-np.sum((ypredLasso-y_test)**2)/np.sum((y_test-y_test.mean())**2)\n",
    "scoresTP[\"lasso\"]=R2Lasso\n",
    "print(\"R2 pour Lasso \"+str(R2Lasso))"
   ]
  },
  {
   "cell_type": "code",
   "execution_count": 69,
   "metadata": {},
   "outputs": [
    {
     "name": "stdout",
     "output_type": "stream",
     "text": [
      "0.5334177257190167\n"
     ]
    }
   ],
   "source": [
    "lrLasso= LinearRegression()\n",
    "lrLasso.fit(X_train_lasso,y_train)\n",
    "scoreLasso=lrLasso.score(X_test_lasso, y_test)\n",
    "predLasso=lrLasso.predict(X_test_lasso)\n",
    "print(scoreLasso)"
   ]
  },
  {
   "cell_type": "code",
   "execution_count": 70,
   "metadata": {},
   "outputs": [
    {
     "data": {
      "text/html": [
       "<div>\n",
       "<style scoped>\n",
       "    .dataframe tbody tr th:only-of-type {\n",
       "        vertical-align: middle;\n",
       "    }\n",
       "\n",
       "    .dataframe tbody tr th {\n",
       "        vertical-align: top;\n",
       "    }\n",
       "\n",
       "    .dataframe thead th {\n",
       "        text-align: right;\n",
       "    }\n",
       "</style>\n",
       "<table border=\"1\" class=\"dataframe\">\n",
       "  <thead>\n",
       "    <tr style=\"text-align: right;\">\n",
       "      <th></th>\n",
       "      <th>0</th>\n",
       "      <th>1</th>\n",
       "    </tr>\n",
       "  </thead>\n",
       "  <tbody>\n",
       "    <tr>\n",
       "      <th>0</th>\n",
       "      <td>111.885315</td>\n",
       "      <td>91.0</td>\n",
       "    </tr>\n",
       "    <tr>\n",
       "      <th>1</th>\n",
       "      <td>136.016131</td>\n",
       "      <td>111.0</td>\n",
       "    </tr>\n",
       "    <tr>\n",
       "      <th>2</th>\n",
       "      <td>147.369741</td>\n",
       "      <td>81.0</td>\n",
       "    </tr>\n",
       "    <tr>\n",
       "      <th>3</th>\n",
       "      <td>111.775418</td>\n",
       "      <td>214.0</td>\n",
       "    </tr>\n",
       "    <tr>\n",
       "      <th>4</th>\n",
       "      <td>196.177641</td>\n",
       "      <td>196.0</td>\n",
       "    </tr>\n",
       "  </tbody>\n",
       "</table>\n",
       "</div>"
      ],
      "text/plain": [
       "            0      1\n",
       "0  111.885315   91.0\n",
       "1  136.016131  111.0\n",
       "2  147.369741   81.0\n",
       "3  111.775418  214.0\n",
       "4  196.177641  196.0"
      ]
     },
     "execution_count": 70,
     "metadata": {},
     "output_type": "execute_result"
    }
   ],
   "source": [
    "arra=np.append(predLasso.reshape(len(y_test),1),y_test.reshape(len(y_test),1), axis=1)\n",
    "dfpredictlasso=pd.DataFrame(arra)\n",
    "dfpredictlasso.head()"
   ]
  },
  {
   "cell_type": "code",
   "execution_count": 71,
   "metadata": {},
   "outputs": [
    {
     "name": "stdout",
     "output_type": "stream",
     "text": [
      "{'PCA+OLS': 0.4188705779741969, 'OLS': 0.41887057797419625, 'Fwd': 0.5013245749350134, 'Ridge': 0.41366259061744115, 'lasso': 0.5334177257190167}\n"
     ]
    }
   ],
   "source": [
    "print(scoresTP)"
   ]
  },
  {
   "cell_type": "code",
   "execution_count": 72,
   "metadata": {},
   "outputs": [
    {
     "data": {
      "text/html": [
       "<div>\n",
       "<style scoped>\n",
       "    .dataframe tbody tr th:only-of-type {\n",
       "        vertical-align: middle;\n",
       "    }\n",
       "\n",
       "    .dataframe tbody tr th {\n",
       "        vertical-align: top;\n",
       "    }\n",
       "\n",
       "    .dataframe thead th {\n",
       "        text-align: right;\n",
       "    }\n",
       "</style>\n",
       "<table border=\"1\" class=\"dataframe\">\n",
       "  <thead>\n",
       "    <tr style=\"text-align: right;\">\n",
       "      <th></th>\n",
       "      <th>0</th>\n",
       "    </tr>\n",
       "  </thead>\n",
       "  <tbody>\n",
       "    <tr>\n",
       "      <th>PCA+OLS</th>\n",
       "      <td>0.418871</td>\n",
       "    </tr>\n",
       "    <tr>\n",
       "      <th>OLS</th>\n",
       "      <td>0.418871</td>\n",
       "    </tr>\n",
       "    <tr>\n",
       "      <th>Fwd</th>\n",
       "      <td>0.501325</td>\n",
       "    </tr>\n",
       "    <tr>\n",
       "      <th>Ridge</th>\n",
       "      <td>0.413663</td>\n",
       "    </tr>\n",
       "    <tr>\n",
       "      <th>lasso</th>\n",
       "      <td>0.533418</td>\n",
       "    </tr>\n",
       "  </tbody>\n",
       "</table>\n",
       "</div>"
      ],
      "text/plain": [
       "                0\n",
       "PCA+OLS  0.418871\n",
       "OLS      0.418871\n",
       "Fwd      0.501325\n",
       "Ridge    0.413663\n",
       "lasso    0.533418"
      ]
     },
     "execution_count": 72,
     "metadata": {},
     "output_type": "execute_result"
    }
   ],
   "source": [
    "pd.DataFrame.from_dict(scoresTP, orient='index')"
   ]
  },
  {
   "cell_type": "markdown",
   "metadata": {},
   "source": [
    "## 15) Ouverture"
   ]
  },
  {
   "cell_type": "markdown",
   "metadata": {},
   "source": [
    "Ici nous allons essayer plusieurs modèles non linéaires avec des paramètres différents et comparer le R2"
   ]
  },
  {
   "cell_type": "code",
   "execution_count": 73,
   "metadata": {},
   "outputs": [
    {
     "name": "stdout",
     "output_type": "stream",
     "text": [
      "0.12822875893822305\n"
     ]
    }
   ],
   "source": [
    "from sklearn import svm\n",
    "#print(y_train)\n",
    "clf = svm.SVR()\n",
    "clf.fit(X_train_lasso, y_train)\n",
    "R2SVM=clf.score(X_test_lasso,y_test)\n",
    "print(R2SVM)"
   ]
  },
  {
   "cell_type": "code",
   "execution_count": 74,
   "metadata": {},
   "outputs": [],
   "source": [
    "from sklearn.linear_model import ElasticNet\n",
    "\n",
    "regrEN = ElasticNet(random_state=0)\n",
    "regrEN.fit(X_train, y_train)\n",
    "R2EN=regrEN.score(X_train, y_train)\n",
    "scoresTP[\"ElasticNet\"]=R2EN"
   ]
  },
  {
   "cell_type": "code",
   "execution_count": 75,
   "metadata": {},
   "outputs": [
    {
     "data": {
      "text/html": [
       "<div>\n",
       "<style scoped>\n",
       "    .dataframe tbody tr th:only-of-type {\n",
       "        vertical-align: middle;\n",
       "    }\n",
       "\n",
       "    .dataframe tbody tr th {\n",
       "        vertical-align: top;\n",
       "    }\n",
       "\n",
       "    .dataframe thead th {\n",
       "        text-align: right;\n",
       "    }\n",
       "</style>\n",
       "<table border=\"1\" class=\"dataframe\">\n",
       "  <thead>\n",
       "    <tr style=\"text-align: right;\">\n",
       "      <th></th>\n",
       "      <th>0</th>\n",
       "    </tr>\n",
       "  </thead>\n",
       "  <tbody>\n",
       "    <tr>\n",
       "      <th>PCA+OLS</th>\n",
       "      <td>0.418871</td>\n",
       "    </tr>\n",
       "    <tr>\n",
       "      <th>OLS</th>\n",
       "      <td>0.418871</td>\n",
       "    </tr>\n",
       "    <tr>\n",
       "      <th>Fwd</th>\n",
       "      <td>0.501325</td>\n",
       "    </tr>\n",
       "    <tr>\n",
       "      <th>Ridge</th>\n",
       "      <td>0.413663</td>\n",
       "    </tr>\n",
       "    <tr>\n",
       "      <th>lasso</th>\n",
       "      <td>0.533418</td>\n",
       "    </tr>\n",
       "    <tr>\n",
       "      <th>ElasticNet</th>\n",
       "      <td>0.543933</td>\n",
       "    </tr>\n",
       "  </tbody>\n",
       "</table>\n",
       "</div>"
      ],
      "text/plain": [
       "                   0\n",
       "PCA+OLS     0.418871\n",
       "OLS         0.418871\n",
       "Fwd         0.501325\n",
       "Ridge       0.413663\n",
       "lasso       0.533418\n",
       "ElasticNet  0.543933"
      ]
     },
     "execution_count": 75,
     "metadata": {},
     "output_type": "execute_result"
    }
   ],
   "source": [
    "pd.DataFrame.from_dict(scoresTP, orient='index')"
   ]
  },
  {
   "cell_type": "code",
   "execution_count": 76,
   "metadata": {},
   "outputs": [
    {
     "data": {
      "text/plain": [
       "0.5254011521686693"
      ]
     },
     "execution_count": 76,
     "metadata": {},
     "output_type": "execute_result"
    }
   ],
   "source": [
    "from sklearn.neural_network import MLPRegressor\n",
    "nn = MLPRegressor(solver='lbfgs', alpha=100, hidden_layer_sizes=(1, 10))\n",
    "nn.fit(X_train_lasso, y_train)\n",
    "nn.score(X_test_lasso,y_test)"
   ]
  },
  {
   "cell_type": "code",
   "execution_count": 77,
   "metadata": {},
   "outputs": [
    {
     "name": "stdout",
     "output_type": "stream",
     "text": [
      "Fitting 3 folds for each of 168 candidates, totalling 504 fits\n"
     ]
    },
    {
     "name": "stderr",
     "output_type": "stream",
     "text": [
      "[Parallel(n_jobs=1)]: Done 504 out of 504 | elapsed:   15.5s finished\n"
     ]
    },
    {
     "data": {
      "text/plain": [
       "MLPRegressor(activation='relu', alpha=1000, batch_size='auto', beta_1=0.9,\n",
       "       beta_2=0.999, early_stopping=False, epsilon=1e-08,\n",
       "       hidden_layer_sizes=(19,), learning_rate='constant',\n",
       "       learning_rate_init=0.001, max_iter=200, momentum=0.9,\n",
       "       nesterovs_momentum=True, power_t=0.5, random_state=None,\n",
       "       shuffle=True, solver='lbfgs', tol=0.0001, validation_fraction=0.1,\n",
       "       verbose=False, warm_start=False)"
      ]
     },
     "execution_count": 77,
     "metadata": {},
     "output_type": "execute_result"
    }
   ],
   "source": [
    "from sklearn.model_selection import GridSearchCV\n",
    "\n",
    "mlp=MLPRegressor(solver='lbfgs')\n",
    "param_grid = {\n",
    "    'hidden_layer_sizes': [\n",
    "     (1,),(2,),(3,),(4,),(5,),(6,),(7,),(8,),(9,),(10,),(11,), (12,),(13,),(14,),(15,),(16,),(17,),(18,),(19,),(20,),(21,)],\n",
    "    'alpha': [10**(5-x) for x in range(8)],\n",
    "             }\n",
    "GS = GridSearchCV(mlp, param_grid=param_grid, verbose=True)\n",
    "GS.fit(X_train_lasso, y_train)\n",
    "GS.best_estimator_"
   ]
  },
  {
   "cell_type": "code",
   "execution_count": 78,
   "metadata": {},
   "outputs": [],
   "source": [
    "R2MLP=GS.score(X_test_lasso,y_test)"
   ]
  },
  {
   "cell_type": "code",
   "execution_count": 79,
   "metadata": {},
   "outputs": [
    {
     "name": "stdout",
     "output_type": "stream",
     "text": [
      "R2 pour MLP 0.5209137567492294\n"
     ]
    }
   ],
   "source": [
    "scoresTP[\"MLP\"]=R2MLP\n",
    "print(\"R2 pour MLP \"+str(R2MLP))"
   ]
  },
  {
   "cell_type": "code",
   "execution_count": 80,
   "metadata": {},
   "outputs": [
    {
     "data": {
      "text/html": [
       "<div>\n",
       "<style scoped>\n",
       "    .dataframe tbody tr th:only-of-type {\n",
       "        vertical-align: middle;\n",
       "    }\n",
       "\n",
       "    .dataframe tbody tr th {\n",
       "        vertical-align: top;\n",
       "    }\n",
       "\n",
       "    .dataframe thead th {\n",
       "        text-align: right;\n",
       "    }\n",
       "</style>\n",
       "<table border=\"1\" class=\"dataframe\">\n",
       "  <thead>\n",
       "    <tr style=\"text-align: right;\">\n",
       "      <th></th>\n",
       "      <th>0</th>\n",
       "    </tr>\n",
       "  </thead>\n",
       "  <tbody>\n",
       "    <tr>\n",
       "      <th>PCA+OLS</th>\n",
       "      <td>0.418871</td>\n",
       "    </tr>\n",
       "    <tr>\n",
       "      <th>OLS</th>\n",
       "      <td>0.418871</td>\n",
       "    </tr>\n",
       "    <tr>\n",
       "      <th>Fwd</th>\n",
       "      <td>0.501325</td>\n",
       "    </tr>\n",
       "    <tr>\n",
       "      <th>Ridge</th>\n",
       "      <td>0.413663</td>\n",
       "    </tr>\n",
       "    <tr>\n",
       "      <th>lasso</th>\n",
       "      <td>0.533418</td>\n",
       "    </tr>\n",
       "    <tr>\n",
       "      <th>ElasticNet</th>\n",
       "      <td>0.543933</td>\n",
       "    </tr>\n",
       "    <tr>\n",
       "      <th>MLP</th>\n",
       "      <td>0.520914</td>\n",
       "    </tr>\n",
       "  </tbody>\n",
       "</table>\n",
       "</div>"
      ],
      "text/plain": [
       "                   0\n",
       "PCA+OLS     0.418871\n",
       "OLS         0.418871\n",
       "Fwd         0.501325\n",
       "Ridge       0.413663\n",
       "lasso       0.533418\n",
       "ElasticNet  0.543933\n",
       "MLP         0.520914"
      ]
     },
     "execution_count": 80,
     "metadata": {},
     "output_type": "execute_result"
    }
   ],
   "source": [
    "pd.DataFrame.from_dict(scoresTP, orient='index')"
   ]
  },
  {
   "cell_type": "code",
   "execution_count": null,
   "metadata": {},
   "outputs": [],
   "source": []
  },
  {
   "cell_type": "code",
   "execution_count": null,
   "metadata": {},
   "outputs": [],
   "source": []
  },
  {
   "cell_type": "code",
   "execution_count": null,
   "metadata": {},
   "outputs": [],
   "source": []
  },
  {
   "cell_type": "code",
   "execution_count": null,
   "metadata": {},
   "outputs": [],
   "source": []
  },
  {
   "cell_type": "code",
   "execution_count": null,
   "metadata": {},
   "outputs": [],
   "source": []
  },
  {
   "cell_type": "code",
   "execution_count": null,
   "metadata": {},
   "outputs": [],
   "source": []
  },
  {
   "cell_type": "code",
   "execution_count": null,
   "metadata": {},
   "outputs": [],
   "source": []
  },
  {
   "cell_type": "code",
   "execution_count": null,
   "metadata": {},
   "outputs": [],
   "source": []
  },
  {
   "cell_type": "code",
   "execution_count": null,
   "metadata": {},
   "outputs": [],
   "source": []
  },
  {
   "cell_type": "code",
   "execution_count": null,
   "metadata": {},
   "outputs": [],
   "source": []
  },
  {
   "cell_type": "code",
   "execution_count": null,
   "metadata": {},
   "outputs": [],
   "source": []
  }
 ],
 "metadata": {
  "kernelspec": {
   "display_name": "Python 3",
   "language": "python",
   "name": "python3"
  },
  "language_info": {
   "codemirror_mode": {
    "name": "ipython",
    "version": 3
   },
   "file_extension": ".py",
   "mimetype": "text/x-python",
   "name": "python",
   "nbconvert_exporter": "python",
   "pygments_lexer": "ipython3",
   "version": "3.6.5"
  }
 },
 "nbformat": 4,
 "nbformat_minor": 2
}
