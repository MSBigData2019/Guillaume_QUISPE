{
 "cells": [
  {
   "cell_type": "markdown",
   "metadata": {},
   "source": [
    "# Egerie pour pub de yaourt\n",
    "\n",
    "Hallyday ou Doré\n",
    "données web= css html javascript\n",
    "protocole http code status + verb"
   ]
  },
  {
   "cell_type": "code",
   "execution_count": 20,
   "metadata": {},
   "outputs": [
    {
     "name": "stdout",
     "output_type": "stream",
     "text": [
      "http://www.purepeople.com/article/jean-luc-melenchon-irrespectueux-les-enfants-d-au-tableau-le-taclent_a257578/1\n",
      "http://www.purepeople.com/article/jeremstar-marie-a-lui-meme-decouvrez-sa-robe-de-mariee-et-les-preparatifs_a254977/1\n",
      "http://www.purepeople.com/article/raquel-garrido-femme-determinee-et-soutenue-par-son-compagnon-alexis-corbiere_a249412/1\n",
      "http://www.purepeople.com/article/vincent-cerutti-devoile-une-photo-de-sa-cherie-hapsatou-sy-prise-a-son-insu_a244042/1\n",
      "http://www.purepeople.com/article/alain-delon-et-valerie-trierweiler-reunion-complice-au-restaurant_a243985/1\n",
      "http://www.purepeople.com/article/natacha-polony-hapsatou-sy-haroun-les-nouvelles-recrues-de-thierry-ardisson_a243841/1\n",
      "http://www.purepeople.com/article/mort-de-simone-veil-les-hommages-de-macron-trierweiler-royal_a241774/1\n",
      "http://www.purepeople.com/article/legislatives-2017-un-realisateur-cesarise-a-ete-elu-depute_a240304/1\n",
      "http://www.purepeople.com/article/brigitte-macron-chic-en-jean-slim-et-sourire-eclatant-avec-emmanuel_a239236/1\n",
      "http://www.purepeople.com/article/pamela-anderson-meconnaissable-a-cannes-son-look-surprend_a236311/1\n",
      "373.5\n"
     ]
    }
   ],
   "source": [
    "from bs4 import BeautifulSoup\n",
    "import requests\n",
    "import numpy as np\n",
    "\n",
    "def _convert_string_to_int(string):\n",
    "  if \"K\" in string:\n",
    "    string = string.strip()[:-1]\n",
    "    return float(string.replace(',','.'))*1000\n",
    "  else:\n",
    "    return int(string.strip())\n",
    "\n",
    "website_prefix = \"http://www.purepeople.com\"\n",
    "specificclass= \"c-article-flux__title\"\n",
    "r = requests.post(url = website_prefix+\"/rechercher\", data = {'q':\"melenchon\"})\n",
    "htmldoc=r.text\n",
    "soup = BeautifulSoup(htmldoc, 'html.parser')\n",
    "all=map(lambda x: x.attrs['href'], soup.findAll(\"a\", class_=specificclass))\n",
    "result=[]\n",
    "\n",
    "for url in all:\n",
    "    print(website_prefix+url)\n",
    "    article=requests.get(website_prefix+url)\n",
    "    articletext= article.text\n",
    "    articlesoup=BeautifulSoup(articletext, 'html.parser')\n",
    "    sharecount = articlesoup.find(\"span\", class_= \"c-sharebox__stats-number\").text\n",
    "    result.append(_convert_string_to_int(sharecount))\n",
    "    print(np.mean(result))\n",
    "\n"
   ]
  },
  {
   "cell_type": "code",
   "execution_count": null,
   "metadata": {},
   "outputs": [],
   "source": []
  },
  {
   "cell_type": "code",
   "execution_count": null,
   "metadata": {},
   "outputs": [],
   "source": []
  }
 ],
 "metadata": {
  "kernelspec": {
   "display_name": "Python 3",
   "language": "python",
   "name": "python3"
  },
  "language_info": {
   "codemirror_mode": {
    "name": "ipython",
    "version": 3
   },
   "file_extension": ".py",
   "mimetype": "text/x-python",
   "name": "python",
   "nbconvert_exporter": "python",
   "pygments_lexer": "ipython3",
   "version": "3.6.5"
  }
 },
 "nbformat": 4,
 "nbformat_minor": 2
}
