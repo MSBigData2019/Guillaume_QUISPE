{
 "cells": [
  {
   "cell_type": "markdown",
   "metadata": {},
   "source": [
    "# MNIST: Attaque d'un modèle simple avec FGSM"
   ]
  },
  {
   "cell_type": "markdown",
   "metadata": {},
   "source": [
    "Le but de ce notebook est d'étudier les paramètres propres à l'attaque et défense:\n",
    "<table>\n",
    "    <thead><tr>\n",
    "        <td>Attaque</td>\n",
    "        <td>Réseau</td>\n",
    "        <td>Dataset</td>\n",
    "        <td>Targeted/Untargeted</td>\n",
    "        <td>Perturbation</td>\n",
    "        <td>Statut</td></tr>\n",
    "    </thead>\n",
    "    <tr>\n",
    "        <td>FGSM</td>\n",
    "        <td>Simple</td>\n",
    "        <td>MNIST</td>\n",
    "        <td>Untargeted</td>\n",
    "        <td>Non controlée</td>\n",
    "        <td>OK</td></tr>\n",
    "    <tr>\n",
    "        <td>FGSM</td>\n",
    "        <td>Simple</td>\n",
    "        <td>MNIST</td>\n",
    "        <td>Untargeted</td>\n",
    "        <td>Controlée</td>\n",
    "        <td>OK</td></tr>\n",
    "    </table>"
   ]
  },
  {
   "cell_type": "code",
   "execution_count": 1,
   "metadata": {},
   "outputs": [
    {
     "name": "stderr",
     "output_type": "stream",
     "text": [
      "/anaconda3/lib/python3.6/site-packages/h5py/__init__.py:36: FutureWarning: Conversion of the second argument of issubdtype from `float` to `np.floating` is deprecated. In future, it will be treated as `np.float64 == np.dtype(float).type`.\n",
      "  from ._conv import register_converters as _register_converters\n",
      "Using TensorFlow backend.\n"
     ]
    }
   ],
   "source": [
    "import foolbox\n",
    "import keras\n",
    "import numpy as np\n",
    "from keras.applications.resnet50 import ResNet50\n",
    "import pandas as pd\n",
    "from keras.datasets import mnist\n",
    "import matplotlib.pyplot as plt\n",
    "%matplotlib inline\n",
    "from keras.models import load_model\n",
    "import numpy\n",
    "from keras.datasets import mnist\n",
    "from keras.models import Sequential\n",
    "from keras.layers import Dense\n",
    "from keras.layers import Dropout\n",
    "from keras.utils import np_utils\n"
   ]
  },
  {
   "cell_type": "code",
   "execution_count": 2,
   "metadata": {},
   "outputs": [],
   "source": [
    "def plotAdvOri(original,adversarial):\n",
    "\n",
    "    plt.figure()\n",
    "\n",
    "    plt.subplot(1, 3, 1)\n",
    "    plt.title('Original')\n",
    "    plt.imshow(original)  # division by 255 to convert [0, 255] to [0, 1]\n",
    "    plt.axis('off')\n",
    "\n",
    "    plt.subplot(1, 3, 2)\n",
    "    plt.title('Adversarial')\n",
    "    plt.imshow(adversarial )  # ::-1 to convert BGR to RGB\n",
    "    plt.axis('off')\n",
    "\n",
    "    plt.subplot(1, 3, 3)\n",
    "    plt.title('Difference')\n",
    "    difference = adversarial- original\n",
    "    plt.imshow(difference / abs(difference).max() * 0.2 + 0.5)\n",
    "    plt.axis('off')\n",
    "\n",
    "    plt.show()\n",
    "\n",
    "#plotAdvOri(image/255,adversarial[:, :, ::-1]/255)"
   ]
  },
  {
   "cell_type": "code",
   "execution_count": 3,
   "metadata": {},
   "outputs": [
    {
     "data": {
      "image/png": "[encoded data removed]",
      "text/plain": [
       "<Figure size 432x288 with 4 Axes>"
      ]
     },
     "metadata": {},
     "output_type": "display_data"
    }
   ],
   "source": [
    "# load (downloaded if needed) the MNIST dataset\n",
    "(X_train, y_train), (X_test, y_test) = mnist.load_data()\n",
    "# plot 4 images as gray scale\n",
    "plt.subplot(221)\n",
    "plt.imshow(X_train[0], cmap=plt.get_cmap('gray'))\n",
    "plt.subplot(222)\n",
    "plt.imshow(X_train[1], cmap=plt.get_cmap('gray'))\n",
    "plt.subplot(223)\n",
    "plt.imshow(X_train[2], cmap=plt.get_cmap('gray'))\n",
    "plt.subplot(224)\n",
    "plt.imshow(X_train[3], cmap=plt.get_cmap('gray'))\n",
    "# show the plot\n",
    "plt.show()"
   ]
  },
  {
   "cell_type": "code",
   "execution_count": 4,
   "metadata": {},
   "outputs": [],
   "source": [
    "# fix random seed for reproducibility\n",
    "#seed = 7\n",
    "#numpy.random.seed(seed)\n"
   ]
  },
  {
   "cell_type": "code",
   "execution_count": 5,
   "metadata": {},
   "outputs": [],
   "source": [
    "(X_train, y_train), (X_test, y_test) = mnist.load_data()"
   ]
  },
  {
   "cell_type": "code",
   "execution_count": 6,
   "metadata": {},
   "outputs": [],
   "source": [
    "num_pixels = X_train.shape[1] * X_train.shape[2]\n",
    "X_trainF = X_train.reshape(X_train.shape[0], num_pixels).astype('float32')\n",
    "X_testF = X_test.reshape(X_test.shape[0], num_pixels).astype('float32')"
   ]
  },
  {
   "cell_type": "code",
   "execution_count": 7,
   "metadata": {},
   "outputs": [],
   "source": [
    "X_trainF = X_trainF / 255\n",
    "X_testF = X_testF / 255"
   ]
  },
  {
   "cell_type": "code",
   "execution_count": 8,
   "metadata": {},
   "outputs": [],
   "source": [
    "# one hot encode outputs\n",
    "y_trainF = np_utils.to_categorical(y_train)\n",
    "y_testF = np_utils.to_categorical(y_test)\n",
    "num_classes = y_testF.shape[1]"
   ]
  },
  {
   "cell_type": "code",
   "execution_count": 9,
   "metadata": {},
   "outputs": [],
   "source": [
    "def baseline_model():\n",
    "    # create model\n",
    "    model = Sequential()\n",
    "    model.add(Dense(num_pixels, input_dim=num_pixels, kernel_initializer='normal', activation='relu'))\n",
    "    model.add(Dense(num_classes, kernel_initializer='normal', activation='softmax'))\n",
    "    # Compile model\n",
    "    model.compile(loss='categorical_crossentropy', optimizer='adam', metrics=['accuracy'])\n",
    "    return model"
   ]
  },
  {
   "cell_type": "code",
   "execution_count": 10,
   "metadata": {},
   "outputs": [
    {
     "name": "stdout",
     "output_type": "stream",
     "text": [
      "(28, 28)\n"
     ]
    }
   ],
   "source": [
    "print(X_train[0].shape)"
   ]
  },
  {
   "cell_type": "code",
   "execution_count": 11,
   "metadata": {
    "scrolled": true
   },
   "outputs": [
    {
     "name": "stdout",
     "output_type": "stream",
     "text": [
      "Train on 60000 samples, validate on 10000 samples\n",
      "Epoch 1/10\n",
      " - 3s - loss: 0.2797 - acc: 0.9202 - val_loss: 0.1436 - val_acc: 0.9577\n",
      "Epoch 2/10\n",
      " - 3s - loss: 0.1084 - acc: 0.9686 - val_loss: 0.0909 - val_acc: 0.9720\n",
      "Epoch 3/10\n",
      " - 3s - loss: 0.0706 - acc: 0.9795 - val_loss: 0.0834 - val_acc: 0.9736\n",
      "Epoch 4/10\n",
      " - 3s - loss: 0.0494 - acc: 0.9860 - val_loss: 0.0678 - val_acc: 0.9786\n",
      "Epoch 5/10\n",
      " - 3s - loss: 0.0348 - acc: 0.9904 - val_loss: 0.0669 - val_acc: 0.9794\n",
      "Epoch 6/10\n",
      " - 3s - loss: 0.0262 - acc: 0.9928 - val_loss: 0.0593 - val_acc: 0.9813\n",
      "Epoch 7/10\n",
      " - 4s - loss: 0.0194 - acc: 0.9952 - val_loss: 0.0852 - val_acc: 0.9739\n",
      "Epoch 8/10\n",
      " - 3s - loss: 0.0136 - acc: 0.9973 - val_loss: 0.0608 - val_acc: 0.9807\n",
      "Epoch 9/10\n",
      " - 3s - loss: 0.0106 - acc: 0.9979 - val_loss: 0.0578 - val_acc: 0.9825\n",
      "Epoch 10/10\n",
      " - 3s - loss: 0.0089 - acc: 0.9981 - val_loss: 0.0624 - val_acc: 0.9802\n",
      "Baseline Error: 1.98%\n"
     ]
    }
   ],
   "source": [
    "model = baseline_model()\n",
    "# Fit the model\n",
    "model.fit(X_trainF, y_trainF, validation_data=(X_testF, y_testF), epochs=10, batch_size=200, verbose=2)\n",
    "# Final evaluation of the model\n",
    "scores = model.evaluate(X_testF, y_testF, verbose=0)\n",
    "print(\"Baseline Error: %.2f%%\" % (100-scores[1]*100))"
   ]
  },
  {
   "cell_type": "code",
   "execution_count": 12,
   "metadata": {},
   "outputs": [],
   "source": [
    "model.save('my_model.h5')\n",
    "#model = load_model('my_model.h5')"
   ]
  },
  {
   "cell_type": "code",
   "execution_count": 13,
   "metadata": {},
   "outputs": [
    {
     "data": {
      "text/html": [
       "<div>\n",
       "<style scoped>\n",
       "    .dataframe tbody tr th:only-of-type {\n",
       "        vertical-align: middle;\n",
       "    }\n",
       "\n",
       "    .dataframe tbody tr th {\n",
       "        vertical-align: top;\n",
       "    }\n",
       "\n",
       "    .dataframe thead th {\n",
       "        text-align: right;\n",
       "    }\n",
       "</style>\n",
       "<table border=\"1\" class=\"dataframe\">\n",
       "  <thead>\n",
       "    <tr style=\"text-align: right;\">\n",
       "      <th></th>\n",
       "      <th>0</th>\n",
       "      <th>1</th>\n",
       "      <th>2</th>\n",
       "      <th>3</th>\n",
       "      <th>4</th>\n",
       "      <th>5</th>\n",
       "      <th>6</th>\n",
       "      <th>7</th>\n",
       "      <th>8</th>\n",
       "      <th>9</th>\n",
       "    </tr>\n",
       "  </thead>\n",
       "  <tbody>\n",
       "    <tr>\n",
       "      <th>0</th>\n",
       "      <td>0.0</td>\n",
       "      <td>0.0</td>\n",
       "      <td>0.0</td>\n",
       "      <td>0.0</td>\n",
       "      <td>0.0</td>\n",
       "      <td>1.0</td>\n",
       "      <td>0.0</td>\n",
       "      <td>0.0</td>\n",
       "      <td>0.0</td>\n",
       "      <td>0.0</td>\n",
       "    </tr>\n",
       "    <tr>\n",
       "      <th>1</th>\n",
       "      <td>1.0</td>\n",
       "      <td>0.0</td>\n",
       "      <td>0.0</td>\n",
       "      <td>0.0</td>\n",
       "      <td>0.0</td>\n",
       "      <td>0.0</td>\n",
       "      <td>0.0</td>\n",
       "      <td>0.0</td>\n",
       "      <td>0.0</td>\n",
       "      <td>0.0</td>\n",
       "    </tr>\n",
       "    <tr>\n",
       "      <th>2</th>\n",
       "      <td>0.0</td>\n",
       "      <td>0.0</td>\n",
       "      <td>0.0</td>\n",
       "      <td>0.0</td>\n",
       "      <td>1.0</td>\n",
       "      <td>0.0</td>\n",
       "      <td>0.0</td>\n",
       "      <td>0.0</td>\n",
       "      <td>0.0</td>\n",
       "      <td>0.0</td>\n",
       "    </tr>\n",
       "    <tr>\n",
       "      <th>3</th>\n",
       "      <td>0.0</td>\n",
       "      <td>1.0</td>\n",
       "      <td>0.0</td>\n",
       "      <td>0.0</td>\n",
       "      <td>0.0</td>\n",
       "      <td>0.0</td>\n",
       "      <td>0.0</td>\n",
       "      <td>0.0</td>\n",
       "      <td>0.0</td>\n",
       "      <td>0.0</td>\n",
       "    </tr>\n",
       "    <tr>\n",
       "      <th>4</th>\n",
       "      <td>0.0</td>\n",
       "      <td>0.0</td>\n",
       "      <td>0.0</td>\n",
       "      <td>0.0</td>\n",
       "      <td>0.0</td>\n",
       "      <td>0.0</td>\n",
       "      <td>0.0</td>\n",
       "      <td>0.0</td>\n",
       "      <td>0.0</td>\n",
       "      <td>1.0</td>\n",
       "    </tr>\n",
       "    <tr>\n",
       "      <th>5</th>\n",
       "      <td>0.0</td>\n",
       "      <td>0.0</td>\n",
       "      <td>1.0</td>\n",
       "      <td>0.0</td>\n",
       "      <td>0.0</td>\n",
       "      <td>0.0</td>\n",
       "      <td>0.0</td>\n",
       "      <td>0.0</td>\n",
       "      <td>0.0</td>\n",
       "      <td>0.0</td>\n",
       "    </tr>\n",
       "    <tr>\n",
       "      <th>6</th>\n",
       "      <td>0.0</td>\n",
       "      <td>1.0</td>\n",
       "      <td>0.0</td>\n",
       "      <td>0.0</td>\n",
       "      <td>0.0</td>\n",
       "      <td>0.0</td>\n",
       "      <td>0.0</td>\n",
       "      <td>0.0</td>\n",
       "      <td>0.0</td>\n",
       "      <td>0.0</td>\n",
       "    </tr>\n",
       "    <tr>\n",
       "      <th>7</th>\n",
       "      <td>0.0</td>\n",
       "      <td>0.0</td>\n",
       "      <td>0.0</td>\n",
       "      <td>1.0</td>\n",
       "      <td>0.0</td>\n",
       "      <td>0.0</td>\n",
       "      <td>0.0</td>\n",
       "      <td>0.0</td>\n",
       "      <td>0.0</td>\n",
       "      <td>0.0</td>\n",
       "    </tr>\n",
       "    <tr>\n",
       "      <th>8</th>\n",
       "      <td>0.0</td>\n",
       "      <td>1.0</td>\n",
       "      <td>0.0</td>\n",
       "      <td>0.0</td>\n",
       "      <td>0.0</td>\n",
       "      <td>0.0</td>\n",
       "      <td>0.0</td>\n",
       "      <td>0.0</td>\n",
       "      <td>0.0</td>\n",
       "      <td>0.0</td>\n",
       "    </tr>\n",
       "    <tr>\n",
       "      <th>9</th>\n",
       "      <td>0.0</td>\n",
       "      <td>0.0</td>\n",
       "      <td>0.0</td>\n",
       "      <td>0.0</td>\n",
       "      <td>1.0</td>\n",
       "      <td>0.0</td>\n",
       "      <td>0.0</td>\n",
       "      <td>0.0</td>\n",
       "      <td>0.0</td>\n",
       "      <td>0.0</td>\n",
       "    </tr>\n",
       "    <tr>\n",
       "      <th>10</th>\n",
       "      <td>0.0</td>\n",
       "      <td>0.0</td>\n",
       "      <td>0.0</td>\n",
       "      <td>1.0</td>\n",
       "      <td>0.0</td>\n",
       "      <td>0.0</td>\n",
       "      <td>0.0</td>\n",
       "      <td>0.0</td>\n",
       "      <td>0.0</td>\n",
       "      <td>0.0</td>\n",
       "    </tr>\n",
       "    <tr>\n",
       "      <th>11</th>\n",
       "      <td>0.0</td>\n",
       "      <td>0.0</td>\n",
       "      <td>0.0</td>\n",
       "      <td>0.0</td>\n",
       "      <td>0.0</td>\n",
       "      <td>1.0</td>\n",
       "      <td>0.0</td>\n",
       "      <td>0.0</td>\n",
       "      <td>0.0</td>\n",
       "      <td>0.0</td>\n",
       "    </tr>\n",
       "  </tbody>\n",
       "</table>\n",
       "</div>"
      ],
      "text/plain": [
       "      0    1    2    3    4    5    6    7    8    9\n",
       "0   0.0  0.0  0.0  0.0  0.0  1.0  0.0  0.0  0.0  0.0\n",
       "1   1.0  0.0  0.0  0.0  0.0  0.0  0.0  0.0  0.0  0.0\n",
       "2   0.0  0.0  0.0  0.0  1.0  0.0  0.0  0.0  0.0  0.0\n",
       "3   0.0  1.0  0.0  0.0  0.0  0.0  0.0  0.0  0.0  0.0\n",
       "4   0.0  0.0  0.0  0.0  0.0  0.0  0.0  0.0  0.0  1.0\n",
       "5   0.0  0.0  1.0  0.0  0.0  0.0  0.0  0.0  0.0  0.0\n",
       "6   0.0  1.0  0.0  0.0  0.0  0.0  0.0  0.0  0.0  0.0\n",
       "7   0.0  0.0  0.0  1.0  0.0  0.0  0.0  0.0  0.0  0.0\n",
       "8   0.0  1.0  0.0  0.0  0.0  0.0  0.0  0.0  0.0  0.0\n",
       "9   0.0  0.0  0.0  0.0  1.0  0.0  0.0  0.0  0.0  0.0\n",
       "10  0.0  0.0  0.0  1.0  0.0  0.0  0.0  0.0  0.0  0.0\n",
       "11  0.0  0.0  0.0  0.0  0.0  1.0  0.0  0.0  0.0  0.0"
      ]
     },
     "execution_count": 13,
     "metadata": {},
     "output_type": "execute_result"
    }
   ],
   "source": [
    "df= pd.DataFrame(y_trainF)\n",
    "df.head(12)"
   ]
  },
  {
   "cell_type": "code",
   "execution_count": 14,
   "metadata": {},
   "outputs": [
    {
     "data": {
      "text/plain": [
       "(10000, 784)"
      ]
     },
     "execution_count": 14,
     "metadata": {},
     "output_type": "execute_result"
    }
   ],
   "source": [
    "X_testF.shape\n"
   ]
  },
  {
   "cell_type": "code",
   "execution_count": 15,
   "metadata": {},
   "outputs": [],
   "source": [
    "#_,(images, labels) = mnist.load_data()\n",
    "images = X_test.reshape(10000,28,28,1)\n",
    "images= images.astype('float32')\n",
    "images /= 255\n",
    "labels=y_test"
   ]
  },
  {
   "cell_type": "code",
   "execution_count": 16,
   "metadata": {
    "scrolled": true
   },
   "outputs": [
    {
     "name": "stdout",
     "output_type": "stream",
     "text": [
      "(28, 28)\n"
     ]
    },
    {
     "data": {
      "image/png": "[encoded data removed]",
      "text/plain": [
       "<Figure size 432x288 with 1 Axes>"
      ]
     },
     "metadata": {},
     "output_type": "display_data"
    }
   ],
   "source": [
    "print(X_train[1].shape)\n",
    "plt.imshow(X_trainF[0].reshape(28,28))\n",
    "plt.imshow(X_trainF[1].reshape(28,28))\n",
    "plt.show()"
   ]
  },
  {
   "cell_type": "code",
   "execution_count": 17,
   "metadata": {},
   "outputs": [
    {
     "name": "stdout",
     "output_type": "stream",
     "text": [
      "(28, 28, 1)\n",
      "0\n"
     ]
    }
   ],
   "source": [
    "print(images[1].shape)\n",
    "print(y_train[1])\n",
    "gmodel = foolbox.models.KerasModel(model, bounds=(0, 1))\n"
   ]
  },
  {
   "cell_type": "code",
   "execution_count": 18,
   "metadata": {},
   "outputs": [],
   "source": [
    "attackM = foolbox.attacks.FGSM(gmodel)\n",
    "adversarialM = attackM(images[0].reshape(784), labels[0])"
   ]
  },
  {
   "cell_type": "code",
   "execution_count": 19,
   "metadata": {
    "scrolled": true
   },
   "outputs": [
    {
     "data": {
      "image/png": "[encoded data removed]",
      "text/plain": [
       "<Figure size 432x288 with 3 Axes>"
      ]
     },
     "metadata": {},
     "output_type": "display_data"
    }
   ],
   "source": [
    "plotAdvOri(images[0].reshape(28,28),adversarialM.reshape(28,28))"
   ]
  },
  {
   "cell_type": "code",
   "execution_count": 20,
   "metadata": {},
   "outputs": [],
   "source": [
    "adversarialMM =adversarialM.reshape(1,784)\n"
   ]
  },
  {
   "cell_type": "code",
   "execution_count": 21,
   "metadata": {},
   "outputs": [
    {
     "data": {
      "image/png": "[encoded data removed]",
      "text/plain": [
       "<Figure size 432x288 with 1 Axes>"
      ]
     },
     "metadata": {},
     "output_type": "display_data"
    }
   ],
   "source": [
    " #reshaping it for model prediction\n",
    "model_predictions_original = model.predict(images[0].reshape(1,784))\n",
    "model_predictions_adversarial = model.predict(adversarialMM)\n",
    "#print(model_predictions_adversarial)\n",
    "\n",
    "plt.scatter(np.arange(10), np.log(model_predictions_original), label=\"original\")\n",
    "plt.scatter(np.arange(10), np.log(model_predictions_adversarial), label=\"adversarial\")\n",
    "plt.legend()\n",
    "plt.title(\"log Probabilities for each class on original and adversarial\")\n",
    "plt.show()"
   ]
  },
  {
   "cell_type": "markdown",
   "metadata": {},
   "source": [
    "On voit ici que pour l'original la prediction était 7 qui correspondait bien à l'image. La deuxième plus forte probabilité pour l'original est 3. Le FGSM a donc permis d'augmenter cette deuxième probabilité pour qu'elle surpasse (tout juste) la probabilité que l'adversarial soit un 7."
   ]
  },
  {
   "cell_type": "code",
   "execution_count": 22,
   "metadata": {},
   "outputs": [
    {
     "name": "stdout",
     "output_type": "stream",
     "text": [
      "from 7 to [3]\n"
     ]
    }
   ],
   "source": [
    "model_prediction_class = model.predict_classes(adversarialMM)\n",
    "print(\"from {} to {}\".format(str(labels[0]),str(model_prediction_class)))"
   ]
  },
  {
   "cell_type": "code",
   "execution_count": 23,
   "metadata": {},
   "outputs": [
    {
     "name": "stdout",
     "output_type": "stream",
     "text": [
      "Compare original image and adversarial L2: 1.10088050365448 L0: 495.0\n"
     ]
    }
   ],
   "source": [
    "diff=images[0].reshape(784)-adversarialM\n",
    "dist = np.linalg.norm(diff)\n",
    "print(\"Compare original image and adversarial L2: {} L0: {}\".format(np.linalg.norm(diff), np.linalg.norm(diff, ord=0)))"
   ]
  },
  {
   "cell_type": "code",
   "execution_count": 24,
   "metadata": {},
   "outputs": [
    {
     "name": "stdout",
     "output_type": "stream",
     "text": [
      "Compare image 0 (7) and 1 (2) L2: 11.268815994262695 L0: 243.0\n"
     ]
    }
   ],
   "source": [
    "dist2 = np.linalg.norm(images[0].reshape(784)-images[1].reshape(784))\n",
    "diff2=images[0].reshape(784)-images[1].reshape(784)\n",
    "#print(dist2)\n",
    "print(\"Compare image 0 (7) and 1 (2) L2: {} L0: {}\".format(np.linalg.norm(diff2), np.linalg.norm(diff2, ord=0)))"
   ]
  },
  {
   "cell_type": "markdown",
   "metadata": {},
   "source": [
    "On voit ici que pour le fgsm L2 est plus judicieux par rapport à L0"
   ]
  },
  {
   "cell_type": "code",
   "execution_count": 25,
   "metadata": {},
   "outputs": [
    {
     "data": {
      "text/plain": [
       "<matplotlib.image.AxesImage at 0x1327a8b7b8>"
      ]
     },
     "execution_count": 25,
     "metadata": {},
     "output_type": "execute_result"
    },
    {
     "data": {
      "image/png": "[encoded data removed]",
      "text/plain": [
       "<Figure size 432x288 with 2 Axes>"
      ]
     },
     "metadata": {},
     "output_type": "display_data"
    }
   ],
   "source": [
    "plt.subplot(121)\n",
    "plt.imshow(images[0].reshape(28,28))\n",
    "plt.subplot(122)\n",
    "plt.imshow(images[1].reshape(28,28))"
   ]
  },
  {
   "cell_type": "code",
   "execution_count": 62,
   "metadata": {},
   "outputs": [],
   "source": [
    "class imgAttack():\n",
    "    def __init__(self, model):\n",
    "        self.img_original = None\n",
    "        self.img_adversarial = None\n",
    "        self.prediction_class_original=None\n",
    "        self.prediction_class_adversarial=None\n",
    "        self.predictions_original=None\n",
    "        self.predictions_adversarial=None\n",
    "        self.diff=None\n",
    "        self.dist=None\n",
    "        self.model=model\n",
    "    def fill(self, img_original,img_adversarial):\n",
    "        self.prediction_class_original=self.model.predict_classes(img_original.reshape(1,784))\n",
    "        self.prediction_class_adversarial=self.model.predict_classes(img_adversarial.reshape(1,784))\n",
    "        self.predictions_original=self.model.predict(img_original.reshape(1,784))\n",
    "        self.predictions_adversarial=self.model.predict(img_adversarial.reshape(1,784))\n",
    "        self.diff=img_original.reshape(784)-img_adversarial\n",
    "        self.dist= np.linalg.norm(diff)\n",
    "        self.img_original=img_original\n",
    "        self.img_adversarial=img_adversarial\n",
    "        \n",
    "\n"
   ]
  },
  {
   "cell_type": "code",
   "execution_count": 63,
   "metadata": {},
   "outputs": [],
   "source": [
    "adv_X_test=[]\n",
    "imgAttacks=[]"
   ]
  },
  {
   "cell_type": "code",
   "execution_count": 64,
   "metadata": {},
   "outputs": [
    {
     "name": "stderr",
     "output_type": "stream",
     "text": [
      "/anaconda3/lib/python3.6/site-packages/foolbox/attacks/base.py:129: UserWarning: Not running the attack because the original input is already misclassified and the adversarial thus has a distance of 0.\n",
      "  warnings.warn('Not running the attack because the original input'\n"
     ]
    }
   ],
   "source": [
    "\n",
    "for img, label in zip(images.reshape(10000, 784), labels):\n",
    "    adversarialM = attackM(img, label)\n",
    "    imgAttack1=imgAttack(model)\n",
    "    imgAttack1.fill(img,adversarialM)\n",
    "    imgAttacks.append(imgAttack1)"
   ]
  },
  {
   "cell_type": "code",
   "execution_count": null,
   "metadata": {},
   "outputs": [],
   "source": []
  },
  {
   "cell_type": "code",
   "execution_count": 90,
   "metadata": {},
   "outputs": [
    {
     "data": {
      "text/html": [
       "<div>\n",
       "<style scoped>\n",
       "    .dataframe tbody tr th:only-of-type {\n",
       "        vertical-align: middle;\n",
       "    }\n",
       "\n",
       "    .dataframe tbody tr th {\n",
       "        vertical-align: top;\n",
       "    }\n",
       "\n",
       "    .dataframe thead th {\n",
       "        text-align: right;\n",
       "    }\n",
       "</style>\n",
       "<table border=\"1\" class=\"dataframe\">\n",
       "  <thead>\n",
       "    <tr style=\"text-align: right;\">\n",
       "      <th></th>\n",
       "      <th>diff</th>\n",
       "      <th>dist</th>\n",
       "      <th>img_adversarial</th>\n",
       "      <th>img_original</th>\n",
       "      <th>model</th>\n",
       "      <th>prediction_class_adversarial</th>\n",
       "      <th>prediction_class_original</th>\n",
       "      <th>predictions_adversarial</th>\n",
       "      <th>predictions_original</th>\n",
       "    </tr>\n",
       "  </thead>\n",
       "  <tbody>\n",
       "    <tr>\n",
       "      <th>0</th>\n",
       "      <td>[-0.05, -0.05, -0.05, -0.05, 0.0, 0.0, -0.05, ...</td>\n",
       "      <td>2.178828</td>\n",
       "      <td>[0.05, 0.05, 0.05, 0.05, 0.0, 0.0, 0.05, 0.0, ...</td>\n",
       "      <td>[0.0, 0.0, 0.0, 0.0, 0.0, 0.0, 0.0, 0.0, 0.0, ...</td>\n",
       "      <td>&lt;keras.engine.sequential.Sequential object at ...</td>\n",
       "      <td>[3]</td>\n",
       "      <td>[7]</td>\n",
       "      <td>[[5.5026154e-05, 4.803903e-07, 0.00044326746, ...</td>\n",
       "      <td>[[6.241464e-08, 5.1091437e-10, 6.8234435e-08, ...</td>\n",
       "    </tr>\n",
       "    <tr>\n",
       "      <th>1</th>\n",
       "      <td>[-0.088, 0.0, -0.088, -0.088, -0.088, 0.0, 0.0...</td>\n",
       "      <td>2.178828</td>\n",
       "      <td>[0.088, 0.0, 0.088, 0.088, 0.088, 0.0, 0.0, 0....</td>\n",
       "      <td>[0.0, 0.0, 0.0, 0.0, 0.0, 0.0, 0.0, 0.0, 0.0, ...</td>\n",
       "      <td>&lt;keras.engine.sequential.Sequential object at ...</td>\n",
       "      <td>[1]</td>\n",
       "      <td>[2]</td>\n",
       "      <td>[[1.4165728e-06, 0.49961162, 0.4993651, 0.0001...</td>\n",
       "      <td>[[1.5271153e-09, 2.3668392e-06, 0.9999976, 2.3...</td>\n",
       "    </tr>\n",
       "    <tr>\n",
       "      <th>2</th>\n",
       "      <td>[-0.042, -0.042, 0.0, 0.0, 0.0, -0.042, -0.042...</td>\n",
       "      <td>2.178828</td>\n",
       "      <td>[0.042, 0.042, 0.0, 0.0, 0.0, 0.042, 0.042, 0....</td>\n",
       "      <td>[0.0, 0.0, 0.0, 0.0, 0.0, 0.0, 0.0, 0.0, 0.0, ...</td>\n",
       "      <td>&lt;keras.engine.sequential.Sequential object at ...</td>\n",
       "      <td>[8]</td>\n",
       "      <td>[1]</td>\n",
       "      <td>[[6.2154206e-05, 0.4688987, 0.028566334, 0.000...</td>\n",
       "      <td>[[1.314088e-07, 0.9997528, 5.1175717e-05, 1.59...</td>\n",
       "    </tr>\n",
       "    <tr>\n",
       "      <th>3</th>\n",
       "      <td>[0.0, -0.195, 0.0, -0.195, 0.0, 0.0, -0.195, -...</td>\n",
       "      <td>2.178828</td>\n",
       "      <td>[0.0, 0.195, 0.0, 0.195, 0.0, 0.0, 0.195, 0.19...</td>\n",
       "      <td>[0.0, 0.0, 0.0, 0.0, 0.0, 0.0, 0.0, 0.0, 0.0, ...</td>\n",
       "      <td>&lt;keras.engine.sequential.Sequential object at ...</td>\n",
       "      <td>[9]</td>\n",
       "      <td>[0]</td>\n",
       "      <td>[[0.4989516, 4.408252e-13, 1.1531336e-06, 1.24...</td>\n",
       "      <td>[[1.0, 1.9534476e-11, 7.1165194e-09, 1.4548841...</td>\n",
       "    </tr>\n",
       "    <tr>\n",
       "      <th>4</th>\n",
       "      <td>[-0.025, 0.0, -0.025, 0.0, 0.0, -0.025, -0.025...</td>\n",
       "      <td>2.178828</td>\n",
       "      <td>[0.025, 0.0, 0.025, 0.0, 0.0, 0.025, 0.025, 0....</td>\n",
       "      <td>[0.0, 0.0, 0.0, 0.0, 0.0, 0.0, 0.0, 0.0, 0.0, ...</td>\n",
       "      <td>&lt;keras.engine.sequential.Sequential object at ...</td>\n",
       "      <td>[9]</td>\n",
       "      <td>[4]</td>\n",
       "      <td>[[7.845592e-06, 5.0798e-08, 2.5736144e-05, 1.7...</td>\n",
       "      <td>[[1.2861416e-07, 3.030192e-09, 4.914825e-07, 1...</td>\n",
       "    </tr>\n",
       "  </tbody>\n",
       "</table>\n",
       "</div>"
      ],
      "text/plain": [
       "                                                diff      dist  \\\n",
       "0  [-0.05, -0.05, -0.05, -0.05, 0.0, 0.0, -0.05, ...  2.178828   \n",
       "1  [-0.088, 0.0, -0.088, -0.088, -0.088, 0.0, 0.0...  2.178828   \n",
       "2  [-0.042, -0.042, 0.0, 0.0, 0.0, -0.042, -0.042...  2.178828   \n",
       "3  [0.0, -0.195, 0.0, -0.195, 0.0, 0.0, -0.195, -...  2.178828   \n",
       "4  [-0.025, 0.0, -0.025, 0.0, 0.0, -0.025, -0.025...  2.178828   \n",
       "\n",
       "                                     img_adversarial  \\\n",
       "0  [0.05, 0.05, 0.05, 0.05, 0.0, 0.0, 0.05, 0.0, ...   \n",
       "1  [0.088, 0.0, 0.088, 0.088, 0.088, 0.0, 0.0, 0....   \n",
       "2  [0.042, 0.042, 0.0, 0.0, 0.0, 0.042, 0.042, 0....   \n",
       "3  [0.0, 0.195, 0.0, 0.195, 0.0, 0.0, 0.195, 0.19...   \n",
       "4  [0.025, 0.0, 0.025, 0.0, 0.0, 0.025, 0.025, 0....   \n",
       "\n",
       "                                        img_original  \\\n",
       "0  [0.0, 0.0, 0.0, 0.0, 0.0, 0.0, 0.0, 0.0, 0.0, ...   \n",
       "1  [0.0, 0.0, 0.0, 0.0, 0.0, 0.0, 0.0, 0.0, 0.0, ...   \n",
       "2  [0.0, 0.0, 0.0, 0.0, 0.0, 0.0, 0.0, 0.0, 0.0, ...   \n",
       "3  [0.0, 0.0, 0.0, 0.0, 0.0, 0.0, 0.0, 0.0, 0.0, ...   \n",
       "4  [0.0, 0.0, 0.0, 0.0, 0.0, 0.0, 0.0, 0.0, 0.0, ...   \n",
       "\n",
       "                                               model  \\\n",
       "0  <keras.engine.sequential.Sequential object at ...   \n",
       "1  <keras.engine.sequential.Sequential object at ...   \n",
       "2  <keras.engine.sequential.Sequential object at ...   \n",
       "3  <keras.engine.sequential.Sequential object at ...   \n",
       "4  <keras.engine.sequential.Sequential object at ...   \n",
       "\n",
       "  prediction_class_adversarial prediction_class_original  \\\n",
       "0                          [3]                       [7]   \n",
       "1                          [1]                       [2]   \n",
       "2                          [8]                       [1]   \n",
       "3                          [9]                       [0]   \n",
       "4                          [9]                       [4]   \n",
       "\n",
       "                             predictions_adversarial  \\\n",
       "0  [[5.5026154e-05, 4.803903e-07, 0.00044326746, ...   \n",
       "1  [[1.4165728e-06, 0.49961162, 0.4993651, 0.0001...   \n",
       "2  [[6.2154206e-05, 0.4688987, 0.028566334, 0.000...   \n",
       "3  [[0.4989516, 4.408252e-13, 1.1531336e-06, 1.24...   \n",
       "4  [[7.845592e-06, 5.0798e-08, 2.5736144e-05, 1.7...   \n",
       "\n",
       "                                predictions_original  \n",
       "0  [[6.241464e-08, 5.1091437e-10, 6.8234435e-08, ...  \n",
       "1  [[1.5271153e-09, 2.3668392e-06, 0.9999976, 2.3...  \n",
       "2  [[1.314088e-07, 0.9997528, 5.1175717e-05, 1.59...  \n",
       "3  [[1.0, 1.9534476e-11, 7.1165194e-09, 1.4548841...  \n",
       "4  [[1.2861416e-07, 3.030192e-09, 4.914825e-07, 1...  "
      ]
     },
     "execution_count": 90,
     "metadata": {},
     "output_type": "execute_result"
    }
   ],
   "source": [
    "df_attacksFGSM= pd.DataFrame([vars(f) for f in imgAttacks])\n",
    "df_attacksFGSM.head()"
   ]
  },
  {
   "cell_type": "code",
   "execution_count": 66,
   "metadata": {},
   "outputs": [
    {
     "data": {
      "image/png": "[encoded data removed]",
      "text/plain": [
       "<Figure size 432x288 with 3 Axes>"
      ]
     },
     "metadata": {},
     "output_type": "display_data"
    }
   ],
   "source": [
    "plotAdvOri(imgAttacks[5].img_original.reshape(28,28),imgAttacks[5].img_adversarial.reshape(28,28))"
   ]
  },
  {
   "cell_type": "markdown",
   "metadata": {},
   "source": [
    "## Voyons comment se sont comporté les probabilités pour les 15 premières attaques"
   ]
  },
  {
   "cell_type": "code",
   "execution_count": 89,
   "metadata": {},
   "outputs": [
    {
     "data": {
      "image/png": "[encoded data removed]",
      "text/plain": [
       "<Figure size 1152x720 with 15 Axes>"
      ]
     },
     "metadata": {},
     "output_type": "display_data"
    }
   ],
   "source": [
    "f = plt.figure(figsize=(16,10))\n",
    "\n",
    "\n",
    "for i in range(1, 16):\n",
    "    plt.subplot(4, 4, i)\n",
    "    plt.scatter(np.arange(10), np.log(imgAttacks[i].predictions_original), label=\"original\")\n",
    "    plt.scatter(np.arange(10), np.log(imgAttacks[i].predictions_adversarial), label=\"adversarial\")\n",
    "    plt.legend(loc=4)\n",
    "    plt.title(\"Img N° {}\".format(i))\n",
    "\n",
    "#plt.title(\"log Probabilities for each class on original and adversarial\", loc=\"right\")\n",
    "\n",
    "\n",
    "plt.show()\n"
   ]
  },
  {
   "cell_type": "markdown",
   "metadata": {},
   "source": [
    "## Et maintenant est ce que les perturbation sont visibles à l'oeil humain?"
   ]
  },
  {
   "cell_type": "code",
   "execution_count": null,
   "metadata": {},
   "outputs": [],
   "source": []
  },
  {
   "cell_type": "code",
   "execution_count": 86,
   "metadata": {},
   "outputs": [
    {
     "data": {
      "image/png": "[encoded data removed]",
      "text/plain": [
       "<Figure size 432x288 with 3 Axes>"
      ]
     },
     "metadata": {},
     "output_type": "display_data"
    }
   ],
   "source": [
    "attackEps = foolbox.attacks.FGSM(gmodel)\n",
    "adversarialMExp = attackEps(images[3].reshape(784), labels[3],max_epsilon= )\n",
    "imgAttack1Exp=imgAttack(model)\n",
    "imgAttack1Exp.fill(images[3],adversarialMExp)\n",
    "    \n",
    "plotAdvOri(imgAttack1Exp.img_original.reshape(28,28),imgAttack1Exp.img_adversarial.reshape(28,28))"
   ]
  },
  {
   "cell_type": "code",
   "execution_count": 87,
   "metadata": {},
   "outputs": [
    {
     "data": {
      "image/png": "[encoded data removed]",
      "text/plain": [
       "<Figure size 432x288 with 1 Axes>"
      ]
     },
     "metadata": {},
     "output_type": "display_data"
    }
   ],
   "source": [
    " #reshaping it for model prediction\n",
    "#model_predictions_original = model.predict(images[0].reshape(1,784))\n",
    "#model_predictions_adversarial = model.predict(adversarialMM)\n",
    "#print(model_predictions_adversarial)\n",
    "\n",
    "plt.scatter(np.arange(10), np.log(model.predict(images[3].reshape(1,784))), label=\"original\")\n",
    "plt.scatter(np.arange(10), np.log( model.predict(adversarialMExp.reshape(1,784))), label=\"adversarial\")\n",
    "plt.legend()\n",
    "plt.title(\"log Probabilities for each class on original and adversarial\")\n",
    "plt.show()"
   ]
  },
  {
   "cell_type": "code",
   "execution_count": null,
   "metadata": {},
   "outputs": [],
   "source": []
  },
  {
   "cell_type": "code",
   "execution_count": null,
   "metadata": {},
   "outputs": [],
   "source": []
  }
 ],
 "metadata": {
  "kernelspec": {
   "display_name": "Python 3",
   "language": "python",
   "name": "python3"
  },
  "language_info": {
   "codemirror_mode": {
    "name": "ipython",
    "version": 3
   },
   "file_extension": ".py",
   "mimetype": "text/x-python",
   "name": "python",
   "nbconvert_exporter": "python",
   "pygments_lexer": "ipython3",
   "version": "3.6.5"
  }
 },
 "nbformat": 4,
 "nbformat_minor": 2
}
