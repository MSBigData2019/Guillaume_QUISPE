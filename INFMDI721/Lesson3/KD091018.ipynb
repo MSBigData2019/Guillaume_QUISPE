{
 "cells": [
  {
   "cell_type": "code",
   "execution_count": 168,
   "metadata": {},
   "outputs": [
    {
     "name": "stdout",
     "output_type": "stream",
     "text": [
      "Getting data from LVMH\n",
      "Getting data from AIRBUS\n",
      "Getting data from DANONE\n"
     ]
    },
    {
     "data": {
      "text/html": [
       "<div>\n",
       "<style scoped>\n",
       "    .dataframe tbody tr th:only-of-type {\n",
       "        vertical-align: middle;\n",
       "    }\n",
       "\n",
       "    .dataframe tbody tr th {\n",
       "        vertical-align: top;\n",
       "    }\n",
       "\n",
       "    .dataframe thead th {\n",
       "        text-align: right;\n",
       "    }\n",
       "</style>\n",
       "<table border=\"1\" class=\"dataframe\">\n",
       "  <thead>\n",
       "    <tr style=\"text-align: right;\">\n",
       "      <th></th>\n",
       "      <th>Company</th>\n",
       "      <th>CurrentPrice</th>\n",
       "      <th>ChangeRate</th>\n",
       "      <th>SaleDecember</th>\n",
       "      <th>ShareOwned</th>\n",
       "      <th>Dividend Company</th>\n",
       "      <th>Dividend industry</th>\n",
       "      <th>Dividend sector</th>\n",
       "    </tr>\n",
       "  </thead>\n",
       "  <tbody>\n",
       "    <tr>\n",
       "      <th>0</th>\n",
       "      <td>DANONE</td>\n",
       "      <td>€-1.40</td>\n",
       "      <td>(-2.14%)</td>\n",
       "      <td>6,072.60</td>\n",
       "      <td>50.60%</td>\n",
       "      <td>2.90</td>\n",
       "      <td>2.78</td>\n",
       "      <td>2.48</td>\n",
       "    </tr>\n",
       "    <tr>\n",
       "      <th>1</th>\n",
       "      <td>AIRBUS</td>\n",
       "      <td>€-1.66</td>\n",
       "      <td>(-1.68%)</td>\n",
       "      <td>23,493.00</td>\n",
       "      <td>43.53%</td>\n",
       "      <td>1.45</td>\n",
       "      <td>1.34</td>\n",
       "      <td>1.64</td>\n",
       "    </tr>\n",
       "    <tr>\n",
       "      <th>2</th>\n",
       "      <td>LVMH</td>\n",
       "      <td>€-3.35</td>\n",
       "      <td>(-1.26%)</td>\n",
       "      <td>13,667.70</td>\n",
       "      <td>20.63%</td>\n",
       "      <td>1.82</td>\n",
       "      <td>1.67</td>\n",
       "      <td>2.15</td>\n",
       "    </tr>\n",
       "  </tbody>\n",
       "</table>\n",
       "</div>"
      ],
      "text/plain": [
       "  Company CurrentPrice ChangeRate SaleDecember ShareOwned Dividend Company  \\\n",
       "0  DANONE       €-1.40   (-2.14%)     6,072.60     50.60%             2.90   \n",
       "1  AIRBUS       €-1.66   (-1.68%)    23,493.00     43.53%             1.45   \n",
       "2    LVMH       €-3.35   (-1.26%)    13,667.70     20.63%             1.82   \n",
       "\n",
       "  Dividend industry Dividend sector  \n",
       "0              2.78            2.48  \n",
       "1              1.34            1.64  \n",
       "2              1.67            2.15  "
      ]
     },
     "execution_count": 168,
     "metadata": {},
     "output_type": "execute_result"
    }
   ],
   "source": [
    "import requests\n",
    "import unittest\n",
    "import re\n",
    "from bs4 import BeautifulSoup\n",
    "import pandas as pd\n",
    "\n",
    "def getAttributesFromPage(company, url):\n",
    "    result = requests.get(url)\n",
    "    result.status_code\n",
    "    print( \"Getting data from \"+company)\n",
    "    if result.status_code == 200:\n",
    "        soup= BeautifulSoup(result.content, \"html.parser\")\n",
    "        trs=soup.find(\"td\" , text=\"Quarter Ending Dec-18\")\n",
    "        saleDecember = trs.findNext(\"td\").findNext(\"td\").text\n",
    "  \n",
    "        divprice= soup.findAll(\"div\", attrs={\"class\":\"sectionQuoteDetail\"})[1]\n",
    "        spanprice= divprice.find(\"span\", attrs={\"class\":u\"valueContent\"})\n",
    "        currentprice= spanprice.find(\"span\").text.strip()\n",
    "        changerate= spanprice.find(\"span\", \"valueContentPercent\").find(\"span\").text.strip()\n",
    " \n",
    "        shares=soup.find(\"strong\" , string=\"% Shares Owned:\").parent.parent.findAll(\"td\")[1].text\n",
    "        dividend=soup.find(\"td\" , string=\"Dividend Yield\").findNext(\"td\").parent.findAll(\"td\")\n",
    "        global df2\n",
    "        df2.loc[-1] = [company,currentprice, changerate, saleDecember, shares, dividend[1].text, dividend[2].text, \n",
    "                               dividend[3].text]  # adding a row\n",
    "        df2.index = df2.index + 1  # shifting index\n",
    "        df2 = df2.sort_index()  # sorting by index\n",
    "\n",
    "\n",
    "website_prefix = \"https://www.reuters.com/finance/stocks/financial-highlights/\"\n",
    "companies={\"LVMH\":\"LVMH.PA\",\n",
    "          \"AIRBUS\":\"AIR.PA\",\n",
    "          \"DANONE\":\"DANO.PA\"}\n",
    "columns=['Company', 'CurrentPrice', 'ChangeRate', 'SaleDecember', 'ShareOwned', 'Dividend Company', \n",
    "                            'Dividend industry','Dividend sector']\n",
    "df2 = pd.DataFrame(columns=columns)\n",
    "for key,value in companies.items():\n",
    "    getAttributesFromPage(key, website_prefix+value)\n",
    "df2.head()"
   ]
  },
  {
   "cell_type": "code",
   "execution_count": 122,
   "metadata": {},
   "outputs": [
    {
     "name": "stdout",
     "output_type": "stream",
     "text": [
      " Share owned are: 50.61%\n"
     ]
    }
   ],
   "source": []
  },
  {
   "cell_type": "code",
   "execution_count": 115,
   "metadata": {},
   "outputs": [
    {
     "name": "stdout",
     "output_type": "stream",
     "text": [
      "Dividend Yield for company : 1.92\n",
      "Dividend Yield for industry : 1.70\n",
      "Dividend Yield for sector : 2.60\n"
     ]
    }
   ],
   "source": []
  },
  {
   "cell_type": "code",
   "execution_count": null,
   "metadata": {},
   "outputs": [],
   "source": []
  }
 ],
 "metadata": {
  "kernelspec": {
   "display_name": "Python 3",
   "language": "python",
   "name": "python3"
  },
  "language_info": {
   "codemirror_mode": {
    "name": "ipython",
    "version": 3
   },
   "file_extension": ".py",
   "mimetype": "text/x-python",
   "name": "python",
   "nbconvert_exporter": "python",
   "pygments_lexer": "ipython3",
   "version": "3.6.5"
  }
 },
 "nbformat": 4,
 "nbformat_minor": 2
}
