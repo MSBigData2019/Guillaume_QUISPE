{
 "cells": [
  {
   "cell_type": "code",
   "execution_count": 1,
   "metadata": {},
   "outputs": [
    {
     "name": "stdout",
     "output_type": "stream",
     "text": [
      "[('0x00A', 0.0), ('thejameskyle', 0), ('dmalan', 0.48148148148148145), ('sevilayha', 0.5666666666666667), ('jiyinyiyong', 0.6), ('gdi2290', 0.8), ('stof', 0.9), ('STRML', 0.9333333333333333), ('rafaelfranca', 0.9333333333333333), ('stefanpenner', 1.0333333333333334), ('sokra', 1.0333333333333334), ('vjeux', 1.1333333333333333), ('dsyer', 1.2333333333333334), ('fengmk2', 1.2333333333333334), ('nelsonic', 1.2666666666666666), ('nfultz', 1.3666666666666667), ('afc163', 1.4), ('ljharb', 1.4), ('appleboy', 1.8333333333333333), ('arunoda', 1.8666666666666667), ('suissa', 2.0), ('steveklabnik', 2.1), ('mikermcneil', 2.3), ('IgorMinar', 2.6666666666666665), ('vladikoff', 2.7333333333333334), ('brentvatne', 2.7666666666666666), ('i5ting', 2.8333333333333335), ('vhf', 2.966666666666667), ('chenglou', 3.033333333333333), ('mxstbr', 3.2666666666666666), ('yoshuawuyts', 3.4), ('Ocramius', 3.466666666666667), ('alanhamlett', 3.466666666666667), ('bnoordhuis', 3.466666666666667), ('happypeter', 3.7333333333333334), ('mjhea0', 3.933333333333333), ('brianleroux', 4.333333333333333), ('ahmetb', 4.333333333333333), ('jaredhanson', 4.366666666666666), ('arun-gupta', 4.466666666666667), ('andrew', 4.5), ('taylorotwell', 4.5), ('alex', 4.7), ('dominictarr', 5.0), ('zce', 5.0), ('j2kun', 5.033333333333333), ('olivergierke', 5.166666666666667), ('phuslu', 5.266666666666667), ('mariotaku', 5.3), ('joyeecheung', 5.3), ('paulcbetts', 5.333333333333333), ('c9s', 5.5), ('weierophinney', 5.533333333333333), ('kevinsawicki', 5.6), ('josegonzalez', 5.766666666666667), ('samdark', 5.833333333333333), ('davidtmiller', 5.833333333333333), ('miyagawa', 5.9), ('michalbe', 6.0), ('kbrsh', 6.333333333333333), ('purcell', 6.6), ('EisenbergEffect', 6.666666666666667), ('shama', 6.733333333333333), ('curran', 7.3), ('ayende', 7.5), ('jonathanong', 7.733333333333333), ('dead-horse', 7.733333333333333), ('Seldaek', 7.933333333333334), ('alexcrichton', 8.4), ('ashleygwilliams', 8.866666666666667), ('dougwilson', 9.1), ('jennybc', 9.1), ('Raynos', 9.566666666666666), ('yyx990803', 9.766666666666667), ('drnic', 10.033333333333333), ('brunocvcunha', 11.1), ('nvie', 11.233333333333333), ('ianstormtaylor', 11.266666666666667), ('laanwj', 11.266666666666667), ('maryrosecook', 12.1), ('ornicar', 12.3), ('amueller', 12.3), ('egoist', 12.666666666666666), ('kytrinyx', 12.7), ('jamesmontemagno', 12.933333333333334), ('benbalter', 14.566666666666666), ('jxnblk', 14.666666666666666), ('contra', 14.8), ('developit', 15.1), ('isaacs', 15.7), ('rnystrom', 16.0), ('f', 16.033333333333335), ('odersky', 16.11111111111111), ('davidfowl', 16.666666666666668), ('matsko', 17.37037037037037), ('jdalton', 18.0), ('sdiehl', 18.1), ('madskristensen', 18.233333333333334), ('keijiro', 18.5), ('ask', 20.1), ('mitsuhiko', 20.3), ('pkrumins', 20.4), ('benjamn', 20.5), ('Haacked', 20.933333333333334), ('tmm1', 21.333333333333332), ('hzoo', 21.433333333333334), ('jskeet', 22.11111111111111), ('benoitc', 22.6), ('bebraw', 23.033333333333335), ('simurai', 23.2), ('yihui', 23.933333333333334), ('eduardolundgren', 24.933333333333334), ('jwiegley', 25.533333333333335), ('oldratlee', 26.366666666666667), ('leebyron', 27.8), ('fabpot', 28.066666666666666), ('jessfraz', 28.166666666666668), ('rstacruz', 28.233333333333334), ('mattn', 29.3), ('djspiewak', 29.333333333333332), ('Jinjiang', 31.366666666666667), ('killme2008', 31.866666666666667), ('AdamBien', 32.43333333333333), ('bevacqua', 32.5), ('remy', 34.3), ('shiffman', 35.233333333333334), ('ashfurrow', 35.5), ('tomchristie', 35.733333333333334), ('agentzh', 37.266666666666666), ('yegor256', 37.5), ('Caged', 38.46666666666667), ('atian25', 40.46666666666667), ('BurntSushi', 41.0), ('indutny', 42.666666666666664), ('atmos', 43.63333333333333), ('radar', 44.333333333333336), ('gaearon', 45.56666666666667), ('evanphx', 45.8), ('xudafeng', 48.03333333333333), ('staltz', 48.166666666666664), ('adamwathan', 53.56666666666667), ('KrauseFx', 56.53333333333333), ('codahale', 59.7), ('rauchg', 60.3), ('wesm', 62.06666666666667), ('dcramer', 62.13333333333333), ('mhevery', 62.4), ('orta', 62.5), ('SamyPesse', 62.5), ('mafintosh', 62.766666666666666), ('paulirish', 63.4), ('domenic', 63.56666666666667), ('jgm', 64.83333333333333), ('gitster', 65.22222222222223), ('dlew', 65.46666666666667), ('joshaber', 68.16666666666667), ('hadley', 68.16666666666667), ('weavejester', 70.36666666666666), ('biezhi', 70.86666666666666), ('passy', 70.96666666666667), ('pissang', 71.4), ('zcbenz', 74.0), ('Rich-Harris', 75.76666666666667), ('StephenGrider', 77.3), ('ericelliott', 80.16666666666667), ('technoweenie', 81.56666666666666), ('soffes', 82.0), ('mcollina', 88.86666666666666), ('notwaldorf', 94.96666666666667), ('josevalim', 98.1304347826087), ('geerlingguy', 98.66666666666667), ('willdurand', 99.0), ('phodal', 101.53333333333333), ('philsturgeon', 103.1), ('KittenYang', 103.6), ('feross', 103.9), ('muan', 104.3), ('unicodeveloper', 106.86666666666666), ('marijnh', 109.3), ('GrahamCampbell', 110.83333333333333), ('siddontang', 118.83333333333333), ('HugoGiraudel', 119.03333333333333), ('onevcat', 124.26666666666667), ('ebidel', 126.0), ('leah', 128.94736842105263), ('nicolasgramlich', 137.36666666666667), ('alexjlockwood', 137.76666666666668), ('eliben', 140.06666666666666), ('kentcdodds', 146.43333333333334), ('soumith', 152.86666666666667), ('mitchellh', 155.23333333333332), ('nikic', 159.63333333333333), ('tmcw', 159.96666666666667), ('anishathalye', 166.83333333333334), ('bkeepers', 170.33333333333334), ('yeasy', 180.76666666666668), ('ankane', 187.93333333333334), ('matyhtf', 192.45), ('buckyroberts', 192.63333333333333), ('ai', 196.13333333333333), ('jendewalt', 196.66666666666666), ('samuelclay', 197.07407407407408), ('evilsocket', 200.13333333333333), ('carpedm20', 200.66666666666666), ('DataTables', 201.86666666666667), ('rakyll', 203.96666666666667), ('JohnSundell', 218.36666666666667), ('overtrue', 220.66666666666666), ('kylef', 223.1), ('be5invis', 226.06666666666666), ('drakeet', 258.5652173913044), ('mgechev', 268.46666666666664), ('holman', 295.26666666666665), ('mrmrs', 301.0), ('chjj', 315.1666666666667), ('jverkoey', 320.53333333333336), ('mikepenz', 339.1333333333333), ('paulmillr', 343.53333333333336), ('rtomayko', 345.2916666666667), ('vczh', 347.3333333333333), ('mxcl', 369.03333333333336), ('winterbe', 370.46666666666664), ('dennybritz', 384.4), ('Shougo', 386.1333333333333), ('daylerees', 398.4), ('Unknwon', 401.6333333333333), ('Draveness', 427.0), ('tj', 435.6), ('ded', 437.0), ('amitshekhariitbhu', 457.56666666666666), ('mdo', 486.1333333333333), ('toddmotto', 486.9), ('LeaVerou', 528.1666666666666), ('steipete', 543.9), ('kennethreitz', 563.3), ('CamDavidsonPilon', 586.9), ('krzysztofzablocki', 590.2666666666667), ('fzaninotto', 629.6666666666666), ('connors', 643.8571428571429), ('gorhill', 851.125), ('binux', 855.7), ('photonstorm', 898.8), ('jaywcjlove', 952.9666666666667), ('josephmisiti', 1200.3333333333333), ('zenorocha', 1208.2), ('avelino', 1213.5), ('JakeWharton', 1308.2), ('nolimits4web', 1338.9285714285713), ('junyanz', 1373.0714285714287), ('ruanyf', 1375.6), ('IanLunn', 1402.0555555555557), ('sebastianbergmann', 1625.9666666666667), ('mrdoob', 1859.4333333333334), ('vinta', 1952.3), ('kamranahmedse', 3313.0333333333333), ('bailicangdu', 3503.5384615384614)]\n"
     ]
    }
   ],
   "source": [
    "import requests\n",
    "import unittest\n",
    "import re\n",
    "from bs4 import BeautifulSoup\n",
    "import pandas as pd\n",
    "from requests.auth import HTTPBasicAuth\n",
    "\n",
    "def getUsersFromPage(url):\n",
    "    result = requests.get(url)\n",
    "    result.status_code\n",
    "    users=[]\n",
    "    if result.status_code == 200:\n",
    "        soup= BeautifulSoup(result.content, \"html.parser\")\n",
    "        table=soup.find(\"table\")\n",
    "        trs=table.findAll(\"tr\")[1:]\n",
    "        for tr in trs: \n",
    "            td= tr.findAll(\"td\")[0]\n",
    "            a= td.find(\"a\")\n",
    "            users.append(a.text)\n",
    "    return users\n",
    "        \n",
    "def getStarsFromApi(users):\n",
    "    stars=[]\n",
    "    meanByUser=dict()\n",
    "    for user in users:\n",
    "        userUrl= api_url+user+\"/repos\"\n",
    "        result = requests.get(userUrl, headers=headers)\n",
    "        if result.status_code == 200:\n",
    "            data= result.json()\n",
    "            numberOfRepos= len(data)\n",
    "            stargazers=0\n",
    "            for repo in data:\n",
    "                stargazers+=repo[\"stargazers_count\"]\n",
    "            if numberOfRepos!=0:\n",
    "                meanByUser[user]=stargazers/numberOfRepos\n",
    "            else:\n",
    "                meanByUser[user]=0\n",
    "    return meanByUser\n",
    "\n",
    "def getStarsfromRepo(repos):\n",
    "    stars=[]\n",
    "    for repo in repos:\n",
    "        result = requests.get(repo,  auth=HTTPBasicAuth('user'))\n",
    "        if result.status_code == 200:\n",
    "            data= result.json()\n",
    "            stars.append(data[\"stargazers_url\"])\n",
    "    return stars\n",
    "\n",
    "website = \"https://gist.github.com/paulmillr/2657075\"\n",
    "api_url = \"https://api.github.com/users/\"\n",
    "\n",
    "\n",
    "\n",
    "\n",
    "api_token=\"68a26c325805e72196a11255997f6c7ba53dcb5f\"\n",
    "headers = {'Authorization': 'token %s' % api_token}\n",
    "\n",
    "\n",
    "users=getUsersFromPage(website)\n",
    "means= getStarsFromApi(users)\n",
    "meansSorted=sorted(means.items(), key=lambda x: x[1])\n",
    "\n",
    "print(meansSorted)"
   ]
  },
  {
   "cell_type": "code",
   "execution_count": null,
   "metadata": {},
   "outputs": [],
   "source": []
  },
  {
   "cell_type": "code",
   "execution_count": null,
   "metadata": {},
   "outputs": [],
   "source": []
  }
 ],
 "metadata": {
  "kernelspec": {
   "display_name": "Python 3",
   "language": "python",
   "name": "python3"
  },
  "language_info": {
   "codemirror_mode": {
    "name": "ipython",
    "version": 3
   },
   "file_extension": ".py",
   "mimetype": "text/x-python",
   "name": "python",
   "nbconvert_exporter": "python",
   "pygments_lexer": "ipython3",
   "version": "3.6.5"
  }
 },
 "nbformat": 4,
 "nbformat_minor": 2
}
