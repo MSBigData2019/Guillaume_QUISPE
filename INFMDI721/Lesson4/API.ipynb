{
 "cells": [
  {
   "cell_type": "code",
   "execution_count": 3,
   "metadata": {},
   "outputs": [
    {
     "name": "stdout",
     "output_type": "stream",
     "text": [
      "Token? 65d7e55c055af29509b55c564e2a8b6aa0b39716\n",
      "[('0x00A', 0.0), ('dmalan', 0.48148148148148145), ('sevilayha', 0.5666666666666667), ('stof', 0.9), ('STRML', 0.9333333333333333), ('rafaelfranca', 0.9333333333333333), ('stefanpenner', 1.0333333333333334), ('nelsonic', 1.2666666666666666), ('afc163', 1.4), ('ljharb', 1.4), ('appleboy', 1.8333333333333333), ('steveklabnik', 2.1), ('mikermcneil', 2.3), ('IgorMinar', 2.6666666666666665), ('chenglou', 3.033333333333333), ('yoshuawuyts', 3.4), ('Ocramius', 3.466666666666667), ('mjhea0', 3.933333333333333), ('brianleroux', 4.333333333333333), ('andrew', 4.5), ('taylorotwell', 4.5), ('c9s', 5.5), ('weierophinney', 5.533333333333333), ('kevinsawicki', 5.6), ('michalbe', 6.0), ('kbrsh', 6.333333333333333), ('curran', 7.3), ('ayende', 7.5), ('jonathanong', 7.733333333333333), ('alexcrichton', 8.4), ('drnic', 10.033333333333333), ('brunocvcunha', 11.1), ('nvie', 11.233333333333333), ('ianstormtaylor', 11.266666666666667), ('ornicar', 12.3), ('egoist', 12.666666666666666), ('kytrinyx', 12.7), ('benbalter', 14.566666666666666), ('jxnblk', 14.666666666666666), ('matsko', 17.37037037037037), ('jdalton', 18.0), ('mitsuhiko', 20.333333333333332), ('Haacked', 20.933333333333334), ('tmm1', 21.333333333333332), ('hzoo', 21.433333333333334), ('jskeet', 22.14814814814815), ('bebraw', 23.033333333333335), ('yihui', 23.933333333333334), ('jwiegley', 25.533333333333335), ('rstacruz', 28.233333333333334), ('agentzh', 37.266666666666666), ('yegor256', 37.5), ('Caged', 38.46666666666667), ('atmos', 43.63333333333333), ('gaearon', 45.56666666666667), ('adamwathan', 53.6), ('KrauseFx', 56.56666666666667), ('rauchg', 60.3), ('dcramer', 62.13333333333333), ('mhevery', 62.4), ('orta', 62.5), ('SamyPesse', 62.56666666666667), ('jgm', 64.83333333333333), ('dlew', 65.46666666666667), ('joshaber', 68.16666666666667), ('hadley', 68.16666666666667), ('zcbenz', 74.0), ('Rich-Harris', 75.76666666666667), ('technoweenie', 81.56666666666666), ('mcollina', 89.06666666666666), ('geerlingguy', 98.76666666666667), ('willdurand', 99.0), ('phodal', 101.56666666666666), ('feross', 103.96666666666667), ('muan', 104.3), ('GrahamCampbell', 110.86666666666666), ('HugoGiraudel', 119.1), ('alexjlockwood', 137.8), ('kentcdodds', 146.53333333333333), ('soumith', 152.86666666666667), ('mitchellh', 155.26666666666668), ('tmcw', 159.96666666666667), ('bkeepers', 170.4), ('buckyroberts', 192.8), ('ai', 196.16666666666666), ('DataTables', 201.96666666666667), ('kylef', 223.16666666666666), ('mgechev', 268.56666666666666), ('holman', 295.3), ('chjj', 315.2), ('jverkoey', 320.53333333333336), ('mikepenz', 339.1333333333333), ('paulmillr', 343.6), ('tj', 435.7), ('mdo', 486.1333333333333), ('steipete', 543.9333333333333), ('kennethreitz', 563.3333333333334), ('sebastianbergmann', 1626.7666666666667), ('kamranahmedse', 3314.5333333333333)]\n"
     ]
    }
   ],
   "source": [
    "import requests\n",
    "import unittest\n",
    "import re\n",
    "from bs4 import BeautifulSoup\n",
    "import pandas as pd\n",
    "\n",
    "def getUsersFromPage(url):\n",
    "    result = requests.get(url)\n",
    "    result.status_code\n",
    "    users=[]\n",
    "    if result.status_code == 200:\n",
    "        soup= BeautifulSoup(result.content, \"html.parser\")\n",
    "        table=soup.find(\"table\")\n",
    "        trs=table.findAll(\"tr\")[1:]\n",
    "        for tr in trs: \n",
    "            td= tr.findAll(\"td\")[0]\n",
    "            a= td.find(\"a\")\n",
    "            users.append(a.text)\n",
    "    else :\n",
    "        print(\"error getting users\"+result.status_code)\n",
    "    return users\n",
    "        \n",
    "def getStarsFromApi(users):\n",
    "    stars=[]\n",
    "    meanByUser=dict()\n",
    "    for user in users:\n",
    "        userUrl= api_url+user+\"/repos\"\n",
    "        result = requests.get(userUrl, headers=headers)\n",
    "        if result.status_code == 200:\n",
    "            data= result.json()\n",
    "            numberOfRepos= len(data)\n",
    "            stargazers=0\n",
    "            for repo in data:\n",
    "                stargazers+=repo[\"stargazers_count\"]\n",
    "            if numberOfRepos!=0:\n",
    "                meanByUser[user]=stargazers/numberOfRepos\n",
    "            else:\n",
    "                meanByUser[user]=0\n",
    "        else :\n",
    "            print(\"error getting repos\"+result.status_code)\n",
    "    return meanByUser\n",
    "\n",
    "def getStarsfromRepo(repos):\n",
    "    stars=[]\n",
    "    for repo in repos:\n",
    "        result = requests.get(repo,  headers=headers)\n",
    "        if result.status_code == 200:\n",
    "            data= result.json()\n",
    "            stars.append(data[\"stargazers_url\"])\n",
    "    return stars\n",
    "\n",
    "website = \"https://gist.github.com/paulmillr/2657075\"\n",
    "api_url = \"https://api.github.com/users/\"\n",
    "\n",
    "\n",
    "\n",
    "api_token = input(\"Token? \")\n",
    "headers = {'Authorization': 'token %s' % api_token}\n",
    "\n",
    "\n",
    "\n",
    "users=getUsersFromPage(website)\n",
    "means= getStarsFromApi(users[1:100])\n",
    "meansSorted=sorted(means.items(), key=lambda x: x[1])\n",
    "\n",
    "print(meansSorted)\n",
    "for key, value in meansSorted.items():\n",
    "    print"
   ]
  },
  {
   "cell_type": "code",
   "execution_count": null,
   "metadata": {},
   "outputs": [],
   "source": []
  },
  {
   "cell_type": "code",
   "execution_count": null,
   "metadata": {},
   "outputs": [],
   "source": []
  }
 ],
 "metadata": {
  "kernelspec": {
   "display_name": "Python 3",
   "language": "python",
   "name": "python3"
  },
  "language_info": {
   "codemirror_mode": {
    "name": "ipython",
    "version": 3
   },
   "file_extension": ".py",
   "mimetype": "text/x-python",
   "name": "python",
   "nbconvert_exporter": "python",
   "pygments_lexer": "ipython3",
   "version": "3.6.5"
  }
 },
 "nbformat": 4,
 "nbformat_minor": 2
}
