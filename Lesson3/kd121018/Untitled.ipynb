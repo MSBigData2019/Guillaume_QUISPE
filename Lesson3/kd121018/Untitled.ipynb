{
 "cells": [
  {
   "cell_type": "code",
   "execution_count": 52,
   "metadata": {},
   "outputs": [
    {
     "name": "stdout",
     "output_type": "stream",
     "text": [
      "Getting data from HP\n",
      "22.571428571428573\n",
      "Getting data from DELL\n",
      "27.11111111111111\n"
     ]
    }
   ],
   "source": [
    "import unittest\n",
    "import re\n",
    "from bs4 import BeautifulSoup\n",
    "import pandas as pd\n",
    "import requests\n",
    "\n",
    "def getAttributesFromPage(company, url):\n",
    "    result = requests.get(url)\n",
    "    result.status_code\n",
    "    print( \"Getting data from \"+company)\n",
    "    if result.status_code == 200:\n",
    "        soup= BeautifulSoup(result.content, \"html.parser\")\n",
    "        trs=soup.find_all(\"p\",{\"class\":\"darty_prix_barre_remise\"})\n",
    "        reduc=[]\n",
    "        for tr in trs:\n",
    "            reduc.append(int(tr.text.strip(\"-%\")))\n",
    "        mean= sum(reduc)/len(reduc)\n",
    "        print(mean)\n",
    "website_hp = \"https://www.darty.com/nav/achat/informatique/ordinateur_portable/portable/marque__hp__HP.html\"\n",
    "website_dell= \"https://www.darty.com/nav/achat/informatique/ordinateur_portable/portable/marque__dell__DELL.html\"\n",
    "companies={\"HP\":website_hp,\n",
    "          \"DELL\":website_dell}\n",
    "\n",
    "for key,value in companies.items():\n",
    "    getAttributesFromPage(key, value)\n",
    "\n",
    "\n"
   ]
  },
  {
   "cell_type": "code",
   "execution_count": null,
   "metadata": {},
   "outputs": [],
   "source": []
  },
  {
   "cell_type": "code",
   "execution_count": null,
   "metadata": {},
   "outputs": [],
   "source": []
  }
 ],
 "metadata": {
  "kernelspec": {
   "display_name": "Python 3",
   "language": "python",
   "name": "python3"
  },
  "language_info": {
   "codemirror_mode": {
    "name": "ipython",
    "version": 3
   },
   "file_extension": ".py",
   "mimetype": "text/x-python",
   "name": "python",
   "nbconvert_exporter": "python",
   "pygments_lexer": "ipython3",
   "version": "3.6.5"
  }
 },
 "nbformat": 4,
 "nbformat_minor": 2
}
