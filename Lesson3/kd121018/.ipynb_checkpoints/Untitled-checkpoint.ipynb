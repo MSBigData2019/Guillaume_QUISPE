{
 "cells": [
  {
   "cell_type": "code",
   "execution_count": 38,
   "metadata": {},
   "outputs": [
    {
     "ename": "SyntaxError",
     "evalue": "invalid syntax (<ipython-input-38-ed7de95c3ca4>, line 14)",
     "output_type": "error",
     "traceback": [
      "\u001b[0;36m  File \u001b[0;32m\"<ipython-input-38-ed7de95c3ca4>\"\u001b[0;36m, line \u001b[0;32m14\u001b[0m\n\u001b[0;31m    for i in range(0,len(trs))\u001b[0m\n\u001b[0m                              ^\u001b[0m\n\u001b[0;31mSyntaxError\u001b[0m\u001b[0;31m:\u001b[0m invalid syntax\n"
     ]
    }
   ],
   "source": [
    "import unittest\n",
    "import re\n",
    "from bs4 import BeautifulSoup\n",
    "import pandas as pd\n",
    "import requests\n",
    "\n",
    "def getAttributesFromPage(company, url):\n",
    "    result = requests.get(url)\n",
    "    result.status_code\n",
    "    print( \"Getting data from \"+company)\n",
    "    if result.status_code == 200:\n",
    "        soup= BeautifulSoup(result.content, \"html.parser\")\n",
    "        trs=soup.find_all(\"p\",{\"class\":\"darty_prix_barre_remise\"})\n",
    "        for tr in trs:\n",
    "            print(trs)\n",
    "        \n",
    "website_hp = \"https://www.darty.com/nav/achat/informatique/ordinateur_portable/portable/marque__hp__HP.html\"\n",
    "website_dell= \"https://www.darty.com/nav/achat/informatique/ordinateur_portable/portable/marque__dell__DELL.html\"\n",
    "companies={\"HP\":website_hp,\n",
    "          \"DELL\":website_dell}\n",
    "\n",
    "for key,value in companies.items():\n",
    "    getAttributesFromPage(key, value)\n",
    "\n",
    "\n"
   ]
  },
  {
   "cell_type": "code",
   "execution_count": null,
   "metadata": {},
   "outputs": [],
   "source": []
  },
  {
   "cell_type": "code",
   "execution_count": null,
   "metadata": {},
   "outputs": [],
   "source": []
  }
 ],
 "metadata": {
  "kernelspec": {
   "display_name": "Python 3",
   "language": "python",
   "name": "python3"
  },
  "language_info": {
   "codemirror_mode": {
    "name": "ipython",
    "version": 3
   },
   "file_extension": ".py",
   "mimetype": "text/x-python",
   "name": "python",
   "nbconvert_exporter": "python",
   "pygments_lexer": "ipython3",
   "version": "3.6.5"
  }
 },
 "nbformat": 4,
 "nbformat_minor": 2
}
